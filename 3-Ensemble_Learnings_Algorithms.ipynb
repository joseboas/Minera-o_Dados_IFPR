{
 "cells": [
  {
   "cell_type": "markdown",
   "metadata": {},
   "source": [
    "# Conteúdo adaptado do Portal Ciência dos Dados\n",
    "### # **Instagram - Ciencia dos Dados** \n",
    "<a href=\"http://instagram.com/cienciadosdados\">instagram.com/cienciadosdados</a>\n"
   ]
  },
  {
   "cell_type": "markdown",
   "metadata": {
    "id": "5-2OcPjFTQvJ"
   },
   "source": [
    "# **O que são Ensembles?**\n"
   ]
  },
  {
   "cell_type": "markdown",
   "metadata": {
    "id": "35mZp-9FT3qT"
   },
   "source": [
    "* O aprendizado por Ensemble é uma técnica de aprendizado em que **vários modelos individuais se combinam** para criar uma **máquina preditiva mestre.**\n",
    "\n",
    "* Um Ensemble nada mais é do que a técnica para combinar vários modelos preditivos individuais para chegar ao modelo preditivo final.\n",
    "\n",
    "* O objetivo para as técnicas Ensemble é melhorar a previsibilidade em modelos combinando vários modelos ou treinando diferentes conjuntos de dados com um único modelo para fazer um modelo muito forte.\n",
    "\n",
    "* Os métodos de ensemble mais populares na prática são **Boosting, Bagging e Stacking.**\n",
    "\n",
    "* Os métodos de ensemble são adequados para problemas de regressão e classificação, onde são usados ​​para reduzir a variância e o viés (bias) para aumentar a precisão dos modelos."
   ]
  },
  {
   "cell_type": "markdown",
   "metadata": {
    "id": "qH6xFf3FnFeg"
   },
   "source": [
    "![](https://cdn.analyticsvidhya.com/wp-content/uploads/2021/03/Screenshot-from-2021-03-10-14-30-00.png)"
   ]
  },
  {
   "cell_type": "markdown",
   "metadata": {
    "id": "SPRXC5GEVJn8"
   },
   "source": [
    "![](https://editor.analyticsvidhya.com/uploads/35982simple%20representation%20of%20Ensembel.png)"
   ]
  },
  {
   "cell_type": "markdown",
   "metadata": {
    "id": "CT0K2sa7VNiu"
   },
   "source": [
    "Aqui, os modelos A, B, C e D podem ser qualquer um dos seguintes algoritmos de Aprendizado de Máquina, pois estamos familiarizados com **Regressão Logística, Árvore de Decisão, SVM**, etc. \n",
    "\n",
    "Faz sentido para nós que um grupo de alunos (fraco) se reúne e forma uma comunidade de alunos mais forte, como resultado do aumento da precisão de qualquer modelo de aprendizado de máquina.\n",
    "\n",
    "A ideia por trás do **Ensemble é combinar os resultados de vários modelos (por exemplo, todas as árvores de decisão)** para obter um resultado generalizado. \n",
    "\n",
    "Aqui está uma pergunta: se você criar todos os modelos no mesmo conjunto de dados e combiná-los, isso será útil? Há uma grande chance de que esses modelos forneçam o mesmo resultado, pois estão obtendo a mesma entrada. Então, como podemos resolver esse problema? Uma das técnicas é o bootstrapping.\n",
    "\n",
    "**Bootstrapping** é uma técnica de amostragem na qual criamos subconjuntos de observações a partir do conjunto de dados original, com substituição . O tamanho dos subconjuntos é igual ao tamanho do conjunto original.\n",
    "Note: Os algorítmos de ML fazem isso de forma automática.\n",
    "\n",
    "A técnica de **Bagging (ou Bootstrap Aggregating)** usa esses subconjuntos (bolsas) para se ter uma ideia justa da distribuição (conjunto completo). O tamanho dos subconjuntos criados para ensacamento pode ser menor que o conjunto original."
   ]
  },
  {
   "cell_type": "markdown",
   "metadata": {
    "id": "uMTAH0SdYGoC"
   },
   "source": [
    "![](https://cdn.analyticsvidhya.com/wp-content/uploads/2018/05/Screenshot-from-2018-05-08-13-11-49-768x580.png)"
   ]
  },
  {
   "cell_type": "markdown",
   "metadata": {
    "id": "YJyb8arYhmDf"
   },
   "source": [
    "![](https://cienciadosdados.com/images/2021/ensemble.png)"
   ]
  },
  {
   "cell_type": "markdown",
   "metadata": {
    "id": "fM2H4ZghTFlx"
   },
   "source": [
    "# **==> Bagging**"
   ]
  },
  {
   "cell_type": "markdown",
   "metadata": {
    "id": "FH-QfGg9m2JS"
   },
   "source": [
    "\n",
    "![](https://www.researchgate.net/profile/Bernard-Chen/publication/269554356/figure/fig3/AS:467138126323716@1488385816918/A-decision-tree-based-bagging-model-for-GI-non-GI-gene-classification-A-A.png)\n",
    "![](https://miro.medium.com/max/2000/1*zTgGBTQIMlASWm5QuS2UpA.jpeg)"
   ]
  },
  {
   "cell_type": "markdown",
   "metadata": {
    "id": "Nz6I0ZxcVn7Y"
   },
   "source": [
    "**Bagging**: É o processo no qual se busca reduzir a variância e aumentar a precisão. Essa técnica consegue reduzir o overfitting, que foi um grande desafio em muitos modelos preditivos. No processo, são considerados um aluno fraco homogêneo (um modelo fraco) e os aprende independentemente uns dos outros(em paralelo) para depois se combinar seguindo o processo da média desses alunos (modelos)."
   ]
  },
  {
   "cell_type": "markdown",
   "metadata": {
    "id": "7d5qbC4-Vuxf"
   },
   "source": [
    "Além disso, é classificado em dois tipos como **Bootstrapping e Agregação .**\n",
    "\n",
    "1- A principal vantagem do método é que os alunos de base fraca são combinados para formar um único aluno forte, que é **mais estável do que alunos isolados.**\n",
    "\n",
    "2 - Ele também elimina qualquer variação e **reduz o sobreajuste (overfiting)** dos modelos.\n",
    "\n",
    "3 - Computacionalmente intenso (processamento na tora, na máxima...) é o maior desafio deste método."
   ]
  },
  {
   "cell_type": "markdown",
   "metadata": {
    "id": "NXHwTypYols6"
   },
   "source": [
    "### Bagging - Conjunto de árvores de decisão"
   ]
  },
  {
   "cell_type": "markdown",
   "metadata": {
    "id": "ca8SuR7Zood2"
   },
   "source": [
    "O metaestimador de bagging é um algoritmo de ensembling que pode ser usado para problemas de classificação (BaggingClassifier) ​​e de regressão (BaggingRegressor). Ele segue a técnica típica de ensacamento para fazer previsões. A seguir estão as etapas para o algoritmo de metaestimador de bagging:\n",
    "\n",
    "1. Subconjuntos aleatórios são criados a partir do conjunto de dados original (Bootstrapping).\n",
    "\n",
    "2. O subconjunto do conjunto de dados inclui todos os recursos.\n",
    "\n",
    "3. Um estimador de base especificado pelo usuário é ajustado em cada um desses conjuntos menores.\n",
    "\n",
    "4. As previsões de cada modelo são combinadas para obter o resultado final."
   ]
  },
  {
   "cell_type": "markdown",
   "metadata": {
    "id": "s1MB14HYJP3c"
   },
   "source": [
    "### **Obs: Aula de Validação Cruzada:**\n",
    "\n",
    "https://youtu.be/FI3RlY9AaVs"
   ]
  },
  {
   "cell_type": "code",
   "execution_count": null,
   "metadata": {
    "colab": {
     "base_uri": "https://localhost:8080/"
    },
    "id": "sDRhTymJS7VC",
    "outputId": "43d3dce9-d9f0-440d-fb69-9302bbdffb9a"
   },
   "outputs": [],
   "source": [
    "# Import dos módulos\n",
    "from pandas import read_csv\n",
    "from sklearn.model_selection import KFold\n",
    "from sklearn.model_selection import cross_val_score\n",
    "from sklearn.ensemble import BaggingClassifier\n",
    "\n",
    "# Carregando os dados\n",
    "arquivo = 'pima-data.csv'\n",
    "colunas = ['preg', 'plas', 'pres', 'skin', 'test', 'mass', 'pedi', 'age', 'class']\n",
    "dados = read_csv(arquivo, names = colunas)\n",
    "array = dados.values\n",
    "\n",
    "# Separando o array em componentes de input e output\n",
    "X = array[:,0:8]\n",
    "Y = array[:,8]\n",
    "\n",
    "# Definindo os valores para o número de folds\n",
    "num_folds = 10\n",
    "seed = 7\n",
    "\n",
    "# Definindo o número de trees\n",
    "num_trees = 100\n",
    "max_features = 6\n",
    "\n",
    "# Separando os dados em folds\n",
    "kfold = KFold(num_folds, shuffle= True, random_state = seed)\n",
    "\n",
    "# Criando o modelo\n",
    "modelo = BaggingClassifier(n_estimators = num_trees, max_features = max_features)\n",
    "# Cross Validation\n",
    "for score in [\"accuracy\", \"precision\", \"recall\"]:\n",
    "        resultado = cross_val_score(modelo, X, Y, cv = kfold,scoring=score)\n",
    "        if score == 'precision':\n",
    "            precision = resultado.mean()\n",
    "        elif score == 'recall':\n",
    "            recall = resultado.mean()        \n",
    "        print(f'{score}:{resultado}')\n",
    "        print(f'Mean {score}:{resultado.mean() * 100}')\n",
    "        \n",
    "f1_score = (2 * precision * recall) / (precision + recall)\n",
    "print(f'f1_score = {f1_score * 100}')\n",
    "\n",
    "\n",
    "# Print do resultado\n",
    "#print(\"Acurácia: %.3f\" % (resultado.mean() * 100))"
   ]
  },
  {
   "cell_type": "markdown",
   "metadata": {
    "id": "pbWu2rInqLTo"
   },
   "source": [
    "### ExtraTree"
   ]
  },
  {
   "cell_type": "markdown",
   "metadata": {
    "id": "w_Fppa05qbfu"
   },
   "source": [
    "Extremely Randomized Trees ou Árvores Extremamente Randomizadas. É um Algoritmo com um conjunto de árvores de decisão e está relacionado a outros conjuntos\n",
    "de algoritmos de árvores de decisão, como agregação de bootstrap (bagging) e floresta aleatória.\n",
    "\n",
    "O algoritmo Extra Trees funciona criando um grande número de árvores de decisão não ajustadas a partir do\n",
    "conjunto de dados de treinamento. \n",
    "\n",
    "As previsões são feitas calculando a média da previsão das árvores de decisão no caso de regressão ou uso de votação por maioria no caso de classificação."
   ]
  },
  {
   "cell_type": "code",
   "execution_count": 2,
   "metadata": {
    "colab": {
     "base_uri": "https://localhost:8080/"
    },
    "id": "HmC0Wi5zqP56",
    "outputId": "317d189b-fb21-4ef8-eaf6-01af972c26f1"
   },
   "outputs": [
    {
     "name": "stdout",
     "output_type": "stream",
     "text": [
      "accuracy:[0.76623377 0.79220779 0.7012987  0.77922078 0.77922078 0.80519481\n",
      " 0.68831169 0.79220779 0.76315789 0.75      ]\n",
      "Mean accuracy:76.17053998632947\n",
      "precision:[0.76923077 0.77777778 0.5625     0.65384615 0.73913043 0.73684211\n",
      " 0.58823529 0.77777778 0.57142857 0.73076923]\n",
      "Mean precision:69.07538114993694\n",
      "recall:[0.61290323 0.57692308 0.62962963 0.65217391 0.59259259 0.56\n",
      " 0.4137931  0.72727273 0.625      0.58064516]\n",
      "Mean recall:59.70933430006554\n",
      "f1_score = 64.05177835854667\n"
     ]
    }
   ],
   "source": [
    "# Import dos módulos\n",
    "from pandas import read_csv\n",
    "from sklearn.model_selection import KFold\n",
    "from sklearn.model_selection import cross_val_score\n",
    "from sklearn.ensemble import ExtraTreesClassifier\n",
    "\n",
    "# Carregando os dados\n",
    "arquivo = 'pima-data.csv'\n",
    "colunas = ['preg', 'plas', 'pres', 'skin', 'test', 'mass', 'pedi', 'age', 'class']\n",
    "dados = read_csv(arquivo, names = colunas)\n",
    "array = dados.values\n",
    "\n",
    "# Separando o array em componentes de input e output\n",
    "X = array[:,0:8]\n",
    "Y = array[:,8]\n",
    "\n",
    "# Definindo os valores para o número de folds\n",
    "num_folds = 10\n",
    "seed = 7\n",
    "\n",
    "# Definindo o número de trees\n",
    "num_trees = 100\n",
    "max_features = 7\n",
    "\n",
    "# Separando os dados em folds\n",
    "kfold = KFold(num_folds, shuffle= True, random_state = seed)\n",
    "\n",
    "# Criando o modelo\n",
    "modelo = ExtraTreesClassifier(n_estimators = num_trees, max_features = max_features)\n",
    "\n",
    "# Cross Validation\n",
    "for score in [\"accuracy\", \"precision\", \"recall\"]:\n",
    "        resultado = cross_val_score(modelo, X, Y, cv = kfold,scoring=score)\n",
    "        if score == 'precision':\n",
    "            precision = resultado.mean()\n",
    "        elif score == 'recall':\n",
    "            recall = resultado.mean()        \n",
    "        print(f'{score}:{resultado}')\n",
    "        print(f'Mean {score}:{resultado.mean() * 100}')\n",
    "        \n",
    "f1_score = (2 * precision * recall) / (precision + recall)\n",
    "print(f'f1_score = {f1_score * 100}')"
   ]
  },
  {
   "cell_type": "markdown",
   "metadata": {
    "id": "kKk6XwHqS7VB"
   },
   "source": [
    "### Random Forest"
   ]
  },
  {
   "cell_type": "markdown",
   "metadata": {
    "id": "CGZ71eZfS7VB"
   },
   "source": [
    "Random Forest é uma extensão do Baggig Decision Tree. Amostras do dataset de treino são usadas com reposição, mas as árvores são criadas de uma forma que reduz a correlação entre classificadores individuais (Random Forest é um conjunto de árvores de decisão)."
   ]
  },
  {
   "cell_type": "markdown",
   "metadata": {
    "id": "e5GLHEWVo3yU"
   },
   "source": [
    "Random Forest é outro algoritmo de aprendizado de máquina de conjunto que segue a técnica de ensacamento. É uma extensão do algoritmo do estimador de bagging. Os estimadores de base em floresta aleatória são árvores de decisão. Ao contrário do metaestimador de ensacamento, a floresta aleatória seleciona aleatoriamente um conjunto de recursos que são usados ​​para decidir a melhor divisão em cada nó da árvore de decisão.\n",
    "\n",
    "Olhando passo a passo, isso é o que um modelo de floresta aleatório faz:\n",
    "\n",
    "1. Subconjuntos aleatórios são criados a partir do conjunto de dados original (bootstrapping).\n",
    "\n",
    "2. Em cada nó da árvore de decisão, apenas um conjunto aleatório de recursos é considerado para decidir a melhor divisão.\n",
    "\n",
    "3. Um modelo de árvore de decisão é ajustado em cada um dos subconjuntos.\n",
    "\n",
    "4. A previsão final é calculada pela média das previsões de todas as árvores de decisão."
   ]
  },
  {
   "cell_type": "code",
   "execution_count": 3,
   "metadata": {
    "colab": {
     "base_uri": "https://localhost:8080/"
    },
    "id": "hcscLgfFoDzw",
    "outputId": "8b409ae3-4f35-4ce9-d973-d70b43a179b5"
   },
   "outputs": [
    {
     "name": "stdout",
     "output_type": "stream",
     "text": [
      "accuracy:[0.77922078 0.81818182 0.7012987  0.77922078 0.79220779 0.81818182\n",
      " 0.62337662 0.77922078 0.80263158 0.73684211]\n",
      "Mean accuracy:76.30382775119617\n",
      "precision:[0.82142857 0.7        0.6        0.61904762 0.73913043 0.66666667\n",
      " 0.55555556 0.8        0.61111111 0.72      ]\n",
      "Mean precision:68.32939958592132\n",
      "recall:[0.70967742 0.53846154 0.55555556 0.65217391 0.62962963 0.64\n",
      " 0.34482759 0.75757576 0.5625     0.61290323]\n",
      "Mean recall:60.03304625634147\n",
      "f1_score = 63.91311694154523\n"
     ]
    }
   ],
   "source": [
    "# Import dos módulos\n",
    "from pandas import read_csv\n",
    "from sklearn.model_selection import KFold\n",
    "from sklearn.model_selection import cross_val_score\n",
    "from sklearn.ensemble import RandomForestClassifier\n",
    "\n",
    "# Carregando os dados\n",
    "arquivo = 'pima-data.csv'\n",
    "colunas = ['preg', 'plas', 'pres', 'skin', 'test', 'mass', 'pedi', 'age', 'class']\n",
    "dados = read_csv(arquivo, names = colunas)\n",
    "array = dados.values\n",
    "\n",
    "# Separando o array em componentes de input e output\n",
    "X = array[:,0:8]\n",
    "Y = array[:,8]\n",
    "\n",
    "# Definindo os valores para o número de folds\n",
    "num_folds = 10\n",
    "seed = 7\n",
    "\n",
    "# Definindo o número de trees\n",
    "num_trees = 100\n",
    "max_features = 2\n",
    "\n",
    "# Separando os dados em folds\n",
    "kfold = KFold(num_folds, shuffle= True, random_state = seed)\n",
    "\n",
    "# Criando o modelo\n",
    "modelo = RandomForestClassifier(n_estimators = num_trees, max_features = max_features)\n",
    "\n",
    "# Cross Validation\n",
    "for score in [\"accuracy\", \"precision\", \"recall\"]:\n",
    "        resultado = cross_val_score(modelo, X, Y, cv = kfold,scoring=score)\n",
    "        if score == 'precision':\n",
    "            precision = resultado.mean()\n",
    "        elif score == 'recall':\n",
    "            recall = resultado.mean()        \n",
    "        print(f'{score}:{resultado}')\n",
    "        print(f'Mean {score}:{resultado.mean() * 100}')\n",
    "        \n",
    "f1_score = (2 * precision * recall) / (precision + recall)\n",
    "print(f'f1_score = {f1_score * 100}')"
   ]
  },
  {
   "cell_type": "markdown",
   "metadata": {
    "id": "rsK8j761E7ni"
   },
   "source": [
    "# **Parâmetros mais utilizados**\n",
    "\n",
    "\n",
    "**n_estimators**:\n",
    "It defines the number of decision trees to be created in a random forest.\n",
    "\n",
    "Generally, a higher number makes the predictions stronger and more stable, but a very large number can result in higher training time.\n",
    "\n",
    "**criterion**:\n",
    "It defines the function that is to be used for splitting.\n",
    "The function measures the quality of a split for each feature and chooses the best split.\n",
    "\n",
    "**max_features** :\n",
    "It defines the maximum number of features allowed for the split in each decision tree.\n",
    "Increasing max features usually improve performance but a very high number can decrease the diversity of each tree.\n",
    "\n",
    "**max_depth**:\n",
    "Random forest has multiple decision trees. This parameter defines the maximum depth of the trees.\n",
    "\n",
    "**min_samples_split**:\n",
    "Used to define the minimum number of samples required in a leaf node before a split is attempted.\n",
    "If the number of samples is less than the required number, the node is not split.\n",
    "\n",
    "**min_samples_leaf**:\n",
    "This defines the minimum number of samples required to be at a leaf node.\n",
    "Smaller leaf size makes the model more prone to capturing noise in train data.\n",
    "\n",
    "**max_leaf_nodes**:\n",
    "This parameter specifies the maximum number of leaf nodes for each tree.\n",
    "The tree stops splitting when the number of leaf nodes becomes equal to the max leaf node.\n",
    "\n",
    "**n_jobs**:\n",
    "This indicates the number of jobs to run in parallel.\n",
    "Set value to -1 if you want it to run on all cores in the system.\n",
    "\n",
    "**random_state**:\n",
    "This parameter is used to define the random selection.\n",
    "It is used for comparison between various models."
   ]
  },
  {
   "cell_type": "markdown",
   "metadata": {
    "id": "Wod38lFcTIyQ"
   },
   "source": [
    "# **==> Boosting - Aprende com os erros dos outros modelos** \n"
   ]
  },
  {
   "cell_type": "markdown",
   "metadata": {
    "id": "hTL4OlrCbvBy"
   },
   "source": [
    "![](https://editor.analyticsvidhya.com/uploads/26025ada1.png)"
   ]
  },
  {
   "cell_type": "markdown",
   "metadata": {
    "id": "KtXnoOYsWOq2"
   },
   "source": [
    "**Boosting**:  Método Ensemble mais amplamente utilizado e poderoso. Na verdade, ele foi projetado para problemas de classificação e posteriormente estendido para problema de regressão também. Esta é basicamente uma combinação de mais de 3 algoritmos fracos (alunos) para gerar um aluno forte."
   ]
  },
  {
   "cell_type": "markdown",
   "metadata": {
    "id": "UXLIN_1cYOz1"
   },
   "source": [
    "Antes de prosseguirmos, aqui está outra pergunta para você: Se um ponto de dados for previsto incorretamente pelo primeiro modelo e depois pelo próximo (provavelmente todos os modelos), a combinação das previsões fornecerá melhores resultados? \n",
    "\n",
    "Essas situações são resolvidas por meio de reforço.\n",
    "\n",
    "**Boosting** é um processo sequencial, **onde cada modelo subsequente tenta corrigir os erros do modelo anterior**. "
   ]
  },
  {
   "cell_type": "markdown",
   "metadata": {
    "id": "IMGfENDbYcP7"
   },
   "source": [
    "1. Um subconjunto é criado a partir do conjunto de dados original.\n",
    "2. Inicialmente, todos os pontos de dados recebem pesos iguais.\n",
    "3. Um modelo básico é criado neste subconjunto.\n",
    "4. Este modelo é usado para fazer previsões em todo o conjunto de dados.\n",
    "\n",
    "![](https://cdn.analyticsvidhya.com/wp-content/uploads/2015/11/dd1-e1526989432375.png)"
   ]
  },
  {
   "cell_type": "markdown",
   "metadata": {
    "id": "dJIUArzsYqhz"
   },
   "source": [
    "5. Os erros são calculados usando os valores reais e os valores previstos.\n",
    "6. As observações que são previstas incorretamente recebem pesos maiores.\n",
    "(Aqui, os três pontos azuis mal classificados receberão pesos maiores)\n",
    "7. Outro modelo é criado e as previsões são feitas no conjunto de dados.\n",
    "(Este modelo tenta corrigir os erros do modelo anterior)\n",
    "\n",
    "![](https://cdn.analyticsvidhya.com/wp-content/uploads/2015/11/dd2-e1526989487878.png)"
   ]
  },
  {
   "cell_type": "markdown",
   "metadata": {
    "id": "c6t7uNQvYzE9"
   },
   "source": [
    "8. Da mesma forma, vários modelos são criados, cada um corrigindo os erros do modelo anterior.\n",
    "9. O modelo final (aluno forte) é a média ponderada de todos os modelos (alunos fracos)\n",
    "\n",
    "![](https://www.analyticsvidhya.com/wp-content/uploads/2015/11/boosting10.png)"
   ]
  },
  {
   "cell_type": "markdown",
   "metadata": {
    "id": "AbkoP-tlY-81"
   },
   "source": [
    "Assim, o algoritmo de reforço combina vários alunos fracos para formar um aluno forte. Os modelos individuais não teriam um bom desempenho em todo o conjunto de dados, mas funcionam bem para alguma parte do conjunto de dados. **Assim, cada modelo realmente impulsiona o desempenho do conjunto.**\n",
    "\n",
    "![](https://cdn.analyticsvidhya.com/wp-content/uploads/2015/11/dd4-e1526551014644.**png**)"
   ]
  },
  {
   "cell_type": "markdown",
   "metadata": {
    "id": "bEupWR0OptJK"
   },
   "source": [
    "## Algoritmos Boosting"
   ]
  },
  {
   "cell_type": "markdown",
   "metadata": {
    "id": "p1xLI5i-pGUg"
   },
   "source": [
    "###  AdaBoost"
   ]
  },
  {
   "cell_type": "markdown",
   "metadata": {
    "id": "fEgVwkkkJ_JM"
   },
   "source": [
    "O boosting adaptativo ou AdaBoost é um dos algoritmos de boosting mais simples. Normalmente, as árvores de decisão são usadas para modelagem. Vários modelos sequenciais são criados, cada um corrigindo os erros do último modelo. AdaBoost atribui pesos às observações que são previstas incorretamente e o modelo subsequente trabalha para prever esses valores corretamente.\n",
    "\n",
    "Abaixo estão as etapas para executar o algoritmo AdaBoost:\n",
    "\n",
    "1. Inicialmente, todas as observações no conjunto de dados recebem pesos iguais.\n",
    "\n",
    "2. Um modelo é construído em um subconjunto de dados.\n",
    "\n",
    "3. Usando este modelo, as previsões são feitas em todo o conjunto de dados.\n",
    "\n",
    "4. Os erros são calculados comparando as previsões e os valores reais.\n",
    "\n",
    "5. Ao criar o próximo modelo, pesos maiores são dados aos pontos de dados que foram previstos incorretamente.\n",
    "\n",
    "6. Os pesos podem ser determinados usando o valor de erro. Por exemplo, quanto maior o erro, maior é o peso atribuído à observação.\n",
    "\n",
    "7. Este processo é repetido até que a função de erro não mude ou o limite máximo do número de estimadores seja atingido."
   ]
  },
  {
   "cell_type": "markdown",
   "metadata": {
    "id": "psjmTbPHKdMs"
   },
   "source": [
    "==> Vantagens e Desvantagens\n",
    "\n",
    "Chegando às vantagens, o Adaboost é menos sujeito a sobreajuste, pois os parâmetros de entrada não são otimizados em conjunto. A precisão de classificadores fracos pode ser melhorada usando Adaboost. Hoje em dia, o Adaboost está sendo usado para classificar textos e imagens, em vez de problemas de classificação binária.\n",
    "\n",
    "A principal desvantagem do Adaboost é que ele precisa de um conjunto de dados de qualidade. Dados com ruído e valores discrepantes devem ser evitados antes de adotar um algoritmo Adaboost."
   ]
  },
  {
   "cell_type": "code",
   "execution_count": 4,
   "metadata": {
    "colab": {
     "base_uri": "https://localhost:8080/"
    },
    "id": "IDqLsNJGKlbh",
    "outputId": "88fbad74-7d2b-4aff-cd2a-d1e00287671c"
   },
   "outputs": [
    {
     "name": "stdout",
     "output_type": "stream",
     "text": [
      "AdaBoost Accuracy:  0.965034965034965\n"
     ]
    }
   ],
   "source": [
    "# Importação de Pacotes\n",
    "import pandas as pd\n",
    "import numpy as np\n",
    "from sklearn.ensemble import AdaBoostClassifier\n",
    "from sklearn.tree import DecisionTreeClassifier\n",
    "from sklearn.datasets import load_breast_cancer\n",
    "from sklearn.model_selection import train_test_split\n",
    "from sklearn.metrics import confusion_matrix, accuracy_score\n",
    "from sklearn.preprocessing import LabelEncoder\n",
    "\n",
    "# Carregando o Dataset direto do Sklear\n",
    "breast_cancer = load_breast_cancer()\n",
    "\n",
    "# Separação das features (variáveis) e do Target\n",
    "X = pd.DataFrame(breast_cancer.data, columns = breast_cancer.feature_names)\n",
    "y = pd.Categorical.from_codes(breast_cancer.target, breast_cancer.target_names)\n",
    "\n",
    "# Transformação da Label em numérico\n",
    "encoder = LabelEncoder()\n",
    "binary_encoded_y = pd.Series(encoder.fit_transform(y))\n",
    "\n",
    "# Separação ou Amostragem\n",
    "train_X, test_X, train_y, test_y = train_test_split(X, binary_encoded_y, random_state = 1)\n",
    "\n",
    "# Criar e trinamos a Máquina Preditiva\n",
    "classifier = AdaBoostClassifier(n_estimators=1000)\n",
    "classifier.fit(train_X, train_y)\n",
    "\n",
    "# Predição com dados de Teste\n",
    "prediction = classifier.predict(test_X)\n",
    "\n",
    "#Avaliação da MP\n",
    "confusion_matrix(test_y, prediction)\n",
    "\n",
    "accuracy = accuracy_score(test_y, prediction)\n",
    "print('AdaBoost Accuracy: ', accuracy)\n",
    "\n"
   ]
  },
  {
   "cell_type": "markdown",
   "metadata": {
    "id": "QCyb0wtzLBc0"
   },
   "source": [
    "![](https://cienciadosdados.com/images/2021/Thumbs/adaboost.png)"
   ]
  },
  {
   "cell_type": "markdown",
   "metadata": {
    "id": "f1d7cwQrpGdl"
   },
   "source": [
    "### GBM - Gradient Boosting Machine"
   ]
  },
  {
   "cell_type": "markdown",
   "metadata": {
    "id": "Fsvybhi7ywX2"
   },
   "source": [
    "Os modelos em Gradient Boosting Machine são construídos sequencialmente e cada um desses modelos subsequentes tenta reduzir o erro do modelo anterior. **Mas a questão é como cada modelo reduz o erro do modelo anterior?** Isso é feito construindo o novo modelo sobre os erros ou resíduos das previsões anteriores.\n",
    "\n",
    "Isso é feito para determinar se há algum padrão no erro que foi perdido pelo modelo anterior.\n"
   ]
  },
  {
   "cell_type": "markdown",
   "metadata": {
    "id": "GsN9BB720qK_"
   },
   "source": [
    "#### Passo 1"
   ]
  },
  {
   "cell_type": "markdown",
   "metadata": {
    "id": "lf0DRcv4zLmp"
   },
   "source": [
    "A primeira etapa é construir um modelo e fazer previsões sobre os dados fornecidos. Vamos voltar aos nossos dados, para o primeiro modelo, a meta será o valor da receita fornecido nos dados. Portanto, eu defini a meta como valores originais de Renda.\n",
    "\n",
    "![](https://cdn.analyticsvidhya.com/wp-content/uploads/2021/03/Screenshot-from-2021-03-25-12-24-34-850x388.png)"
   ]
  },
  {
   "cell_type": "markdown",
   "metadata": {
    "id": "g14pQxAuzPDI"
   },
   "source": [
    "Agora vamos construir o modelo usando os recursos idade e cidade com a renda alvo. Este modelo treinado será capaz de gerar um conjunto de previsões. \n",
    "\n",
    "\n",
    "![](https://cdn.analyticsvidhya.com/wp-content/uploads/2021/03/Screenshot-from-2021-03-25-12-29-47.png)"
   ]
  },
  {
   "cell_type": "markdown",
   "metadata": {
    "id": "WwsYVhLfzPF0"
   },
   "source": [
    "Agora vou armazenar essas previsões com meus dados. É aqui que eu concluo a primeira etapa.\n",
    "\n",
    "\n",
    "\n",
    "![](https://cdn.analyticsvidhya.com/wp-content/uploads/2021/03/Screenshot-from-2021-03-25-12-30-22.png)"
   ]
  },
  {
   "cell_type": "markdown",
   "metadata": {
    "id": "AFgo0wBU02Y8"
   },
   "source": [
    "#### Passo 2"
   ]
  },
  {
   "cell_type": "markdown",
   "metadata": {
    "id": "6KAVD2ux02bs"
   },
   "source": [
    "A próxima etapa é usar essas previsões para obter o erro, que será usado posteriormente como um alvo. No momento temos os valores da Receita Real e as previsões do modelo1. Usando essas colunas, calcularemos o erro simplesmente subtraindo a renda real e as previsões de renda. A mostrado abaixo."
   ]
  },
  {
   "cell_type": "markdown",
   "metadata": {
    "id": "dfZSSkmvzPIg"
   },
   "source": [
    "![](https://cdn.analyticsvidhya.com/wp-content/uploads/2021/03/Screenshot-from-2021-03-25-12-40-12.png)\n",
    "\n",
    "Como mencionamos anteriormente, os modelos sucessivos enfocam o erro. Portanto, os erros aqui serão nosso novo alvo. Isso cobre a etapa dois."
   ]
  },
  {
   "cell_type": "markdown",
   "metadata": {
    "id": "87mALRrH1E3M"
   },
   "source": [
    "#### Passo 3"
   ]
  },
  {
   "cell_type": "markdown",
   "metadata": {
    "id": "y6lWrOw5zPKu"
   },
   "source": [
    "Na próxima etapa, construiremos um modelo sobre esses erros e faremos as previsões. Aqui, a ideia é determinar se existe algum padrão oculto no erro.\n",
    "\n",
    "Assim, usando o erro como alvo e as características originais Idade e Cidade, geraremos novas previsões. Observe que as previsões, neste caso, serão os valores de erro, não os valores de receita previstos, uma vez que nosso alvo é o erro. Digamos que o modelo forneça as seguintes previsões\n",
    "\n",
    "![](https://cdn.analyticsvidhya.com/wp-content/uploads/2021/03/Screenshot-from-2021-03-25-12-50-53.png)"
   ]
  },
  {
   "cell_type": "markdown",
   "metadata": {
    "id": "RErBS1jl1NbV"
   },
   "source": [
    "#### Passo 4"
   ]
  },
  {
   "cell_type": "markdown",
   "metadata": {
    "id": "0MJ-Qhf8zPNE"
   },
   "source": [
    "Agora temos que atualizar as previsões do model1. Vamos adicionar a previsão da etapa acima e adicioná-la à previsão do model1 e chamá-la de Model2 Income.\n",
    "\n",
    "![](https://cienciadosdados.com/images/2021/Thumbs/ufa.png)"
   ]
  },
  {
   "cell_type": "markdown",
   "metadata": {
    "id": "vUgB80rKLRxm"
   },
   "source": [
    "![](https://cienciadosdados.com/images/2021/Thumbs/GBM.png)"
   ]
  },
  {
   "cell_type": "markdown",
   "metadata": {
    "id": "78ZM9EYECfPO"
   },
   "source": [
    "#### Caso Prático GBM"
   ]
  },
  {
   "cell_type": "code",
   "execution_count": 5,
   "metadata": {
    "colab": {
     "base_uri": "https://localhost:8080/"
    },
    "id": "ythHcQsA8PKc",
    "outputId": "cab88555-7633-4747-e993-c67931d9a7a2"
   },
   "outputs": [
    {
     "name": "stdout",
     "output_type": "stream",
     "text": [
      "Model Accuracy: 0.923\n",
      "The mean squared error (MSE) on test set: 4.9531\n"
     ]
    }
   ],
   "source": [
    "# Importando os Pacotes\n",
    "from sklearn import datasets\n",
    "from sklearn.preprocessing import StandardScaler\n",
    "from sklearn.model_selection import train_test_split\n",
    "from sklearn.ensemble import GradientBoostingRegressor\n",
    "from sklearn.decomposition import PCA\n",
    "from sklearn.metrics import mean_squared_error\n",
    "import warnings\n",
    "warnings.filterwarnings('ignore')\n",
    "\n",
    "# Carregando o Boston Dataset\n",
    "bhp = datasets.load_boston()\n",
    "\n",
    "# Amostragem dos dados em treino e teste\n",
    "X_train, X_test, y_train, y_test = train_test_split(bhp.data, bhp.target, random_state=7, test_size=0.1)\n",
    "\n",
    "# Padronizando o Dataset\n",
    "sc = StandardScaler()\n",
    "X_train_std = sc.fit_transform(X_train)\n",
    "X_test_std = sc.transform(X_test)\n",
    "\n",
    "\n",
    "# Tunando ou calibrando os Hyperparameters for GradientBoostingRegressor\n",
    "gbr_params = {'n_estimators': 1000,\n",
    "              'max_depth': 3,\n",
    "              'min_samples_split': 5,\n",
    "              'learning_rate': 0.01,\n",
    "             }\n",
    "\n",
    "# Criando a Máquina Preditiva\n",
    "#Esse ** é uma forma de chamar os parâmetros. É como se fosse uma macro\n",
    "gbr = GradientBoostingRegressor(**gbr_params)\n",
    "\n",
    "# Treinando a MP\n",
    "gbr.fit(X_train_std, y_train)\n",
    "\n",
    "\n",
    "# Avaliando a MP com a Métrica R2 ( Coefficient of determination R^2  )\n",
    "\n",
    "print(\"Model Accuracy: %.3f\" % gbr.score(X_test_std, y_test))\n",
    "\n",
    "# Avaliando a métrica MSE (Create the mean squared error)\n",
    "#O MSE quanto menor, melhor\n",
    "\n",
    "mse = mean_squared_error(y_test, gbr.predict(X_test_std))\n",
    "print(\"The mean squared error (MSE) on test set: {:.4f}\".format(mse))"
   ]
  },
  {
   "cell_type": "markdown",
   "metadata": {
    "id": "e692nxf39X1G"
   },
   "source": [
    "#### Avaliando a Importância das Variáveis com GBM"
   ]
  },
  {
   "cell_type": "code",
   "execution_count": 6,
   "metadata": {
    "id": "NarIW8TY9caj"
   },
   "outputs": [
    {
     "data": {
      "image/png": "[encoded data removed]",
      "text/plain": [
       "<Figure size 576x576 with 1 Axes>"
      ]
     },
     "metadata": {
      "needs_background": "light"
     },
     "output_type": "display_data"
    }
   ],
   "source": [
    "import numpy as np\n",
    "import matplotlib.pyplot as plt\n",
    "from sklearn.inspection import permutation_importance\n",
    "\n",
    "# Get Feature importance data using feature_importances_ attribute\n",
    "feature_importance = gbr.feature_importances_\n",
    "\n",
    "sorted_idx = np.argsort(feature_importance)\n",
    "pos = np.arange(sorted_idx.shape[0]) + .5\n",
    "fig = plt.figure(figsize=(8, 8))\n",
    "plt.barh(pos, feature_importance[sorted_idx], align='center')\n",
    "plt.yticks(pos, np.array(bhp.feature_names)[sorted_idx])\n",
    "plt.title('Feature Importance (GBM)')\n",
    "\n",
    "\n",
    "plt.show()"
   ]
  },
  {
   "cell_type": "markdown",
   "metadata": {
    "id": "xjL5c6qJS7VS"
   },
   "source": [
    "###  XGBoost - Extreme Gradient Boosting"
   ]
  },
  {
   "cell_type": "markdown",
   "metadata": {
    "id": "FFWvrRJLS7VT"
   },
   "source": [
    "O algoritmo XGBoost é uma extensão do GBM (Gradient Boosting Method) que permite trabalhar com multithreading em uma única máquina e processamento paralelo em um cluster de vários servidores. A principal vantagem do XGBoost sobre o GBM é sua capacidade de gerenciar dados esparsos. O XGBoost automaticamente aceita dados esparsos como input sem armazenar zeros na memória."
   ]
  },
  {
   "cell_type": "markdown",
   "metadata": {
    "id": "B8pVSdieS7VT"
   },
   "source": [
    "Principais vantagens do XGBoost:"
   ]
  },
  {
   "cell_type": "markdown",
   "metadata": {
    "id": "_ZL3CkZXS7VU"
   },
   "source": [
    "1- Aceita dados esparsos (o que permite trabalhar com matrizes esparsas), sem a necessidade de conversão para matrizes densas."
   ]
  },
  {
   "cell_type": "markdown",
   "metadata": {
    "id": "LKsQ6keYS7VV"
   },
   "source": [
    "2- Constrói uma árvore de aprendizagem utilizando um moderno método de split (chamado quatile sketch), o que resulta em tempo de processamento muito menor que métodos tradicionais."
   ]
  },
  {
   "cell_type": "markdown",
   "metadata": {
    "id": "9pVdid3uS7VW"
   },
   "source": [
    "3- Permite computação paralela em uma única máquina (através do uso de multithreading) e processamento paralelo em máquinas distribuídas em cluster."
   ]
  },
  {
   "cell_type": "markdown",
   "metadata": {
    "id": "1LbwF1VlS7VW"
   },
   "source": [
    "Basicamente o XGBoost utiliza os mesmos parâmetros do GBM e permite tratamento avançado de dados missing."
   ]
  },
  {
   "cell_type": "markdown",
   "metadata": {
    "id": "467IMnPMS7VX"
   },
   "source": [
    "O XGBoost é muito utilizado por **Cientistas de Dados que vencem competições no Kaggle**. Repositório no Github: https://github.com/dmlc/XGBoost"
   ]
  },
  {
   "cell_type": "markdown",
   "metadata": {
    "id": "pJMeEpk5S7VY"
   },
   "source": [
    "#### Instalar XGBoost a partir do PyPi\n",
    "!pip install xgboost"
   ]
  },
  {
   "cell_type": "code",
   "execution_count": null,
   "metadata": {
    "colab": {
     "base_uri": "https://localhost:8080/"
    },
    "id": "5tvI8RTMS7VY",
    "outputId": "8a63a90e-8d71-486a-ddae-575d854c8b5b"
   },
   "outputs": [],
   "source": [
    "#!pip install xgboost"
   ]
  },
  {
   "cell_type": "code",
   "execution_count": 7,
   "metadata": {
    "id": "AkMXz5BvS7Va"
   },
   "outputs": [
    {
     "name": "stdout",
     "output_type": "stream",
     "text": [
      "XGBClassifier(base_score=0.5, booster='gbtree', callbacks=None,\n",
      "              colsample_bylevel=1, colsample_bynode=1, colsample_bytree=1,\n",
      "              early_stopping_rounds=None, enable_categorical=False,\n",
      "              eval_metric=None, gamma=0, gpu_id=-1, grow_policy='depthwise',\n",
      "              importance_type=None, interaction_constraints='',\n",
      "              learning_rate=0.300000012, max_bin=256, max_cat_to_onehot=4,\n",
      "              max_delta_step=0, max_depth=6, max_leaves=0, min_child_weight=1,\n",
      "              missing=nan, monotone_constraints='()', n_estimators=8, n_jobs=-1,\n",
      "              num_parallel_tree=1, predictor='auto', random_state=0,\n",
      "              reg_alpha=0, reg_lambda=1, ...)\n",
      "Acurácia: 80.52%\n"
     ]
    }
   ],
   "source": [
    "# Import dos módulos\n",
    "from pandas import read_csv\n",
    "from sklearn.model_selection import train_test_split\n",
    "from sklearn.metrics import accuracy_score\n",
    "from xgboost import XGBClassifier\n",
    "\n",
    "# Carregando os dados\n",
    "arquivo = 'pima-data.csv'\n",
    "colunas = ['preg', 'plas', 'pres', 'skin', 'test', 'mass', 'pedi', 'age', 'class']\n",
    "dados = read_csv(arquivo, names = colunas)\n",
    "array = dados.values\n",
    "\n",
    "# Separando o array em componentes de input e output\n",
    "X = array[:,0:8]\n",
    "Y = array[:,8]\n",
    "\n",
    "# Definindo o tamanho dos dados de treino e de teste\n",
    "teste_size = 0.10\n",
    "seed = 7\n",
    "\n",
    "# Criando o dataset de treino e de teste\n",
    "X_treino, X_teste, y_treino, y_teste = train_test_split(X, Y, test_size = teste_size, random_state = seed)\n",
    "\n",
    "# Criando o modelo\n",
    "#n_jobs=-1, usa todas as máquinas que estão no cluster.\n",
    "modelo = XGBClassifier(n_estimators=8,n_jobs=-1)\n",
    "\n",
    "# Treinando o modelo\n",
    "modelo.fit(X_treino, y_treino)\n",
    "\n",
    "# Pront do modelo\n",
    "print(modelo)\n",
    "\n",
    "# Fazendo previsões\n",
    "y_pred = modelo.predict(X_teste)\n",
    "previsoes = [round(value) for value in y_pred]\n",
    "\n",
    "# Avaliando as previsões\n",
    "accuracy = accuracy_score(y_teste, previsoes)\n",
    "print(\"Acurácia: %.2f%%\" % (accuracy * 100.0))"
   ]
  },
  {
   "cell_type": "markdown",
   "metadata": {
    "id": "MB8BMDugMCsN"
   },
   "source": [
    "![](https://cienciadosdados.com/images/2021/Thumbs/XGB.png)"
   ]
  },
  {
   "cell_type": "markdown",
   "metadata": {
    "id": "QSwPy0PkpfzU"
   },
   "source": [
    "### Light GBM"
   ]
  },
  {
   "cell_type": "markdown",
   "metadata": {
    "id": "6ZHe1ph2MiDG"
   },
   "source": [
    "![](https://cienciadosdados.com/images/2021/Thumbs/LGB.png)"
   ]
  },
  {
   "cell_type": "markdown",
   "metadata": {
    "id": "cKnQeiSlpgEd"
   },
   "source": [
    "### CatBoost"
   ]
  },
  {
   "cell_type": "markdown",
   "metadata": {
    "id": "nHNB_DtgMwRT"
   },
   "source": [
    "![](https://cienciadosdados.com/images/2021/Thumbs/Catboost.png)"
   ]
  }
 ],
 "metadata": {
  "anaconda-cloud": {},
  "colab": {
   "collapsed_sections": [
    "5-2OcPjFTQvJ",
    "fM2H4ZghTFlx",
    "p1xLI5i-pGUg",
    "f1d7cwQrpGdl",
    "GsN9BB720qK_",
    "AFgo0wBU02Y8",
    "87mALRrH1E3M",
    "RErBS1jl1NbV",
    "78ZM9EYECfPO",
    "e692nxf39X1G",
    "xjL5c6qJS7VS",
    "pJMeEpk5S7VY",
    "QSwPy0PkpfzU",
    "cKnQeiSlpgEd",
    "8s-ztsziTKuJ",
    "Yfm5YFwLS7TG",
    "p-vDYNphS7Uz",
    "XTRc7NjBKG65"
   ],
   "name": "M5A54 - Ensemble Learnings Algorithms.ipynb",
   "provenance": []
  },
  "kernelspec": {
   "display_name": "Python 3",
   "language": "python",
   "name": "python3"
  },
  "language_info": {
   "codemirror_mode": {
    "name": "ipython",
    "version": 3
   },
   "file_extension": ".py",
   "mimetype": "text/x-python",
   "name": "python",
   "nbconvert_exporter": "python",
   "pygments_lexer": "ipython3",
   "version": "3.8.8"
  }
 },
 "nbformat": 4,
 "nbformat_minor": 1
}
