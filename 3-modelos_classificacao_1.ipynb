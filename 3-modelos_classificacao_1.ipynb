{
 "cells": [
  {
   "cell_type": "markdown",
   "metadata": {},
   "source": [
    "# Antes de entrarmos nos modelos iremos estudar as principais métricas de avaliação. Vejamos no tutorial como elas são."
   ]
  },
  {
   "cell_type": "markdown",
   "metadata": {},
   "source": [
    "# Classificação - Algoritmos Rasos\n",
    "* A classificação é um método de aprendizagem supervisionada (supervised learning) para atribuir um rótulo a uma amostra com base nos atributos;\n",
    "* A biblioteca sklearn implementa diversos modelos úteis e comuns;\n",
    "* Veremos também alguns modelos que não estão no sklearn."
   ]
  },
  {
   "cell_type": "markdown",
   "metadata": {},
   "source": [
    "## Regressão Logística\n",
    "* A regressão logística estima probabilidades usando uma função logística;\n",
    "* Esse tem sido o modelo de classificação padrão para a maioria das ciências."
   ]
  },
  {
   "cell_type": "markdown",
   "metadata": {},
   "source": [
    "<img src=\"regressao_logistica.png\" width=\"400px\" align=\"left\"><br>"
   ]
  },
  {
   "cell_type": "code",
   "execution_count": 74,
   "metadata": {},
   "outputs": [],
   "source": [
    "#Vou importar todos os modelos de classificação padrão do sklearn\n",
    "#import warnings\n",
    "#warnings.filterwarnings('ignore')\n",
    "import pandas as pd\n",
    "import seaborn as sns\n",
    "from sklearn.linear_model import LogisticRegression\n",
    "from sklearn.model_selection import train_test_split\n",
    "from sklearn.metrics import (cohen_kappa_score,confusion_matrix, accuracy_score, precision_score, recall_score, \n",
    "f1_score, roc_auc_score,roc_curve,auc,r2_score,classification_report)\n",
    "import matplotlib.pyplot as plt\n",
    "from yellowbrick.classifier import  ROCAUC"
   ]
  },
  {
   "cell_type": "code",
   "execution_count": 75,
   "metadata": {},
   "outputs": [],
   "source": [
    "#Carregar os dados\n",
    "df = pd.read_csv('titanic3_prep_proce_final.csv', delimiter = ',')"
   ]
  },
  {
   "cell_type": "code",
   "execution_count": 76,
   "metadata": {},
   "outputs": [
    {
     "data": {
      "text/html": [
       "<div>\n",
       "<style scoped>\n",
       "    .dataframe tbody tr th:only-of-type {\n",
       "        vertical-align: middle;\n",
       "    }\n",
       "\n",
       "    .dataframe tbody tr th {\n",
       "        vertical-align: top;\n",
       "    }\n",
       "\n",
       "    .dataframe thead th {\n",
       "        text-align: right;\n",
       "    }\n",
       "</style>\n",
       "<table border=\"1\" class=\"dataframe\">\n",
       "  <thead>\n",
       "    <tr style=\"text-align: right;\">\n",
       "      <th></th>\n",
       "      <th>classe</th>\n",
       "      <th>sobreviveu</th>\n",
       "      <th>idade</th>\n",
       "      <th>irmaos_conjuge</th>\n",
       "      <th>pais_filhos</th>\n",
       "      <th>tarifa</th>\n",
       "      <th>sexo_female</th>\n",
       "      <th>sexo_male</th>\n",
       "      <th>embarque_C</th>\n",
       "      <th>embarque_Q</th>\n",
       "      <th>embarque_S</th>\n",
       "    </tr>\n",
       "  </thead>\n",
       "  <tbody>\n",
       "    <tr>\n",
       "      <th>0</th>\n",
       "      <td>1</td>\n",
       "      <td>1</td>\n",
       "      <td>24.0000</td>\n",
       "      <td>0</td>\n",
       "      <td>0</td>\n",
       "      <td>14.4542</td>\n",
       "      <td>1</td>\n",
       "      <td>0</td>\n",
       "      <td>0</td>\n",
       "      <td>0</td>\n",
       "      <td>1</td>\n",
       "    </tr>\n",
       "    <tr>\n",
       "      <th>1</th>\n",
       "      <td>1</td>\n",
       "      <td>1</td>\n",
       "      <td>0.9167</td>\n",
       "      <td>1</td>\n",
       "      <td>2</td>\n",
       "      <td>14.4542</td>\n",
       "      <td>0</td>\n",
       "      <td>1</td>\n",
       "      <td>0</td>\n",
       "      <td>0</td>\n",
       "      <td>1</td>\n",
       "    </tr>\n",
       "    <tr>\n",
       "      <th>2</th>\n",
       "      <td>1</td>\n",
       "      <td>1</td>\n",
       "      <td>24.0000</td>\n",
       "      <td>0</td>\n",
       "      <td>0</td>\n",
       "      <td>26.5500</td>\n",
       "      <td>0</td>\n",
       "      <td>1</td>\n",
       "      <td>0</td>\n",
       "      <td>0</td>\n",
       "      <td>1</td>\n",
       "    </tr>\n",
       "    <tr>\n",
       "      <th>3</th>\n",
       "      <td>1</td>\n",
       "      <td>1</td>\n",
       "      <td>24.0000</td>\n",
       "      <td>1</td>\n",
       "      <td>0</td>\n",
       "      <td>77.9583</td>\n",
       "      <td>1</td>\n",
       "      <td>0</td>\n",
       "      <td>0</td>\n",
       "      <td>0</td>\n",
       "      <td>1</td>\n",
       "    </tr>\n",
       "    <tr>\n",
       "      <th>4</th>\n",
       "      <td>1</td>\n",
       "      <td>1</td>\n",
       "      <td>24.0000</td>\n",
       "      <td>2</td>\n",
       "      <td>0</td>\n",
       "      <td>51.4792</td>\n",
       "      <td>1</td>\n",
       "      <td>0</td>\n",
       "      <td>0</td>\n",
       "      <td>0</td>\n",
       "      <td>1</td>\n",
       "    </tr>\n",
       "  </tbody>\n",
       "</table>\n",
       "</div>"
      ],
      "text/plain": [
       "   classe  sobreviveu    idade  irmaos_conjuge  pais_filhos   tarifa  \\\n",
       "0       1           1  24.0000               0            0  14.4542   \n",
       "1       1           1   0.9167               1            2  14.4542   \n",
       "2       1           1  24.0000               0            0  26.5500   \n",
       "3       1           1  24.0000               1            0  77.9583   \n",
       "4       1           1  24.0000               2            0  51.4792   \n",
       "\n",
       "   sexo_female  sexo_male  embarque_C  embarque_Q  embarque_S  \n",
       "0            1          0           0           0           1  \n",
       "1            0          1           0           0           1  \n",
       "2            0          1           0           0           1  \n",
       "3            1          0           0           0           1  \n",
       "4            1          0           0           0           1  "
      ]
     },
     "execution_count": 76,
     "metadata": {},
     "output_type": "execute_result"
    }
   ],
   "source": [
    "df.head()"
   ]
  },
  {
   "cell_type": "code",
   "execution_count": 77,
   "metadata": {},
   "outputs": [],
   "source": [
    "#Deletar o passenger_id\n",
    "#df.drop('passenger_id',axis = 1,inplace = True)"
   ]
  },
  {
   "cell_type": "code",
   "execution_count": 78,
   "metadata": {},
   "outputs": [],
   "source": [
    "#df.head()"
   ]
  },
  {
   "cell_type": "code",
   "execution_count": 79,
   "metadata": {},
   "outputs": [
    {
     "data": {
      "text/plain": [
       "1    500\n",
       "0    500\n",
       "Name: sobreviveu, dtype: int64"
      ]
     },
     "execution_count": 79,
     "metadata": {},
     "output_type": "execute_result"
    }
   ],
   "source": [
    "#Vamos ver se continuam balanceados\n",
    "df.sobreviveu.value_counts() "
   ]
  },
  {
   "cell_type": "code",
   "execution_count": 80,
   "metadata": {},
   "outputs": [],
   "source": [
    "#Vamos separar a classe da variável\n",
    "X = df.drop(['sobreviveu'], axis=1)\n",
    "y = df['sobreviveu']"
   ]
  },
  {
   "cell_type": "code",
   "execution_count": 81,
   "metadata": {},
   "outputs": [
    {
     "name": "stdout",
     "output_type": "stream",
     "text": [
      "Não sobreviveu:  500\n",
      "Sobreviveu :  500\n"
     ]
    },
    {
     "data": {
      "image/png": "[encoded data removed]",
      "text/plain": [
       "<Figure size 576x396 with 1 Axes>"
      ]
     },
     "metadata": {},
     "output_type": "display_data"
    }
   ],
   "source": [
    "#Rever a distruição das amostras entre as classes\n",
    "sns.set(style=\"darkgrid\")\n",
    "ax = sns.countplot(x = y)      \n",
    "N, S = y.value_counts(sort=True) \n",
    "print('Não sobreviveu: ',N)\n",
    "print('Sobreviveu : ',S)"
   ]
  },
  {
   "cell_type": "markdown",
   "metadata": {},
   "source": [
    "### Normalização Min-Max (Pré-Processamento)"
   ]
  },
  {
   "cell_type": "code",
   "execution_count": 82,
   "metadata": {},
   "outputs": [],
   "source": [
    "from sklearn.preprocessing import MinMaxScaler\n",
    "# create a scaler object\n",
    "scaler = MinMaxScaler()\n",
    "# fit and transform the data\n",
    "X = pd.DataFrame(scaler.fit_transform(X), columns=X.columns)"
   ]
  },
  {
   "cell_type": "code",
   "execution_count": 83,
   "metadata": {},
   "outputs": [
    {
     "data": {
      "text/html": [
       "<div>\n",
       "<style scoped>\n",
       "    .dataframe tbody tr th:only-of-type {\n",
       "        vertical-align: middle;\n",
       "    }\n",
       "\n",
       "    .dataframe tbody tr th {\n",
       "        vertical-align: top;\n",
       "    }\n",
       "\n",
       "    .dataframe thead th {\n",
       "        text-align: right;\n",
       "    }\n",
       "</style>\n",
       "<table border=\"1\" class=\"dataframe\">\n",
       "  <thead>\n",
       "    <tr style=\"text-align: right;\">\n",
       "      <th></th>\n",
       "      <th>classe</th>\n",
       "      <th>idade</th>\n",
       "      <th>irmaos_conjuge</th>\n",
       "      <th>pais_filhos</th>\n",
       "      <th>tarifa</th>\n",
       "      <th>sexo_female</th>\n",
       "      <th>sexo_male</th>\n",
       "      <th>embarque_C</th>\n",
       "      <th>embarque_Q</th>\n",
       "      <th>embarque_S</th>\n",
       "    </tr>\n",
       "  </thead>\n",
       "  <tbody>\n",
       "    <tr>\n",
       "      <th>0</th>\n",
       "      <td>0.0</td>\n",
       "      <td>1.000000</td>\n",
       "      <td>0.000</td>\n",
       "      <td>0.000000</td>\n",
       "      <td>0.106568</td>\n",
       "      <td>1.0</td>\n",
       "      <td>0.0</td>\n",
       "      <td>0.0</td>\n",
       "      <td>0.0</td>\n",
       "      <td>1.0</td>\n",
       "    </tr>\n",
       "    <tr>\n",
       "      <th>1</th>\n",
       "      <td>0.0</td>\n",
       "      <td>0.031469</td>\n",
       "      <td>0.125</td>\n",
       "      <td>0.222222</td>\n",
       "      <td>0.106568</td>\n",
       "      <td>0.0</td>\n",
       "      <td>1.0</td>\n",
       "      <td>0.0</td>\n",
       "      <td>0.0</td>\n",
       "      <td>1.0</td>\n",
       "    </tr>\n",
       "    <tr>\n",
       "      <th>2</th>\n",
       "      <td>0.0</td>\n",
       "      <td>1.000000</td>\n",
       "      <td>0.000</td>\n",
       "      <td>0.000000</td>\n",
       "      <td>0.195748</td>\n",
       "      <td>0.0</td>\n",
       "      <td>1.0</td>\n",
       "      <td>0.0</td>\n",
       "      <td>0.0</td>\n",
       "      <td>1.0</td>\n",
       "    </tr>\n",
       "    <tr>\n",
       "      <th>3</th>\n",
       "      <td>0.0</td>\n",
       "      <td>1.000000</td>\n",
       "      <td>0.125</td>\n",
       "      <td>0.000000</td>\n",
       "      <td>0.574773</td>\n",
       "      <td>1.0</td>\n",
       "      <td>0.0</td>\n",
       "      <td>0.0</td>\n",
       "      <td>0.0</td>\n",
       "      <td>1.0</td>\n",
       "    </tr>\n",
       "    <tr>\n",
       "      <th>4</th>\n",
       "      <td>0.0</td>\n",
       "      <td>1.000000</td>\n",
       "      <td>0.250</td>\n",
       "      <td>0.000000</td>\n",
       "      <td>0.379547</td>\n",
       "      <td>1.0</td>\n",
       "      <td>0.0</td>\n",
       "      <td>0.0</td>\n",
       "      <td>0.0</td>\n",
       "      <td>1.0</td>\n",
       "    </tr>\n",
       "    <tr>\n",
       "      <th>...</th>\n",
       "      <td>...</td>\n",
       "      <td>...</td>\n",
       "      <td>...</td>\n",
       "      <td>...</td>\n",
       "      <td>...</td>\n",
       "      <td>...</td>\n",
       "      <td>...</td>\n",
       "      <td>...</td>\n",
       "      <td>...</td>\n",
       "      <td>...</td>\n",
       "    </tr>\n",
       "    <tr>\n",
       "      <th>995</th>\n",
       "      <td>1.0</td>\n",
       "      <td>1.000000</td>\n",
       "      <td>0.000</td>\n",
       "      <td>0.000000</td>\n",
       "      <td>0.056955</td>\n",
       "      <td>0.0</td>\n",
       "      <td>1.0</td>\n",
       "      <td>0.0</td>\n",
       "      <td>1.0</td>\n",
       "      <td>0.0</td>\n",
       "    </tr>\n",
       "    <tr>\n",
       "      <th>996</th>\n",
       "      <td>1.0</td>\n",
       "      <td>1.000000</td>\n",
       "      <td>0.125</td>\n",
       "      <td>0.222222</td>\n",
       "      <td>0.172893</td>\n",
       "      <td>1.0</td>\n",
       "      <td>0.0</td>\n",
       "      <td>0.0</td>\n",
       "      <td>0.0</td>\n",
       "      <td>1.0</td>\n",
       "    </tr>\n",
       "    <tr>\n",
       "      <th>997</th>\n",
       "      <td>0.0</td>\n",
       "      <td>1.000000</td>\n",
       "      <td>0.125</td>\n",
       "      <td>0.000000</td>\n",
       "      <td>0.437946</td>\n",
       "      <td>0.0</td>\n",
       "      <td>1.0</td>\n",
       "      <td>1.0</td>\n",
       "      <td>0.0</td>\n",
       "      <td>0.0</td>\n",
       "    </tr>\n",
       "    <tr>\n",
       "      <th>998</th>\n",
       "      <td>0.5</td>\n",
       "      <td>1.000000</td>\n",
       "      <td>0.125</td>\n",
       "      <td>0.000000</td>\n",
       "      <td>0.084787</td>\n",
       "      <td>0.0</td>\n",
       "      <td>1.0</td>\n",
       "      <td>0.0</td>\n",
       "      <td>0.0</td>\n",
       "      <td>1.0</td>\n",
       "    </tr>\n",
       "    <tr>\n",
       "      <th>999</th>\n",
       "      <td>1.0</td>\n",
       "      <td>1.000000</td>\n",
       "      <td>0.000</td>\n",
       "      <td>0.000000</td>\n",
       "      <td>0.057324</td>\n",
       "      <td>0.0</td>\n",
       "      <td>1.0</td>\n",
       "      <td>0.0</td>\n",
       "      <td>0.0</td>\n",
       "      <td>1.0</td>\n",
       "    </tr>\n",
       "  </tbody>\n",
       "</table>\n",
       "<p>1000 rows × 10 columns</p>\n",
       "</div>"
      ],
      "text/plain": [
       "     classe     idade  irmaos_conjuge  pais_filhos    tarifa  sexo_female  \\\n",
       "0       0.0  1.000000           0.000     0.000000  0.106568          1.0   \n",
       "1       0.0  0.031469           0.125     0.222222  0.106568          0.0   \n",
       "2       0.0  1.000000           0.000     0.000000  0.195748          0.0   \n",
       "3       0.0  1.000000           0.125     0.000000  0.574773          1.0   \n",
       "4       0.0  1.000000           0.250     0.000000  0.379547          1.0   \n",
       "..      ...       ...             ...          ...       ...          ...   \n",
       "995     1.0  1.000000           0.000     0.000000  0.056955          0.0   \n",
       "996     1.0  1.000000           0.125     0.222222  0.172893          1.0   \n",
       "997     0.0  1.000000           0.125     0.000000  0.437946          0.0   \n",
       "998     0.5  1.000000           0.125     0.000000  0.084787          0.0   \n",
       "999     1.0  1.000000           0.000     0.000000  0.057324          0.0   \n",
       "\n",
       "     sexo_male  embarque_C  embarque_Q  embarque_S  \n",
       "0          0.0         0.0         0.0         1.0  \n",
       "1          1.0         0.0         0.0         1.0  \n",
       "2          1.0         0.0         0.0         1.0  \n",
       "3          0.0         0.0         0.0         1.0  \n",
       "4          0.0         0.0         0.0         1.0  \n",
       "..         ...         ...         ...         ...  \n",
       "995        1.0         0.0         1.0         0.0  \n",
       "996        0.0         0.0         0.0         1.0  \n",
       "997        1.0         1.0         0.0         0.0  \n",
       "998        1.0         0.0         0.0         1.0  \n",
       "999        1.0         0.0         0.0         1.0  \n",
       "\n",
       "[1000 rows x 10 columns]"
      ]
     },
     "execution_count": 83,
     "metadata": {},
     "output_type": "execute_result"
    }
   ],
   "source": [
    "X"
   ]
  },
  {
   "cell_type": "markdown",
   "metadata": {},
   "source": [
    "### Normalização StandardScaler ou Z-Score(Pré-Processamento)"
   ]
  },
  {
   "cell_type": "code",
   "execution_count": 84,
   "metadata": {},
   "outputs": [
    {
     "data": {
      "text/html": [
       "<div>\n",
       "<style scoped>\n",
       "    .dataframe tbody tr th:only-of-type {\n",
       "        vertical-align: middle;\n",
       "    }\n",
       "\n",
       "    .dataframe tbody tr th {\n",
       "        vertical-align: top;\n",
       "    }\n",
       "\n",
       "    .dataframe thead th {\n",
       "        text-align: right;\n",
       "    }\n",
       "</style>\n",
       "<table border=\"1\" class=\"dataframe\">\n",
       "  <thead>\n",
       "    <tr style=\"text-align: right;\">\n",
       "      <th></th>\n",
       "      <th>classe</th>\n",
       "      <th>idade</th>\n",
       "      <th>irmaos_conjuge</th>\n",
       "      <th>pais_filhos</th>\n",
       "      <th>tarifa</th>\n",
       "      <th>sexo_female</th>\n",
       "      <th>sexo_male</th>\n",
       "      <th>embarque_C</th>\n",
       "      <th>embarque_Q</th>\n",
       "      <th>embarque_S</th>\n",
       "    </tr>\n",
       "  </thead>\n",
       "  <tbody>\n",
       "    <tr>\n",
       "      <th>0</th>\n",
       "      <td>1</td>\n",
       "      <td>24.0000</td>\n",
       "      <td>0</td>\n",
       "      <td>0</td>\n",
       "      <td>14.4542</td>\n",
       "      <td>1</td>\n",
       "      <td>0</td>\n",
       "      <td>0</td>\n",
       "      <td>0</td>\n",
       "      <td>1</td>\n",
       "    </tr>\n",
       "    <tr>\n",
       "      <th>1</th>\n",
       "      <td>1</td>\n",
       "      <td>0.9167</td>\n",
       "      <td>1</td>\n",
       "      <td>2</td>\n",
       "      <td>14.4542</td>\n",
       "      <td>0</td>\n",
       "      <td>1</td>\n",
       "      <td>0</td>\n",
       "      <td>0</td>\n",
       "      <td>1</td>\n",
       "    </tr>\n",
       "    <tr>\n",
       "      <th>2</th>\n",
       "      <td>1</td>\n",
       "      <td>24.0000</td>\n",
       "      <td>0</td>\n",
       "      <td>0</td>\n",
       "      <td>26.5500</td>\n",
       "      <td>0</td>\n",
       "      <td>1</td>\n",
       "      <td>0</td>\n",
       "      <td>0</td>\n",
       "      <td>1</td>\n",
       "    </tr>\n",
       "    <tr>\n",
       "      <th>3</th>\n",
       "      <td>1</td>\n",
       "      <td>24.0000</td>\n",
       "      <td>1</td>\n",
       "      <td>0</td>\n",
       "      <td>77.9583</td>\n",
       "      <td>1</td>\n",
       "      <td>0</td>\n",
       "      <td>0</td>\n",
       "      <td>0</td>\n",
       "      <td>1</td>\n",
       "    </tr>\n",
       "    <tr>\n",
       "      <th>4</th>\n",
       "      <td>1</td>\n",
       "      <td>24.0000</td>\n",
       "      <td>2</td>\n",
       "      <td>0</td>\n",
       "      <td>51.4792</td>\n",
       "      <td>1</td>\n",
       "      <td>0</td>\n",
       "      <td>0</td>\n",
       "      <td>0</td>\n",
       "      <td>1</td>\n",
       "    </tr>\n",
       "    <tr>\n",
       "      <th>...</th>\n",
       "      <td>...</td>\n",
       "      <td>...</td>\n",
       "      <td>...</td>\n",
       "      <td>...</td>\n",
       "      <td>...</td>\n",
       "      <td>...</td>\n",
       "      <td>...</td>\n",
       "      <td>...</td>\n",
       "      <td>...</td>\n",
       "      <td>...</td>\n",
       "    </tr>\n",
       "    <tr>\n",
       "      <th>995</th>\n",
       "      <td>3</td>\n",
       "      <td>24.0000</td>\n",
       "      <td>0</td>\n",
       "      <td>0</td>\n",
       "      <td>7.7250</td>\n",
       "      <td>0</td>\n",
       "      <td>1</td>\n",
       "      <td>0</td>\n",
       "      <td>1</td>\n",
       "      <td>0</td>\n",
       "    </tr>\n",
       "    <tr>\n",
       "      <th>996</th>\n",
       "      <td>3</td>\n",
       "      <td>24.0000</td>\n",
       "      <td>1</td>\n",
       "      <td>2</td>\n",
       "      <td>23.4500</td>\n",
       "      <td>1</td>\n",
       "      <td>0</td>\n",
       "      <td>0</td>\n",
       "      <td>0</td>\n",
       "      <td>1</td>\n",
       "    </tr>\n",
       "    <tr>\n",
       "      <th>997</th>\n",
       "      <td>1</td>\n",
       "      <td>24.0000</td>\n",
       "      <td>1</td>\n",
       "      <td>0</td>\n",
       "      <td>59.4000</td>\n",
       "      <td>0</td>\n",
       "      <td>1</td>\n",
       "      <td>1</td>\n",
       "      <td>0</td>\n",
       "      <td>0</td>\n",
       "    </tr>\n",
       "    <tr>\n",
       "      <th>998</th>\n",
       "      <td>2</td>\n",
       "      <td>24.0000</td>\n",
       "      <td>1</td>\n",
       "      <td>0</td>\n",
       "      <td>11.5000</td>\n",
       "      <td>0</td>\n",
       "      <td>1</td>\n",
       "      <td>0</td>\n",
       "      <td>0</td>\n",
       "      <td>1</td>\n",
       "    </tr>\n",
       "    <tr>\n",
       "      <th>999</th>\n",
       "      <td>3</td>\n",
       "      <td>24.0000</td>\n",
       "      <td>0</td>\n",
       "      <td>0</td>\n",
       "      <td>7.7750</td>\n",
       "      <td>0</td>\n",
       "      <td>1</td>\n",
       "      <td>0</td>\n",
       "      <td>0</td>\n",
       "      <td>1</td>\n",
       "    </tr>\n",
       "  </tbody>\n",
       "</table>\n",
       "<p>1000 rows × 10 columns</p>\n",
       "</div>"
      ],
      "text/plain": [
       "     classe    idade  irmaos_conjuge  pais_filhos   tarifa  sexo_female  \\\n",
       "0         1  24.0000               0            0  14.4542            1   \n",
       "1         1   0.9167               1            2  14.4542            0   \n",
       "2         1  24.0000               0            0  26.5500            0   \n",
       "3         1  24.0000               1            0  77.9583            1   \n",
       "4         1  24.0000               2            0  51.4792            1   \n",
       "..      ...      ...             ...          ...      ...          ...   \n",
       "995       3  24.0000               0            0   7.7250            0   \n",
       "996       3  24.0000               1            2  23.4500            1   \n",
       "997       1  24.0000               1            0  59.4000            0   \n",
       "998       2  24.0000               1            0  11.5000            0   \n",
       "999       3  24.0000               0            0   7.7750            0   \n",
       "\n",
       "     sexo_male  embarque_C  embarque_Q  embarque_S  \n",
       "0            0           0           0           1  \n",
       "1            1           0           0           1  \n",
       "2            1           0           0           1  \n",
       "3            0           0           0           1  \n",
       "4            0           0           0           1  \n",
       "..         ...         ...         ...         ...  \n",
       "995          1           0           1           0  \n",
       "996          0           0           0           1  \n",
       "997          1           1           0           0  \n",
       "998          1           0           0           1  \n",
       "999          1           0           0           1  \n",
       "\n",
       "[1000 rows x 10 columns]"
      ]
     },
     "execution_count": 84,
     "metadata": {},
     "output_type": "execute_result"
    }
   ],
   "source": [
    "X = df.drop(['sobreviveu'], axis=1)\n",
    "X"
   ]
  },
  {
   "cell_type": "code",
   "execution_count": 85,
   "metadata": {},
   "outputs": [],
   "source": [
    "from sklearn.preprocessing import StandardScaler\n",
    "# create a scaler object\n",
    "scaler = StandardScaler()\n",
    "# fit and transform the data\n",
    "X = pd.DataFrame(scaler.fit_transform(X), columns=X.columns)"
   ]
  },
  {
   "cell_type": "code",
   "execution_count": 86,
   "metadata": {},
   "outputs": [
    {
     "data": {
      "text/html": [
       "<div>\n",
       "<style scoped>\n",
       "    .dataframe tbody tr th:only-of-type {\n",
       "        vertical-align: middle;\n",
       "    }\n",
       "\n",
       "    .dataframe tbody tr th {\n",
       "        vertical-align: top;\n",
       "    }\n",
       "\n",
       "    .dataframe thead th {\n",
       "        text-align: right;\n",
       "    }\n",
       "</style>\n",
       "<table border=\"1\" class=\"dataframe\">\n",
       "  <thead>\n",
       "    <tr style=\"text-align: right;\">\n",
       "      <th></th>\n",
       "      <th>classe</th>\n",
       "      <th>idade</th>\n",
       "      <th>irmaos_conjuge</th>\n",
       "      <th>pais_filhos</th>\n",
       "      <th>tarifa</th>\n",
       "      <th>sexo_female</th>\n",
       "      <th>sexo_male</th>\n",
       "      <th>embarque_C</th>\n",
       "      <th>embarque_Q</th>\n",
       "      <th>embarque_S</th>\n",
       "    </tr>\n",
       "  </thead>\n",
       "  <tbody>\n",
       "    <tr>\n",
       "      <th>0</th>\n",
       "      <td>-1.425645</td>\n",
       "      <td>0.166535</td>\n",
       "      <td>-0.508134</td>\n",
       "      <td>-0.464067</td>\n",
       "      <td>-0.432706</td>\n",
       "      <td>1.170328</td>\n",
       "      <td>-1.170328</td>\n",
       "      <td>-0.534179</td>\n",
       "      <td>-0.335182</td>\n",
       "      <td>0.690728</td>\n",
       "    </tr>\n",
       "    <tr>\n",
       "      <th>1</th>\n",
       "      <td>-1.425645</td>\n",
       "      <td>-6.047956</td>\n",
       "      <td>0.528874</td>\n",
       "      <td>1.844725</td>\n",
       "      <td>-0.432706</td>\n",
       "      <td>-0.854461</td>\n",
       "      <td>0.854461</td>\n",
       "      <td>-0.534179</td>\n",
       "      <td>-0.335182</td>\n",
       "      <td>0.690728</td>\n",
       "    </tr>\n",
       "    <tr>\n",
       "      <th>2</th>\n",
       "      <td>-1.425645</td>\n",
       "      <td>0.166535</td>\n",
       "      <td>-0.508134</td>\n",
       "      <td>-0.464067</td>\n",
       "      <td>0.029561</td>\n",
       "      <td>-0.854461</td>\n",
       "      <td>0.854461</td>\n",
       "      <td>-0.534179</td>\n",
       "      <td>-0.335182</td>\n",
       "      <td>0.690728</td>\n",
       "    </tr>\n",
       "    <tr>\n",
       "      <th>3</th>\n",
       "      <td>-1.425645</td>\n",
       "      <td>0.166535</td>\n",
       "      <td>0.528874</td>\n",
       "      <td>-0.464067</td>\n",
       "      <td>1.994240</td>\n",
       "      <td>1.170328</td>\n",
       "      <td>-1.170328</td>\n",
       "      <td>-0.534179</td>\n",
       "      <td>-0.335182</td>\n",
       "      <td>0.690728</td>\n",
       "    </tr>\n",
       "    <tr>\n",
       "      <th>4</th>\n",
       "      <td>-1.425645</td>\n",
       "      <td>0.166535</td>\n",
       "      <td>1.565881</td>\n",
       "      <td>-0.464067</td>\n",
       "      <td>0.982284</td>\n",
       "      <td>1.170328</td>\n",
       "      <td>-1.170328</td>\n",
       "      <td>-0.534179</td>\n",
       "      <td>-0.335182</td>\n",
       "      <td>0.690728</td>\n",
       "    </tr>\n",
       "    <tr>\n",
       "      <th>...</th>\n",
       "      <td>...</td>\n",
       "      <td>...</td>\n",
       "      <td>...</td>\n",
       "      <td>...</td>\n",
       "      <td>...</td>\n",
       "      <td>...</td>\n",
       "      <td>...</td>\n",
       "      <td>...</td>\n",
       "      <td>...</td>\n",
       "      <td>...</td>\n",
       "    </tr>\n",
       "    <tr>\n",
       "      <th>995</th>\n",
       "      <td>0.907653</td>\n",
       "      <td>0.166535</td>\n",
       "      <td>-0.508134</td>\n",
       "      <td>-0.464067</td>\n",
       "      <td>-0.689877</td>\n",
       "      <td>-0.854461</td>\n",
       "      <td>0.854461</td>\n",
       "      <td>-0.534179</td>\n",
       "      <td>2.983453</td>\n",
       "      <td>-1.447748</td>\n",
       "    </tr>\n",
       "    <tr>\n",
       "      <th>996</th>\n",
       "      <td>0.907653</td>\n",
       "      <td>0.166535</td>\n",
       "      <td>0.528874</td>\n",
       "      <td>1.844725</td>\n",
       "      <td>-0.088912</td>\n",
       "      <td>1.170328</td>\n",
       "      <td>-1.170328</td>\n",
       "      <td>-0.534179</td>\n",
       "      <td>-0.335182</td>\n",
       "      <td>0.690728</td>\n",
       "    </tr>\n",
       "    <tr>\n",
       "      <th>997</th>\n",
       "      <td>-1.425645</td>\n",
       "      <td>0.166535</td>\n",
       "      <td>0.528874</td>\n",
       "      <td>-0.464067</td>\n",
       "      <td>1.284995</td>\n",
       "      <td>-0.854461</td>\n",
       "      <td>0.854461</td>\n",
       "      <td>1.872032</td>\n",
       "      <td>-0.335182</td>\n",
       "      <td>-1.447748</td>\n",
       "    </tr>\n",
       "    <tr>\n",
       "      <th>998</th>\n",
       "      <td>-0.258996</td>\n",
       "      <td>0.166535</td>\n",
       "      <td>0.528874</td>\n",
       "      <td>-0.464067</td>\n",
       "      <td>-0.545607</td>\n",
       "      <td>-0.854461</td>\n",
       "      <td>0.854461</td>\n",
       "      <td>-0.534179</td>\n",
       "      <td>-0.335182</td>\n",
       "      <td>0.690728</td>\n",
       "    </tr>\n",
       "    <tr>\n",
       "      <th>999</th>\n",
       "      <td>0.907653</td>\n",
       "      <td>0.166535</td>\n",
       "      <td>-0.508134</td>\n",
       "      <td>-0.464067</td>\n",
       "      <td>-0.687966</td>\n",
       "      <td>-0.854461</td>\n",
       "      <td>0.854461</td>\n",
       "      <td>-0.534179</td>\n",
       "      <td>-0.335182</td>\n",
       "      <td>0.690728</td>\n",
       "    </tr>\n",
       "  </tbody>\n",
       "</table>\n",
       "<p>1000 rows × 10 columns</p>\n",
       "</div>"
      ],
      "text/plain": [
       "       classe     idade  irmaos_conjuge  pais_filhos    tarifa  sexo_female  \\\n",
       "0   -1.425645  0.166535       -0.508134    -0.464067 -0.432706     1.170328   \n",
       "1   -1.425645 -6.047956        0.528874     1.844725 -0.432706    -0.854461   \n",
       "2   -1.425645  0.166535       -0.508134    -0.464067  0.029561    -0.854461   \n",
       "3   -1.425645  0.166535        0.528874    -0.464067  1.994240     1.170328   \n",
       "4   -1.425645  0.166535        1.565881    -0.464067  0.982284     1.170328   \n",
       "..        ...       ...             ...          ...       ...          ...   \n",
       "995  0.907653  0.166535       -0.508134    -0.464067 -0.689877    -0.854461   \n",
       "996  0.907653  0.166535        0.528874     1.844725 -0.088912     1.170328   \n",
       "997 -1.425645  0.166535        0.528874    -0.464067  1.284995    -0.854461   \n",
       "998 -0.258996  0.166535        0.528874    -0.464067 -0.545607    -0.854461   \n",
       "999  0.907653  0.166535       -0.508134    -0.464067 -0.687966    -0.854461   \n",
       "\n",
       "     sexo_male  embarque_C  embarque_Q  embarque_S  \n",
       "0    -1.170328   -0.534179   -0.335182    0.690728  \n",
       "1     0.854461   -0.534179   -0.335182    0.690728  \n",
       "2     0.854461   -0.534179   -0.335182    0.690728  \n",
       "3    -1.170328   -0.534179   -0.335182    0.690728  \n",
       "4    -1.170328   -0.534179   -0.335182    0.690728  \n",
       "..         ...         ...         ...         ...  \n",
       "995   0.854461   -0.534179    2.983453   -1.447748  \n",
       "996  -1.170328   -0.534179   -0.335182    0.690728  \n",
       "997   0.854461    1.872032   -0.335182   -1.447748  \n",
       "998   0.854461   -0.534179   -0.335182    0.690728  \n",
       "999   0.854461   -0.534179   -0.335182    0.690728  \n",
       "\n",
       "[1000 rows x 10 columns]"
      ]
     },
     "execution_count": 86,
     "metadata": {},
     "output_type": "execute_result"
    }
   ],
   "source": [
    "X"
   ]
  },
  {
   "cell_type": "code",
   "execution_count": 87,
   "metadata": {},
   "outputs": [],
   "source": [
    "#Vamos separar em treino e teste\n",
    "#Obs: random_state deixa os valores aleatírios dentro de um range\n",
    "#Eu posso usar 3,5,6, qualquer número inteiro que dentro de um range eu pego um sequencia de valores\n",
    "X_treino, X_teste, y_treino, y_teste = train_test_split(X,y,test_size = 0.3,random_state = 42)"
   ]
  },
  {
   "cell_type": "code",
   "execution_count": 88,
   "metadata": {},
   "outputs": [
    {
     "name": "stdout",
     "output_type": "stream",
     "text": [
      "700\n",
      "300\n"
     ]
    }
   ],
   "source": [
    "print(len(X_treino))\n",
    "print(len(X_teste))"
   ]
  },
  {
   "cell_type": "code",
   "execution_count": 89,
   "metadata": {},
   "outputs": [],
   "source": [
    "#Vamos instanciar\n",
    "lr = LogisticRegression(random_state=42)"
   ]
  },
  {
   "cell_type": "code",
   "execution_count": 90,
   "metadata": {},
   "outputs": [
    {
     "data": {
      "text/html": [
       "<style>#sk-container-id-6 {color: black;background-color: white;}#sk-container-id-6 pre{padding: 0;}#sk-container-id-6 div.sk-toggleable {background-color: white;}#sk-container-id-6 label.sk-toggleable__label {cursor: pointer;display: block;width: 100%;margin-bottom: 0;padding: 0.3em;box-sizing: border-box;text-align: center;}#sk-container-id-6 label.sk-toggleable__label-arrow:before {content: \"▸\";float: left;margin-right: 0.25em;color: #696969;}#sk-container-id-6 label.sk-toggleable__label-arrow:hover:before {color: black;}#sk-container-id-6 div.sk-estimator:hover label.sk-toggleable__label-arrow:before {color: black;}#sk-container-id-6 div.sk-toggleable__content {max-height: 0;max-width: 0;overflow: hidden;text-align: left;background-color: #f0f8ff;}#sk-container-id-6 div.sk-toggleable__content pre {margin: 0.2em;color: black;border-radius: 0.25em;background-color: #f0f8ff;}#sk-container-id-6 input.sk-toggleable__control:checked~div.sk-toggleable__content {max-height: 200px;max-width: 100%;overflow: auto;}#sk-container-id-6 input.sk-toggleable__control:checked~label.sk-toggleable__label-arrow:before {content: \"▾\";}#sk-container-id-6 div.sk-estimator input.sk-toggleable__control:checked~label.sk-toggleable__label {background-color: #d4ebff;}#sk-container-id-6 div.sk-label input.sk-toggleable__control:checked~label.sk-toggleable__label {background-color: #d4ebff;}#sk-container-id-6 input.sk-hidden--visually {border: 0;clip: rect(1px 1px 1px 1px);clip: rect(1px, 1px, 1px, 1px);height: 1px;margin: -1px;overflow: hidden;padding: 0;position: absolute;width: 1px;}#sk-container-id-6 div.sk-estimator {font-family: monospace;background-color: #f0f8ff;border: 1px dotted black;border-radius: 0.25em;box-sizing: border-box;margin-bottom: 0.5em;}#sk-container-id-6 div.sk-estimator:hover {background-color: #d4ebff;}#sk-container-id-6 div.sk-parallel-item::after {content: \"\";width: 100%;border-bottom: 1px solid gray;flex-grow: 1;}#sk-container-id-6 div.sk-label:hover label.sk-toggleable__label {background-color: #d4ebff;}#sk-container-id-6 div.sk-serial::before {content: \"\";position: absolute;border-left: 1px solid gray;box-sizing: border-box;top: 0;bottom: 0;left: 50%;z-index: 0;}#sk-container-id-6 div.sk-serial {display: flex;flex-direction: column;align-items: center;background-color: white;padding-right: 0.2em;padding-left: 0.2em;position: relative;}#sk-container-id-6 div.sk-item {position: relative;z-index: 1;}#sk-container-id-6 div.sk-parallel {display: flex;align-items: stretch;justify-content: center;background-color: white;position: relative;}#sk-container-id-6 div.sk-item::before, #sk-container-id-6 div.sk-parallel-item::before {content: \"\";position: absolute;border-left: 1px solid gray;box-sizing: border-box;top: 0;bottom: 0;left: 50%;z-index: -1;}#sk-container-id-6 div.sk-parallel-item {display: flex;flex-direction: column;z-index: 1;position: relative;background-color: white;}#sk-container-id-6 div.sk-parallel-item:first-child::after {align-self: flex-end;width: 50%;}#sk-container-id-6 div.sk-parallel-item:last-child::after {align-self: flex-start;width: 50%;}#sk-container-id-6 div.sk-parallel-item:only-child::after {width: 0;}#sk-container-id-6 div.sk-dashed-wrapped {border: 1px dashed gray;margin: 0 0.4em 0.5em 0.4em;box-sizing: border-box;padding-bottom: 0.4em;background-color: white;}#sk-container-id-6 div.sk-label label {font-family: monospace;font-weight: bold;display: inline-block;line-height: 1.2em;}#sk-container-id-6 div.sk-label-container {text-align: center;}#sk-container-id-6 div.sk-container {/* jupyter's `normalize.less` sets `[hidden] { display: none; }` but bootstrap.min.css set `[hidden] { display: none !important; }` so we also need the `!important` here to be able to override the default hidden behavior on the sphinx rendered scikit-learn.org. See: https://github.com/scikit-learn/scikit-learn/issues/21755 */display: inline-block !important;position: relative;}#sk-container-id-6 div.sk-text-repr-fallback {display: none;}</style><div id=\"sk-container-id-6\" class=\"sk-top-container\"><div class=\"sk-text-repr-fallback\"><pre>LogisticRegression(random_state=42)</pre><b>In a Jupyter environment, please rerun this cell to show the HTML representation or trust the notebook. <br />On GitHub, the HTML representation is unable to render, please try loading this page with nbviewer.org.</b></div><div class=\"sk-container\" hidden><div class=\"sk-item\"><div class=\"sk-estimator sk-toggleable\"><input class=\"sk-toggleable__control sk-hidden--visually\" id=\"sk-estimator-id-6\" type=\"checkbox\" checked><label for=\"sk-estimator-id-6\" class=\"sk-toggleable__label sk-toggleable__label-arrow\">LogisticRegression</label><div class=\"sk-toggleable__content\"><pre>LogisticRegression(random_state=42)</pre></div></div></div></div></div>"
      ],
      "text/plain": [
       "LogisticRegression(random_state=42)"
      ]
     },
     "execution_count": 90,
     "metadata": {},
     "output_type": "execute_result"
    }
   ],
   "source": [
    "#Treinar\n",
    "lr.fit(X_treino, y_treino)"
   ]
  },
  {
   "cell_type": "code",
   "execution_count": 91,
   "metadata": {},
   "outputs": [
    {
     "data": {
      "text/plain": [
       "0.8"
      ]
     },
     "execution_count": 91,
     "metadata": {},
     "output_type": "execute_result"
    }
   ],
   "source": [
    "lr.score(X_teste, y_teste)"
   ]
  },
  {
   "cell_type": "code",
   "execution_count": 92,
   "metadata": {},
   "outputs": [],
   "source": [
    "#A seguir, apresentamos algumas das características que incluiremos em cada modelo:\n",
    "lr = LogisticRegression(C=1.0, class_weight=None, dual=False, fit_intercept=True, \n",
    "                        intercept_scaling=1, max_iter=100, multi_class='ovr', \n",
    "                        n_jobs=1, penalty='l2', random_state=42, solver='liblinear', \n",
    "                        tol=0.0001, verbose=0, warm_start=False)"
   ]
  },
  {
   "cell_type": "code",
   "execution_count": 93,
   "metadata": {},
   "outputs": [
    {
     "data": {
      "text/html": [
       "<style>#sk-container-id-7 {color: black;background-color: white;}#sk-container-id-7 pre{padding: 0;}#sk-container-id-7 div.sk-toggleable {background-color: white;}#sk-container-id-7 label.sk-toggleable__label {cursor: pointer;display: block;width: 100%;margin-bottom: 0;padding: 0.3em;box-sizing: border-box;text-align: center;}#sk-container-id-7 label.sk-toggleable__label-arrow:before {content: \"▸\";float: left;margin-right: 0.25em;color: #696969;}#sk-container-id-7 label.sk-toggleable__label-arrow:hover:before {color: black;}#sk-container-id-7 div.sk-estimator:hover label.sk-toggleable__label-arrow:before {color: black;}#sk-container-id-7 div.sk-toggleable__content {max-height: 0;max-width: 0;overflow: hidden;text-align: left;background-color: #f0f8ff;}#sk-container-id-7 div.sk-toggleable__content pre {margin: 0.2em;color: black;border-radius: 0.25em;background-color: #f0f8ff;}#sk-container-id-7 input.sk-toggleable__control:checked~div.sk-toggleable__content {max-height: 200px;max-width: 100%;overflow: auto;}#sk-container-id-7 input.sk-toggleable__control:checked~label.sk-toggleable__label-arrow:before {content: \"▾\";}#sk-container-id-7 div.sk-estimator input.sk-toggleable__control:checked~label.sk-toggleable__label {background-color: #d4ebff;}#sk-container-id-7 div.sk-label input.sk-toggleable__control:checked~label.sk-toggleable__label {background-color: #d4ebff;}#sk-container-id-7 input.sk-hidden--visually {border: 0;clip: rect(1px 1px 1px 1px);clip: rect(1px, 1px, 1px, 1px);height: 1px;margin: -1px;overflow: hidden;padding: 0;position: absolute;width: 1px;}#sk-container-id-7 div.sk-estimator {font-family: monospace;background-color: #f0f8ff;border: 1px dotted black;border-radius: 0.25em;box-sizing: border-box;margin-bottom: 0.5em;}#sk-container-id-7 div.sk-estimator:hover {background-color: #d4ebff;}#sk-container-id-7 div.sk-parallel-item::after {content: \"\";width: 100%;border-bottom: 1px solid gray;flex-grow: 1;}#sk-container-id-7 div.sk-label:hover label.sk-toggleable__label {background-color: #d4ebff;}#sk-container-id-7 div.sk-serial::before {content: \"\";position: absolute;border-left: 1px solid gray;box-sizing: border-box;top: 0;bottom: 0;left: 50%;z-index: 0;}#sk-container-id-7 div.sk-serial {display: flex;flex-direction: column;align-items: center;background-color: white;padding-right: 0.2em;padding-left: 0.2em;position: relative;}#sk-container-id-7 div.sk-item {position: relative;z-index: 1;}#sk-container-id-7 div.sk-parallel {display: flex;align-items: stretch;justify-content: center;background-color: white;position: relative;}#sk-container-id-7 div.sk-item::before, #sk-container-id-7 div.sk-parallel-item::before {content: \"\";position: absolute;border-left: 1px solid gray;box-sizing: border-box;top: 0;bottom: 0;left: 50%;z-index: -1;}#sk-container-id-7 div.sk-parallel-item {display: flex;flex-direction: column;z-index: 1;position: relative;background-color: white;}#sk-container-id-7 div.sk-parallel-item:first-child::after {align-self: flex-end;width: 50%;}#sk-container-id-7 div.sk-parallel-item:last-child::after {align-self: flex-start;width: 50%;}#sk-container-id-7 div.sk-parallel-item:only-child::after {width: 0;}#sk-container-id-7 div.sk-dashed-wrapped {border: 1px dashed gray;margin: 0 0.4em 0.5em 0.4em;box-sizing: border-box;padding-bottom: 0.4em;background-color: white;}#sk-container-id-7 div.sk-label label {font-family: monospace;font-weight: bold;display: inline-block;line-height: 1.2em;}#sk-container-id-7 div.sk-label-container {text-align: center;}#sk-container-id-7 div.sk-container {/* jupyter's `normalize.less` sets `[hidden] { display: none; }` but bootstrap.min.css set `[hidden] { display: none !important; }` so we also need the `!important` here to be able to override the default hidden behavior on the sphinx rendered scikit-learn.org. See: https://github.com/scikit-learn/scikit-learn/issues/21755 */display: inline-block !important;position: relative;}#sk-container-id-7 div.sk-text-repr-fallback {display: none;}</style><div id=\"sk-container-id-7\" class=\"sk-top-container\"><div class=\"sk-text-repr-fallback\"><pre>LogisticRegression(multi_class=&#x27;ovr&#x27;, n_jobs=1, random_state=42,\n",
       "                   solver=&#x27;liblinear&#x27;)</pre><b>In a Jupyter environment, please rerun this cell to show the HTML representation or trust the notebook. <br />On GitHub, the HTML representation is unable to render, please try loading this page with nbviewer.org.</b></div><div class=\"sk-container\" hidden><div class=\"sk-item\"><div class=\"sk-estimator sk-toggleable\"><input class=\"sk-toggleable__control sk-hidden--visually\" id=\"sk-estimator-id-7\" type=\"checkbox\" checked><label for=\"sk-estimator-id-7\" class=\"sk-toggleable__label sk-toggleable__label-arrow\">LogisticRegression</label><div class=\"sk-toggleable__content\"><pre>LogisticRegression(multi_class=&#x27;ovr&#x27;, n_jobs=1, random_state=42,\n",
       "                   solver=&#x27;liblinear&#x27;)</pre></div></div></div></div></div>"
      ],
      "text/plain": [
       "LogisticRegression(multi_class='ovr', n_jobs=1, random_state=42,\n",
       "                   solver='liblinear')"
      ]
     },
     "execution_count": 93,
     "metadata": {},
     "output_type": "execute_result"
    }
   ],
   "source": [
    "lr.fit(X_treino, y_treino)"
   ]
  },
  {
   "cell_type": "code",
   "execution_count": 94,
   "metadata": {},
   "outputs": [
    {
     "data": {
      "text/plain": [
       "0.8"
      ]
     },
     "execution_count": 94,
     "metadata": {},
     "output_type": "execute_result"
    }
   ],
   "source": [
    "lr.score(X_teste, y_teste)"
   ]
  },
  {
   "cell_type": "markdown",
   "metadata": {},
   "source": [
    "### Cross Validation. ou Validação Cruzada é uma técnica para avaliar a capacidade de generalização de um modelo,  a partir de um conjunto de dados."
   ]
  },
  {
   "cell_type": "code",
   "execution_count": 95,
   "metadata": {},
   "outputs": [],
   "source": [
    "from sklearn.model_selection import cross_val_score"
   ]
  },
  {
   "cell_type": "code",
   "execution_count": 96,
   "metadata": {},
   "outputs": [
    {
     "name": "stdout",
     "output_type": "stream",
     "text": [
      "Scores = [0.82 0.83 0.79 0.82 0.83 0.8  0.7  0.67 0.6  0.72]\n",
      "Média dos Scores = 0.7579999999999999\n"
     ]
    }
   ],
   "source": [
    "cv_scores = cross_val_score(lr,X,y, cv=10, scoring='accuracy')\n",
    "print(f'Scores = {cv_scores}')\n",
    "print(f'Média dos Scores = {cv_scores.mean()}')"
   ]
  },
  {
   "cell_type": "code",
   "execution_count": 97,
   "metadata": {},
   "outputs": [
    {
     "data": {
      "text/plain": [
       "array([0, 0, 0, 0, 0, 0, 0, 1, 1, 1, 1, 1, 0, 0, 0, 0, 1, 0, 1, 1, 0, 1,\n",
       "       0, 0, 1, 1, 1, 0, 0, 0, 1, 1, 0, 1, 1, 0, 0, 1, 0, 0, 0, 1, 1, 1,\n",
       "       1, 0, 0, 0, 1, 0, 0, 0, 1, 0, 1, 0, 0, 1, 1, 0, 1, 1, 0, 0, 0, 0,\n",
       "       0, 0, 1, 0, 1, 1, 0, 0, 1, 1, 0, 1, 0, 1, 0, 1, 0, 1, 1, 0, 0, 0,\n",
       "       0, 1, 1, 1, 1, 0, 0, 0, 0, 1, 1, 0, 0, 0, 0, 1, 0, 0, 0, 0, 1, 0,\n",
       "       0, 0, 1, 0, 1, 0, 1, 0, 0, 1, 1, 1, 0, 1, 1, 0, 0, 1, 0, 1, 0, 1,\n",
       "       1, 0, 0, 0, 1, 1, 0, 1, 1, 1, 0, 1, 1, 0, 0, 1, 0, 0, 0, 1, 0, 1,\n",
       "       0, 0, 1, 0, 1, 1, 0, 0, 0, 0, 0, 1, 1, 1, 1, 1, 1, 1, 1, 0, 0, 1,\n",
       "       1, 1, 0, 0, 1, 0, 1, 0, 0, 1, 1, 0, 0, 0, 1, 1, 1, 1, 1, 0, 0, 1,\n",
       "       0, 1, 1, 0, 0, 0, 0, 0, 1, 0, 1, 0, 1, 1, 0, 0, 0, 0, 0, 1, 0, 1,\n",
       "       1, 0, 0, 1, 0, 0, 0, 0, 1, 1, 1, 0, 1, 0, 1, 1, 1, 0, 1, 1, 1, 1,\n",
       "       0, 0, 1, 1, 0, 1, 1, 1, 1, 1, 1, 0, 0, 1, 0, 0, 0, 1, 0, 0, 1, 1,\n",
       "       1, 1, 1, 0, 1, 0, 0, 1, 0, 1, 0, 1, 1, 0, 1, 0, 0, 0, 1, 1, 1, 0,\n",
       "       1, 0, 1, 0, 0, 0, 1, 0, 1, 0, 0, 1, 1, 1], dtype=int64)"
      ]
     },
     "execution_count": 97,
     "metadata": {},
     "output_type": "execute_result"
    }
   ],
   "source": [
    "#Obter a previsões\n",
    "lr_previsoes = lr.predict(X_teste)\n",
    "lr_previsoes"
   ]
  },
  {
   "cell_type": "code",
   "execution_count": 98,
   "metadata": {},
   "outputs": [
    {
     "data": {
      "text/plain": [
       "array([[0.58534937, 0.41465063],\n",
       "       [0.73811596, 0.26188404],\n",
       "       [0.73811596, 0.26188404],\n",
       "       [0.78093199, 0.21906801],\n",
       "       [0.73072055, 0.26927945],\n",
       "       [0.64034965, 0.35965035],\n",
       "       [0.56854408, 0.43145592],\n",
       "       [0.23365274, 0.76634726],\n",
       "       [0.25340051, 0.74659949],\n",
       "       [0.0330856 , 0.9669144 ],\n",
       "       [0.25340051, 0.74659949],\n",
       "       [0.32357465, 0.67642535],\n",
       "       [0.94616696, 0.05383304],\n",
       "       [0.82846384, 0.17153616],\n",
       "       [0.76146531, 0.23853469],\n",
       "       [0.82840063, 0.17159937],\n",
       "       [0.19839099, 0.80160901],\n",
       "       [0.82715367, 0.17284633],\n",
       "       [0.25565086, 0.74434914],\n",
       "       [0.37385065, 0.62614935],\n",
       "       [0.78300573, 0.21699427],\n",
       "       [0.09948226, 0.90051774],\n",
       "       [0.8298708 , 0.1701292 ],\n",
       "       [0.73811596, 0.26188404],\n",
       "       [0.20468311, 0.79531689],\n",
       "       [0.23710562, 0.76289438],\n",
       "       [0.29263779, 0.70736221],\n",
       "       [0.73811596, 0.26188404],\n",
       "       [0.82715367, 0.17284633],\n",
       "       [0.89810205, 0.10189795],\n",
       "       [0.25340051, 0.74659949],\n",
       "       [0.02588208, 0.97411792],\n",
       "       [0.80237065, 0.19762935],\n",
       "       [0.23365274, 0.76634726],\n",
       "       [0.3008075 , 0.6991925 ],\n",
       "       [0.55776639, 0.44223361],\n",
       "       [0.81703012, 0.18296988],\n",
       "       [0.25239334, 0.74760666],\n",
       "       [0.93966738, 0.06033262],\n",
       "       [0.5700287 , 0.4299713 ],\n",
       "       [0.65928135, 0.34071865],\n",
       "       [0.41938992, 0.58061008],\n",
       "       [0.22344127, 0.77655873],\n",
       "       [0.36349978, 0.63650022],\n",
       "       [0.16209673, 0.83790327],\n",
       "       [0.73811596, 0.26188404],\n",
       "       [0.88741054, 0.11258946],\n",
       "       [0.58449864, 0.41550136],\n",
       "       [0.1967127 , 0.8032873 ],\n",
       "       [0.82818978, 0.17181022],\n",
       "       [0.67976556, 0.32023444],\n",
       "       [0.82818978, 0.17181022],\n",
       "       [0.14344773, 0.85655227],\n",
       "       [0.82598481, 0.17401519],\n",
       "       [0.07530982, 0.92469018],\n",
       "       [0.58452153, 0.41547847],\n",
       "       [0.55776639, 0.44223361],\n",
       "       [0.03764276, 0.96235724],\n",
       "       [0.24251067, 0.75748933],\n",
       "       [0.50802744, 0.49197256],\n",
       "       [0.24469243, 0.75530757],\n",
       "       [0.05330295, 0.94669705],\n",
       "       [0.76423274, 0.23576726],\n",
       "       [0.73234424, 0.26765576],\n",
       "       [0.73234424, 0.26765576],\n",
       "       [0.85184327, 0.14815673],\n",
       "       [0.86945431, 0.13054569],\n",
       "       [0.72249238, 0.27750762],\n",
       "       [0.04927486, 0.95072514],\n",
       "       [0.73234424, 0.26765576],\n",
       "       [0.08863431, 0.91136569],\n",
       "       [0.21893373, 0.78106627],\n",
       "       [0.83087313, 0.16912687],\n",
       "       [0.73811596, 0.26188404],\n",
       "       [0.38449184, 0.61550816],\n",
       "       [0.20468311, 0.79531689],\n",
       "       [0.72249238, 0.27750762],\n",
       "       [0.08778374, 0.91221626],\n",
       "       [0.82844985, 0.17155015],\n",
       "       [0.19942486, 0.80057514],\n",
       "       [0.82844985, 0.17155015],\n",
       "       [0.0757726 , 0.9242274 ],\n",
       "       [0.59160191, 0.40839809],\n",
       "       [0.41510031, 0.58489969],\n",
       "       [0.20371946, 0.79628054],\n",
       "       [0.82818978, 0.17181022],\n",
       "       [0.79070775, 0.20929225],\n",
       "       [0.72090448, 0.27909552],\n",
       "       [0.82715367, 0.17284633],\n",
       "       [0.38135643, 0.61864357],\n",
       "       [0.3122777 , 0.6877223 ],\n",
       "       [0.31265988, 0.68734012],\n",
       "       [0.31040232, 0.68959768],\n",
       "       [0.77499308, 0.22500692],\n",
       "       [0.84135242, 0.15864758],\n",
       "       [0.78274176, 0.21725824],\n",
       "       [0.82818978, 0.17181022],\n",
       "       [0.05089131, 0.94910869],\n",
       "       [0.09435337, 0.90564663],\n",
       "       [0.85837275, 0.14162725],\n",
       "       [0.73234424, 0.26765576],\n",
       "       [0.86985591, 0.13014409],\n",
       "       [0.82715367, 0.17284633],\n",
       "       [0.12000367, 0.87999633],\n",
       "       [0.92288148, 0.07711852],\n",
       "       [0.82818978, 0.17181022],\n",
       "       [0.82869547, 0.17130453],\n",
       "       [0.77145164, 0.22854836],\n",
       "       [0.1074134 , 0.8925866 ],\n",
       "       [0.92288148, 0.07711852],\n",
       "       [0.76082827, 0.23917173],\n",
       "       [0.82865337, 0.17134663],\n",
       "       [0.20139797, 0.79860203],\n",
       "       [0.78300573, 0.21699427],\n",
       "       [0.07530982, 0.92469018],\n",
       "       [0.83691464, 0.16308536],\n",
       "       [0.11685474, 0.88314526],\n",
       "       [0.82886376, 0.17113624],\n",
       "       [0.75926381, 0.24073619],\n",
       "       [0.20955208, 0.79044792],\n",
       "       [0.23030305, 0.76969695],\n",
       "       [0.34193723, 0.65806277],\n",
       "       [0.52103716, 0.47896284],\n",
       "       [0.01941758, 0.98058242],\n",
       "       [0.15599591, 0.84400409],\n",
       "       [0.81700872, 0.18299128],\n",
       "       [0.58376525, 0.41623475],\n",
       "       [0.19672057, 0.80327943],\n",
       "       [0.70773834, 0.29226166],\n",
       "       [0.25311072, 0.74688928],\n",
       "       [0.67285298, 0.32714702],\n",
       "       [0.31893294, 0.68106706],\n",
       "       [0.20955208, 0.79044792],\n",
       "       [0.7830561 , 0.2169439 ],\n",
       "       [0.58534937, 0.41465063],\n",
       "       [0.58376525, 0.41623475],\n",
       "       [0.46405671, 0.53594329],\n",
       "       [0.20468311, 0.79531689],\n",
       "       [0.58376525, 0.41623475],\n",
       "       [0.0252956 , 0.9747044 ],\n",
       "       [0.06084859, 0.93915141],\n",
       "       [0.19170199, 0.80829801],\n",
       "       [0.82621192, 0.17378808],\n",
       "       [0.20799052, 0.79200948],\n",
       "       [0.35856668, 0.64143332],\n",
       "       [0.81703012, 0.18296988],\n",
       "       [0.58376525, 0.41623475],\n",
       "       [0.21682444, 0.78317556],\n",
       "       [0.78274526, 0.21725474],\n",
       "       [0.82886376, 0.17113624],\n",
       "       [0.76082827, 0.23917173],\n",
       "       [0.04076458, 0.95923542],\n",
       "       [0.76422398, 0.23577602],\n",
       "       [0.25277456, 0.74722544],\n",
       "       [0.85597275, 0.14402725],\n",
       "       [0.82865337, 0.17134663],\n",
       "       [0.23030305, 0.76969695],\n",
       "       [0.86843568, 0.13156432],\n",
       "       [0.11087263, 0.88912737],\n",
       "       [0.46296215, 0.53703785],\n",
       "       [0.82715367, 0.17284633],\n",
       "       [0.72249238, 0.27750762],\n",
       "       [0.82865337, 0.17134663],\n",
       "       [0.73234424, 0.26765576],\n",
       "       [0.58132682, 0.41867318],\n",
       "       [0.35603991, 0.64396009],\n",
       "       [0.20468311, 0.79531689],\n",
       "       [0.4194972 , 0.5805028 ],\n",
       "       [0.26949204, 0.73050796],\n",
       "       [0.32424902, 0.67575098],\n",
       "       [0.45618606, 0.54381394],\n",
       "       [0.31337194, 0.68662806],\n",
       "       [0.47267377, 0.52732623],\n",
       "       [0.82818978, 0.17181022],\n",
       "       [0.82861834, 0.17138166],\n",
       "       [0.40022931, 0.59977069],\n",
       "       [0.20955208, 0.79044792],\n",
       "       [0.20371946, 0.79628054],\n",
       "       [0.82953565, 0.17046435],\n",
       "       [0.82844985, 0.17155015],\n",
       "       [0.30741668, 0.69258332],\n",
       "       [0.89095232, 0.10904768],\n",
       "       [0.35924891, 0.64075109],\n",
       "       [0.89867309, 0.10132691],\n",
       "       [0.82953565, 0.17046435],\n",
       "       [0.0330856 , 0.9669144 ],\n",
       "       [0.25519974, 0.74480026],\n",
       "       [0.82818978, 0.17181022],\n",
       "       [0.73811596, 0.26188404],\n",
       "       [0.78300573, 0.21699427],\n",
       "       [0.38480181, 0.61519819],\n",
       "       [0.29934834, 0.70065166],\n",
       "       [0.23365274, 0.76634726],\n",
       "       [0.0189831 , 0.9810169 ],\n",
       "       [0.22344462, 0.77655538],\n",
       "       [0.72249238, 0.27750762],\n",
       "       [0.82861834, 0.17138166],\n",
       "       [0.21075051, 0.78924949],\n",
       "       [0.78300573, 0.21699427],\n",
       "       [0.04690436, 0.95309564],\n",
       "       [0.01923504, 0.98076496],\n",
       "       [0.65771642, 0.34228358],\n",
       "       [0.73072055, 0.26927945],\n",
       "       [0.5091017 , 0.4908983 ],\n",
       "       [0.78300573, 0.21699427],\n",
       "       [0.93966738, 0.06033262],\n",
       "       [0.11216526, 0.88783474],\n",
       "       [0.82818978, 0.17181022],\n",
       "       [0.30805894, 0.69194106],\n",
       "       [0.58820686, 0.41179314],\n",
       "       [0.03578552, 0.96421448],\n",
       "       [0.04943393, 0.95056607],\n",
       "       [0.76082827, 0.23917173],\n",
       "       [0.58376525, 0.41623475],\n",
       "       [0.78300573, 0.21699427],\n",
       "       [0.59431355, 0.40568645],\n",
       "       [0.82818978, 0.17181022],\n",
       "       [0.19895191, 0.80104809],\n",
       "       [0.70106367, 0.29893633],\n",
       "       [0.37683177, 0.62316823],\n",
       "       [0.18966964, 0.81033036],\n",
       "       [0.82844985, 0.17155015],\n",
       "       [0.91406169, 0.08593831],\n",
       "       [0.05201787, 0.94798213],\n",
       "       [0.82844985, 0.17155015],\n",
       "       [0.58376525, 0.41623475],\n",
       "       [0.78300573, 0.21699427],\n",
       "       [0.86985591, 0.13014409],\n",
       "       [0.25311072, 0.74688928],\n",
       "       [0.31040232, 0.68959768],\n",
       "       [0.25345661, 0.74654339],\n",
       "       [0.82602742, 0.17397258],\n",
       "       [0.31323364, 0.68676636],\n",
       "       [0.58449864, 0.41550136],\n",
       "       [0.08372562, 0.91627438],\n",
       "       [0.06525754, 0.93474246],\n",
       "       [0.13555178, 0.86444822],\n",
       "       [0.82865337, 0.17134663],\n",
       "       [0.16084349, 0.83915651],\n",
       "       [0.45325819, 0.54674181],\n",
       "       [0.08863431, 0.91136569],\n",
       "       [0.23030305, 0.76969695],\n",
       "       [0.9204169 , 0.0795831 ],\n",
       "       [0.58376525, 0.41623475],\n",
       "       [0.19942486, 0.80057514],\n",
       "       [0.42862127, 0.57137873],\n",
       "       [0.82865337, 0.17134663],\n",
       "       [0.24657689, 0.75342311],\n",
       "       [0.05438214, 0.94561786],\n",
       "       [0.25133151, 0.74866849],\n",
       "       [0.06336755, 0.93663245],\n",
       "       [0.42573668, 0.57426332],\n",
       "       [0.25340051, 0.74659949],\n",
       "       [0.78300573, 0.21699427],\n",
       "       [0.82840063, 0.17159937],\n",
       "       [0.1967127 , 0.8032873 ],\n",
       "       [0.88028261, 0.11971739],\n",
       "       [0.86870077, 0.13129923],\n",
       "       [0.78300573, 0.21699427],\n",
       "       [0.09948226, 0.90051774],\n",
       "       [0.58556525, 0.41443475],\n",
       "       [0.76805506, 0.23194494],\n",
       "       [0.06361932, 0.93638068],\n",
       "       [0.23030305, 0.76969695],\n",
       "       [0.35856668, 0.64143332],\n",
       "       [0.24098251, 0.75901749],\n",
       "       [0.42522399, 0.57477601],\n",
       "       [0.82999635, 0.17000365],\n",
       "       [0.25340051, 0.74659949],\n",
       "       [0.73072055, 0.26927945],\n",
       "       [0.84135242, 0.15864758],\n",
       "       [0.11730375, 0.88269625],\n",
       "       [0.82865337, 0.17134663],\n",
       "       [0.32058481, 0.67941519],\n",
       "       [0.82715367, 0.17284633],\n",
       "       [0.08372562, 0.91627438],\n",
       "       [0.35767311, 0.64232689],\n",
       "       [0.82844985, 0.17155015],\n",
       "       [0.0478372 , 0.9521628 ],\n",
       "       [0.78300573, 0.21699427],\n",
       "       [0.82844985, 0.17155015],\n",
       "       [0.82953565, 0.17046435],\n",
       "       [0.20468311, 0.79531689],\n",
       "       [0.31169457, 0.68830543],\n",
       "       [0.20468311, 0.79531689],\n",
       "       [0.57813509, 0.42186491],\n",
       "       [0.35502836, 0.64497164],\n",
       "       [0.77102848, 0.22897152],\n",
       "       [0.20955208, 0.79044792],\n",
       "       [0.5723394 , 0.4276606 ],\n",
       "       [0.82844985, 0.17155015],\n",
       "       [0.82572895, 0.17427105],\n",
       "       [0.15989152, 0.84010848],\n",
       "       [0.86772263, 0.13227737],\n",
       "       [0.06805955, 0.93194045],\n",
       "       [0.82818978, 0.17181022],\n",
       "       [0.82844985, 0.17155015],\n",
       "       [0.25311072, 0.74688928],\n",
       "       [0.06624472, 0.93375528],\n",
       "       [0.15869394, 0.84130606]])"
      ]
     },
     "execution_count": 98,
     "metadata": {},
     "output_type": "execute_result"
    }
   ],
   "source": [
    "# Obter a previsões da probabilidade\n",
    "#Note que ele retorna  probabilidade da classe 0 e 1 respectivamente\n",
    "lr_previsoes_prob = lr.predict_proba(X_teste)\n",
    "lr_previsoes_prob"
   ]
  },
  {
   "cell_type": "markdown",
   "metadata": {},
   "source": [
    "### Matriz de Confusão "
   ]
  },
  {
   "cell_type": "code",
   "execution_count": 99,
   "metadata": {},
   "outputs": [
    {
     "data": {
      "image/png": "[encoded data removed]",
      "text/plain": [
       "<Figure size 576x396 with 2 Axes>"
      ]
     },
     "metadata": {},
     "output_type": "display_data"
    }
   ],
   "source": [
    "sns.heatmap(confusion_matrix(y_teste, lr_previsoes), cmap='OrRd', annot=True, fmt='2.0f')\n",
    "plt.title('Regressão Logística')\n",
    "plt.ylabel('P R E V I S T O')\n",
    "plt.xlabel('R E A L')\n",
    "plt.show()"
   ]
  },
  {
   "cell_type": "code",
   "execution_count": 100,
   "metadata": {},
   "outputs": [
    {
     "name": "stdout",
     "output_type": "stream",
     "text": [
      "Acurácia:0.8\n",
      "Precisão:0.81\n",
      "Recall ou Sensibilidade:0.78\n",
      "F1-Score:0.8\n",
      "Kappa:0.6\n",
      "Curva ROC:0.8\n"
     ]
    }
   ],
   "source": [
    "#Acurácia, Sensibilidade positiva (VP/(VP+FN),  Precisão, Recall, F1-Score\n",
    "acuracia = accuracy_score(y_teste,lr_previsoes)\n",
    "precisao = precision_score(y_teste,lr_previsoes)\n",
    "recall = recall_score(y_teste,lr_previsoes)\n",
    "f1Score = f1_score(y_teste,lr_previsoes)\n",
    "lr_curva_roc = roc_auc_score(y_teste,lr_previsoes)\n",
    "kappa = cohen_kappa_score(y_teste,lr_previsoes)\n",
    "print(f'Acurácia:{round(acuracia,2)}')\n",
    "print(f'Precisão:{round(precisao,2)}')\n",
    "print(f'Recall ou Sensibilidade:{round(recall,2)}')\n",
    "print(f'F1-Score:{round(f1Score,2)}')\n",
    "print(f'Kappa:{round(kappa,2)}')\n",
    "print(f'Curva ROC:{round(lr_curva_roc,2)}')"
   ]
  },
  {
   "cell_type": "code",
   "execution_count": 101,
   "metadata": {},
   "outputs": [
    {
     "name": "stdout",
     "output_type": "stream",
     "text": [
      "              precision    recall  f1-score   support\n",
      "\n",
      "           0       0.79      0.82      0.80       150\n",
      "           1       0.81      0.78      0.80       150\n",
      "\n",
      "    accuracy                           0.80       300\n",
      "   macro avg       0.80      0.80      0.80       300\n",
      "weighted avg       0.80      0.80      0.80       300\n",
      "\n"
     ]
    }
   ],
   "source": [
    "print(classification_report(y_teste, lr.predict(X_teste)))"
   ]
  },
  {
   "cell_type": "markdown",
   "metadata": {},
   "source": [
    "### Curva ROC "
   ]
  },
  {
   "cell_type": "code",
   "execution_count": 102,
   "metadata": {},
   "outputs": [
    {
     "data": {
      "image/png": "[encoded data removed]",
      "text/plain": [
       "<Figure size 576x396 with 1 Axes>"
      ]
     },
     "metadata": {},
     "output_type": "display_data"
    }
   ],
   "source": [
    "rl_fp,rl_vp,lim1 = roc_curve(y_teste,lr_previsoes)\n",
    "plt.plot(rl_fp,rl_vp, marker='.', label='Regressão Logística='+str(round(lr_curva_roc,2)),color=\"orange\")\n",
    "plt.plot([0, 1], [0, 1], color='black', linestyle='--')\n",
    "# alterando o nome dos eixos\n",
    "plt.xlabel('1- Especificidade')\n",
    "plt.ylabel('Sensibilidade')\n",
    "# Legenda\n",
    "plt.legend()\n",
    "# Mostrando o gráfico\n",
    "plt.show()\n",
    "#fig.savefig(\"images/mlpr_0305.png\")"
   ]
  },
  {
   "cell_type": "code",
   "execution_count": 103,
   "metadata": {},
   "outputs": [
    {
     "data": {
      "image/png": "[encoded data removed]",
      "text/plain": [
       "<Figure size 576x396 with 1 Axes>"
      ]
     },
     "metadata": {},
     "output_type": "display_data"
    }
   ],
   "source": [
    "#Aqui estamos pegando apenas da classe 1\n",
    "lr_probs = lr_previsoes_prob[:,1]\n",
    "rl_fp,rl_vp,lim1 = roc_curve(y_teste,lr_probs)\n",
    "plt.plot(rl_fp,rl_vp, marker='.', label='Regressão Logística',color=\"orange\")\n",
    "plt.plot([0, 1], [0, 1], color='black', linestyle='--')\n",
    "# alterando o nome dos eixos\n",
    "plt.xlabel('1- Especificidade')\n",
    "plt.ylabel('Sensibilidade')\n",
    "# Legenda\n",
    "plt.legend()\n",
    "# Mostrando o gráfico\n",
    "plt.show()\n",
    "#fig.savefig(\"images/mlpr_0305.png\")"
   ]
  },
  {
   "cell_type": "code",
   "execution_count": 104,
   "metadata": {},
   "outputs": [
    {
     "data": {
      "text/html": [
       "<div>\n",
       "<style scoped>\n",
       "    .dataframe tbody tr th:only-of-type {\n",
       "        vertical-align: middle;\n",
       "    }\n",
       "\n",
       "    .dataframe tbody tr th {\n",
       "        vertical-align: top;\n",
       "    }\n",
       "\n",
       "    .dataframe thead th {\n",
       "        text-align: right;\n",
       "    }\n",
       "</style>\n",
       "<table border=\"1\" class=\"dataframe\">\n",
       "  <thead>\n",
       "    <tr style=\"text-align: right;\">\n",
       "      <th></th>\n",
       "      <th>classe</th>\n",
       "      <th>idade</th>\n",
       "      <th>irmaos_conjuge</th>\n",
       "      <th>pais_filhos</th>\n",
       "      <th>tarifa</th>\n",
       "      <th>sexo_female</th>\n",
       "      <th>sexo_male</th>\n",
       "      <th>embarque_C</th>\n",
       "      <th>embarque_Q</th>\n",
       "      <th>embarque_S</th>\n",
       "    </tr>\n",
       "  </thead>\n",
       "  <tbody>\n",
       "    <tr>\n",
       "      <th>521</th>\n",
       "      <td>-1.425645</td>\n",
       "      <td>0.166535</td>\n",
       "      <td>-0.508134</td>\n",
       "      <td>-0.464067</td>\n",
       "      <td>0.008542</td>\n",
       "      <td>-0.854461</td>\n",
       "      <td>0.854461</td>\n",
       "      <td>-0.534179</td>\n",
       "      <td>-0.335182</td>\n",
       "      <td>0.690728</td>\n",
       "    </tr>\n",
       "    <tr>\n",
       "      <th>737</th>\n",
       "      <td>-0.258996</td>\n",
       "      <td>0.166535</td>\n",
       "      <td>-0.508134</td>\n",
       "      <td>-0.464067</td>\n",
       "      <td>-0.583824</td>\n",
       "      <td>-0.854461</td>\n",
       "      <td>0.854461</td>\n",
       "      <td>-0.534179</td>\n",
       "      <td>-0.335182</td>\n",
       "      <td>0.690728</td>\n",
       "    </tr>\n",
       "    <tr>\n",
       "      <th>740</th>\n",
       "      <td>-0.258996</td>\n",
       "      <td>0.166535</td>\n",
       "      <td>-0.508134</td>\n",
       "      <td>-0.464067</td>\n",
       "      <td>-0.583824</td>\n",
       "      <td>-0.854461</td>\n",
       "      <td>0.854461</td>\n",
       "      <td>-0.534179</td>\n",
       "      <td>-0.335182</td>\n",
       "      <td>0.690728</td>\n",
       "    </tr>\n",
       "    <tr>\n",
       "      <th>660</th>\n",
       "      <td>0.907653</td>\n",
       "      <td>0.166535</td>\n",
       "      <td>0.528874</td>\n",
       "      <td>-0.464067</td>\n",
       "      <td>-0.739081</td>\n",
       "      <td>-0.854461</td>\n",
       "      <td>0.854461</td>\n",
       "      <td>1.872032</td>\n",
       "      <td>-0.335182</td>\n",
       "      <td>-1.447748</td>\n",
       "    </tr>\n",
       "    <tr>\n",
       "      <th>411</th>\n",
       "      <td>0.907653</td>\n",
       "      <td>0.166535</td>\n",
       "      <td>-0.508134</td>\n",
       "      <td>-0.464067</td>\n",
       "      <td>1.174004</td>\n",
       "      <td>-0.854461</td>\n",
       "      <td>0.854461</td>\n",
       "      <td>-0.534179</td>\n",
       "      <td>-0.335182</td>\n",
       "      <td>0.690728</td>\n",
       "    </tr>\n",
       "    <tr>\n",
       "      <th>...</th>\n",
       "      <td>...</td>\n",
       "      <td>...</td>\n",
       "      <td>...</td>\n",
       "      <td>...</td>\n",
       "      <td>...</td>\n",
       "      <td>...</td>\n",
       "      <td>...</td>\n",
       "      <td>...</td>\n",
       "      <td>...</td>\n",
       "      <td>...</td>\n",
       "    </tr>\n",
       "    <tr>\n",
       "      <th>468</th>\n",
       "      <td>0.907653</td>\n",
       "      <td>0.166535</td>\n",
       "      <td>-0.508134</td>\n",
       "      <td>-0.464067</td>\n",
       "      <td>-0.677456</td>\n",
       "      <td>-0.854461</td>\n",
       "      <td>0.854461</td>\n",
       "      <td>-0.534179</td>\n",
       "      <td>-0.335182</td>\n",
       "      <td>0.690728</td>\n",
       "    </tr>\n",
       "    <tr>\n",
       "      <th>935</th>\n",
       "      <td>0.907653</td>\n",
       "      <td>0.166535</td>\n",
       "      <td>-0.508134</td>\n",
       "      <td>-0.464067</td>\n",
       "      <td>-0.683349</td>\n",
       "      <td>-0.854461</td>\n",
       "      <td>0.854461</td>\n",
       "      <td>-0.534179</td>\n",
       "      <td>-0.335182</td>\n",
       "      <td>0.690728</td>\n",
       "    </tr>\n",
       "    <tr>\n",
       "      <th>428</th>\n",
       "      <td>0.907653</td>\n",
       "      <td>0.166535</td>\n",
       "      <td>-0.508134</td>\n",
       "      <td>-0.464067</td>\n",
       "      <td>-0.683984</td>\n",
       "      <td>1.170328</td>\n",
       "      <td>-1.170328</td>\n",
       "      <td>-0.534179</td>\n",
       "      <td>2.983453</td>\n",
       "      <td>-1.447748</td>\n",
       "    </tr>\n",
       "    <tr>\n",
       "      <th>7</th>\n",
       "      <td>-1.425645</td>\n",
       "      <td>0.166535</td>\n",
       "      <td>-0.508134</td>\n",
       "      <td>-0.464067</td>\n",
       "      <td>2.028318</td>\n",
       "      <td>1.170328</td>\n",
       "      <td>-1.170328</td>\n",
       "      <td>-0.534179</td>\n",
       "      <td>-0.335182</td>\n",
       "      <td>0.690728</td>\n",
       "    </tr>\n",
       "    <tr>\n",
       "      <th>155</th>\n",
       "      <td>-1.425645</td>\n",
       "      <td>0.166535</td>\n",
       "      <td>1.565881</td>\n",
       "      <td>1.844725</td>\n",
       "      <td>-0.432706</td>\n",
       "      <td>1.170328</td>\n",
       "      <td>-1.170328</td>\n",
       "      <td>1.872032</td>\n",
       "      <td>-0.335182</td>\n",
       "      <td>-1.447748</td>\n",
       "    </tr>\n",
       "  </tbody>\n",
       "</table>\n",
       "<p>300 rows × 10 columns</p>\n",
       "</div>"
      ],
      "text/plain": [
       "       classe     idade  irmaos_conjuge  pais_filhos    tarifa  sexo_female  \\\n",
       "521 -1.425645  0.166535       -0.508134    -0.464067  0.008542    -0.854461   \n",
       "737 -0.258996  0.166535       -0.508134    -0.464067 -0.583824    -0.854461   \n",
       "740 -0.258996  0.166535       -0.508134    -0.464067 -0.583824    -0.854461   \n",
       "660  0.907653  0.166535        0.528874    -0.464067 -0.739081    -0.854461   \n",
       "411  0.907653  0.166535       -0.508134    -0.464067  1.174004    -0.854461   \n",
       "..        ...       ...             ...          ...       ...          ...   \n",
       "468  0.907653  0.166535       -0.508134    -0.464067 -0.677456    -0.854461   \n",
       "935  0.907653  0.166535       -0.508134    -0.464067 -0.683349    -0.854461   \n",
       "428  0.907653  0.166535       -0.508134    -0.464067 -0.683984     1.170328   \n",
       "7   -1.425645  0.166535       -0.508134    -0.464067  2.028318     1.170328   \n",
       "155 -1.425645  0.166535        1.565881     1.844725 -0.432706     1.170328   \n",
       "\n",
       "     sexo_male  embarque_C  embarque_Q  embarque_S  \n",
       "521   0.854461   -0.534179   -0.335182    0.690728  \n",
       "737   0.854461   -0.534179   -0.335182    0.690728  \n",
       "740   0.854461   -0.534179   -0.335182    0.690728  \n",
       "660   0.854461    1.872032   -0.335182   -1.447748  \n",
       "411   0.854461   -0.534179   -0.335182    0.690728  \n",
       "..         ...         ...         ...         ...  \n",
       "468   0.854461   -0.534179   -0.335182    0.690728  \n",
       "935   0.854461   -0.534179   -0.335182    0.690728  \n",
       "428  -1.170328   -0.534179    2.983453   -1.447748  \n",
       "7    -1.170328   -0.534179   -0.335182    0.690728  \n",
       "155  -1.170328    1.872032   -0.335182   -1.447748  \n",
       "\n",
       "[300 rows x 10 columns]"
      ]
     },
     "execution_count": 104,
     "metadata": {},
     "output_type": "execute_result"
    }
   ],
   "source": [
    "X_teste"
   ]
  },
  {
   "cell_type": "code",
   "execution_count": 105,
   "metadata": {},
   "outputs": [
    {
     "data": {
      "text/plain": [
       "array([0], dtype=int64)"
      ]
     },
     "execution_count": 105,
     "metadata": {},
     "output_type": "execute_result"
    }
   ],
   "source": [
    "lr_previsoes_1 = lr.predict(X_teste[:1])\n",
    "lr_previsoes_1"
   ]
  },
  {
   "cell_type": "code",
   "execution_count": 106,
   "metadata": {},
   "outputs": [
    {
     "data": {
      "text/plain": [
       "array([[0.58534937, 0.41465063]])"
      ]
     },
     "execution_count": 106,
     "metadata": {},
     "output_type": "execute_result"
    }
   ],
   "source": [
    "lr_previsoes_1 = lr.predict_proba(X_teste[:1])\n",
    "lr_previsoes_1"
   ]
  },
  {
   "cell_type": "markdown",
   "metadata": {},
   "source": [
    "## Naive Bayes\n",
    "\n",
    "* O Naive Bayes é um classificador probabilístico que pressupõe uma independência entre os atributos dos dados; \n",
    "* É popular para aplicações de classificação de textos, por exemplo, para identificação de spams; \n",
    "* A vantagem desse modelo é que, por supor uma independência entre os atributos, ele é capaz de fazer o treinamento de um modelo com um número pequeno de amostras;\n",
    "* A desvantagem é que o modelo não conseguirá capturar as interações entre os atributos;\n",
    "* Há três classes no sklearn: GaussianNB, MultinomialNB e BernoulliNB. \n",
    "    - A primeira supõe uma distribuição gaussiana (atributos contínuos com uma distribuição normal);\n",
    "    - A segunda é para contadores de ocorrência discretos; \n",
    "    - A terceira, para atributos booleanos discretos."
   ]
  },
  {
   "cell_type": "code",
   "execution_count": 107,
   "metadata": {},
   "outputs": [],
   "source": [
    "#Importar\n",
    "from sklearn.naive_bayes import GaussianNB"
   ]
  },
  {
   "cell_type": "code",
   "execution_count": 108,
   "metadata": {},
   "outputs": [],
   "source": [
    "#Vamos instanciar\n",
    "nb = GaussianNB()"
   ]
  },
  {
   "cell_type": "code",
   "execution_count": 109,
   "metadata": {},
   "outputs": [
    {
     "data": {
      "text/html": [
       "<style>#sk-container-id-8 {color: black;background-color: white;}#sk-container-id-8 pre{padding: 0;}#sk-container-id-8 div.sk-toggleable {background-color: white;}#sk-container-id-8 label.sk-toggleable__label {cursor: pointer;display: block;width: 100%;margin-bottom: 0;padding: 0.3em;box-sizing: border-box;text-align: center;}#sk-container-id-8 label.sk-toggleable__label-arrow:before {content: \"▸\";float: left;margin-right: 0.25em;color: #696969;}#sk-container-id-8 label.sk-toggleable__label-arrow:hover:before {color: black;}#sk-container-id-8 div.sk-estimator:hover label.sk-toggleable__label-arrow:before {color: black;}#sk-container-id-8 div.sk-toggleable__content {max-height: 0;max-width: 0;overflow: hidden;text-align: left;background-color: #f0f8ff;}#sk-container-id-8 div.sk-toggleable__content pre {margin: 0.2em;color: black;border-radius: 0.25em;background-color: #f0f8ff;}#sk-container-id-8 input.sk-toggleable__control:checked~div.sk-toggleable__content {max-height: 200px;max-width: 100%;overflow: auto;}#sk-container-id-8 input.sk-toggleable__control:checked~label.sk-toggleable__label-arrow:before {content: \"▾\";}#sk-container-id-8 div.sk-estimator input.sk-toggleable__control:checked~label.sk-toggleable__label {background-color: #d4ebff;}#sk-container-id-8 div.sk-label input.sk-toggleable__control:checked~label.sk-toggleable__label {background-color: #d4ebff;}#sk-container-id-8 input.sk-hidden--visually {border: 0;clip: rect(1px 1px 1px 1px);clip: rect(1px, 1px, 1px, 1px);height: 1px;margin: -1px;overflow: hidden;padding: 0;position: absolute;width: 1px;}#sk-container-id-8 div.sk-estimator {font-family: monospace;background-color: #f0f8ff;border: 1px dotted black;border-radius: 0.25em;box-sizing: border-box;margin-bottom: 0.5em;}#sk-container-id-8 div.sk-estimator:hover {background-color: #d4ebff;}#sk-container-id-8 div.sk-parallel-item::after {content: \"\";width: 100%;border-bottom: 1px solid gray;flex-grow: 1;}#sk-container-id-8 div.sk-label:hover label.sk-toggleable__label {background-color: #d4ebff;}#sk-container-id-8 div.sk-serial::before {content: \"\";position: absolute;border-left: 1px solid gray;box-sizing: border-box;top: 0;bottom: 0;left: 50%;z-index: 0;}#sk-container-id-8 div.sk-serial {display: flex;flex-direction: column;align-items: center;background-color: white;padding-right: 0.2em;padding-left: 0.2em;position: relative;}#sk-container-id-8 div.sk-item {position: relative;z-index: 1;}#sk-container-id-8 div.sk-parallel {display: flex;align-items: stretch;justify-content: center;background-color: white;position: relative;}#sk-container-id-8 div.sk-item::before, #sk-container-id-8 div.sk-parallel-item::before {content: \"\";position: absolute;border-left: 1px solid gray;box-sizing: border-box;top: 0;bottom: 0;left: 50%;z-index: -1;}#sk-container-id-8 div.sk-parallel-item {display: flex;flex-direction: column;z-index: 1;position: relative;background-color: white;}#sk-container-id-8 div.sk-parallel-item:first-child::after {align-self: flex-end;width: 50%;}#sk-container-id-8 div.sk-parallel-item:last-child::after {align-self: flex-start;width: 50%;}#sk-container-id-8 div.sk-parallel-item:only-child::after {width: 0;}#sk-container-id-8 div.sk-dashed-wrapped {border: 1px dashed gray;margin: 0 0.4em 0.5em 0.4em;box-sizing: border-box;padding-bottom: 0.4em;background-color: white;}#sk-container-id-8 div.sk-label label {font-family: monospace;font-weight: bold;display: inline-block;line-height: 1.2em;}#sk-container-id-8 div.sk-label-container {text-align: center;}#sk-container-id-8 div.sk-container {/* jupyter's `normalize.less` sets `[hidden] { display: none; }` but bootstrap.min.css set `[hidden] { display: none !important; }` so we also need the `!important` here to be able to override the default hidden behavior on the sphinx rendered scikit-learn.org. See: https://github.com/scikit-learn/scikit-learn/issues/21755 */display: inline-block !important;position: relative;}#sk-container-id-8 div.sk-text-repr-fallback {display: none;}</style><div id=\"sk-container-id-8\" class=\"sk-top-container\"><div class=\"sk-text-repr-fallback\"><pre>GaussianNB()</pre><b>In a Jupyter environment, please rerun this cell to show the HTML representation or trust the notebook. <br />On GitHub, the HTML representation is unable to render, please try loading this page with nbviewer.org.</b></div><div class=\"sk-container\" hidden><div class=\"sk-item\"><div class=\"sk-estimator sk-toggleable\"><input class=\"sk-toggleable__control sk-hidden--visually\" id=\"sk-estimator-id-8\" type=\"checkbox\" checked><label for=\"sk-estimator-id-8\" class=\"sk-toggleable__label sk-toggleable__label-arrow\">GaussianNB</label><div class=\"sk-toggleable__content\"><pre>GaussianNB()</pre></div></div></div></div></div>"
      ],
      "text/plain": [
       "GaussianNB()"
      ]
     },
     "execution_count": 109,
     "metadata": {},
     "output_type": "execute_result"
    }
   ],
   "source": [
    "#Treinar\n",
    "nb.fit(X_treino, y_treino)"
   ]
  },
  {
   "cell_type": "code",
   "execution_count": 110,
   "metadata": {},
   "outputs": [
    {
     "data": {
      "text/plain": [
       "0.7866666666666666"
      ]
     },
     "execution_count": 110,
     "metadata": {},
     "output_type": "execute_result"
    }
   ],
   "source": [
    "nb.score(X_teste, y_teste)"
   ]
  },
  {
   "cell_type": "markdown",
   "metadata": {},
   "source": [
    "### Cross Validation. ou Validação Cruzada é uma técnica para avaliar a capacidade de generalização de um modelo,  a partir de um conjunto de dados."
   ]
  },
  {
   "cell_type": "code",
   "execution_count": 111,
   "metadata": {},
   "outputs": [
    {
     "name": "stdout",
     "output_type": "stream",
     "text": [
      "Scores = [0.83 0.84 0.8  0.83 0.85 0.77 0.7  0.67 0.51 0.73]\n",
      "Média dos Scores = 0.7529999999999999\n"
     ]
    }
   ],
   "source": [
    "cv_scores = cross_val_score(nb,X,y, cv=10, scoring='accuracy')\n",
    "print(f'Scores = {cv_scores}')\n",
    "print(f'Média dos Scores = {cv_scores.mean()}')"
   ]
  },
  {
   "cell_type": "code",
   "execution_count": 112,
   "metadata": {},
   "outputs": [
    {
     "data": {
      "text/plain": [
       "array([0, 0, 0, 0, 0, 0, 1, 1, 1, 1, 1, 0, 0, 0, 0, 0, 1, 0, 1, 1, 0, 1,\n",
       "       0, 0, 1, 1, 1, 0, 0, 0, 1, 1, 0, 1, 1, 0, 0, 1, 0, 0, 0, 1, 1, 1,\n",
       "       1, 0, 0, 0, 1, 0, 0, 0, 1, 0, 1, 0, 0, 1, 1, 0, 1, 1, 0, 0, 0, 0,\n",
       "       0, 0, 1, 0, 1, 1, 0, 0, 0, 1, 0, 1, 0, 1, 0, 1, 0, 1, 1, 0, 0, 0,\n",
       "       0, 1, 1, 1, 1, 0, 0, 0, 0, 1, 1, 0, 0, 0, 0, 1, 0, 0, 0, 0, 1, 0,\n",
       "       0, 0, 1, 0, 1, 0, 1, 0, 0, 1, 1, 1, 0, 1, 1, 0, 0, 1, 0, 1, 0, 0,\n",
       "       1, 0, 0, 0, 1, 1, 0, 1, 1, 1, 0, 1, 1, 0, 0, 1, 0, 0, 0, 1, 0, 1,\n",
       "       0, 0, 1, 0, 1, 1, 0, 0, 0, 0, 0, 1, 1, 1, 1, 1, 1, 1, 1, 0, 0, 1,\n",
       "       1, 1, 0, 0, 1, 0, 1, 0, 0, 1, 1, 0, 0, 0, 1, 1, 1, 1, 1, 0, 0, 1,\n",
       "       0, 1, 1, 0, 0, 0, 0, 0, 1, 0, 1, 0, 1, 1, 0, 0, 0, 0, 0, 1, 0, 1,\n",
       "       1, 0, 0, 1, 0, 0, 0, 0, 1, 1, 1, 0, 1, 0, 1, 1, 1, 0, 1, 0, 1, 1,\n",
       "       0, 0, 1, 1, 0, 0, 1, 1, 1, 1, 1, 0, 0, 1, 0, 0, 0, 1, 0, 0, 1, 1,\n",
       "       1, 1, 1, 0, 1, 0, 0, 1, 0, 1, 0, 1, 1, 0, 1, 0, 0, 0, 1, 1, 1, 0,\n",
       "       1, 0, 1, 0, 0, 0, 1, 0, 1, 0, 0, 1, 1, 1], dtype=int64)"
      ]
     },
     "execution_count": 112,
     "metadata": {},
     "output_type": "execute_result"
    }
   ],
   "source": [
    "#Obter a previsões\n",
    "nb_previsoes = nb.predict(X_teste)\n",
    "nb_previsoes"
   ]
  },
  {
   "cell_type": "code",
   "execution_count": 113,
   "metadata": {},
   "outputs": [
    {
     "data": {
      "text/plain": [
       "array([[9.07832747e-01, 9.21672527e-02],\n",
       "       [9.71087535e-01, 2.89124651e-02],\n",
       "       [9.71087535e-01, 2.89124651e-02],\n",
       "       [8.41042364e-01, 1.58957636e-01],\n",
       "       [9.32293455e-01, 6.77065448e-02],\n",
       "       [7.38053618e-01, 2.61946382e-01],\n",
       "       [4.72340724e-01, 5.27659276e-01],\n",
       "       [1.26334244e-02, 9.87366576e-01],\n",
       "       [2.68984572e-02, 9.73101543e-01],\n",
       "       [1.42785045e-06, 9.99998572e-01],\n",
       "       [2.68984572e-02, 9.73101543e-01],\n",
       "       [8.79554773e-01, 1.20445227e-01],\n",
       "       [9.99999997e-01, 3.37269493e-09],\n",
       "       [9.84071693e-01, 1.59283068e-02],\n",
       "       [9.68994003e-01, 3.10059970e-02],\n",
       "       [9.84073540e-01, 1.59264600e-02],\n",
       "       [5.77122148e-02, 9.42287785e-01],\n",
       "       [9.84103554e-01, 1.58964459e-02],\n",
       "       [2.67923545e-02, 9.73207645e-01],\n",
       "       [1.25098970e-01, 8.74901030e-01],\n",
       "       [9.19305257e-01, 8.06947428e-02],\n",
       "       [2.41794831e-03, 9.97582052e-01],\n",
       "       [9.84022325e-01, 1.59776745e-02],\n",
       "       [9.71087535e-01, 2.89124651e-02],\n",
       "       [7.49637350e-02, 9.25036265e-01],\n",
       "       [5.53865615e-02, 9.44613438e-01],\n",
       "       [3.82824863e-02, 9.61717514e-01],\n",
       "       [9.71087535e-01, 2.89124651e-02],\n",
       "       [9.84103554e-01, 1.58964459e-02],\n",
       "       [9.99995161e-01, 4.83859248e-06],\n",
       "       [2.68984572e-02, 9.73101543e-01],\n",
       "       [2.32685625e-06, 9.99997673e-01],\n",
       "       [9.82361712e-01, 1.76382879e-02],\n",
       "       [1.26334244e-02, 9.87366576e-01],\n",
       "       [1.30338247e-01, 8.69661753e-01],\n",
       "       [8.82182413e-01, 1.17817587e-01],\n",
       "       [9.83919253e-01, 1.60807475e-02],\n",
       "       [1.00361761e-03, 9.98996382e-01],\n",
       "       [9.99999171e-01, 8.28600265e-07],\n",
       "       [7.41959373e-01, 2.58040627e-01],\n",
       "       [9.99750221e-01, 2.49779318e-04],\n",
       "       [1.93860592e-01, 8.06139408e-01],\n",
       "       [1.23722707e-01, 8.76277293e-01],\n",
       "       [4.94099377e-02, 9.50590062e-01],\n",
       "       [1.47633328e-02, 9.85236667e-01],\n",
       "       [9.71087535e-01, 2.89124651e-02],\n",
       "       [9.97115919e-01, 2.88408100e-03],\n",
       "       [7.96872515e-01, 2.03127485e-01],\n",
       "       [1.11839121e-02, 9.88816088e-01],\n",
       "       [9.84079471e-01, 1.59205287e-02],\n",
       "       [8.61030301e-01, 1.38969699e-01],\n",
       "       [9.84079471e-01, 1.59205287e-02],\n",
       "       [6.79002369e-03, 9.93209976e-01],\n",
       "       [9.84120762e-01, 1.58792377e-02],\n",
       "       [2.12307465e-03, 9.97876925e-01],\n",
       "       [9.07292260e-01, 9.27077401e-02],\n",
       "       [8.82182413e-01, 1.17817587e-01],\n",
       "       [1.00584022e-04, 9.99899416e-01],\n",
       "       [5.93828236e-02, 9.40617176e-01],\n",
       "       [9.38524894e-01, 6.14751061e-02],\n",
       "       [1.36149722e-01, 8.63850278e-01],\n",
       "       [1.79075509e-04, 9.99820924e-01],\n",
       "       [8.40595955e-01, 1.59404045e-01],\n",
       "       [9.70929666e-01, 2.90703339e-02],\n",
       "       [9.70929666e-01, 2.90703339e-02],\n",
       "       [9.94318875e-01, 5.68112463e-03],\n",
       "       [9.85911177e-01, 1.40888228e-02],\n",
       "       [8.23367637e-01, 1.76632363e-01],\n",
       "       [9.51636619e-05, 9.99904836e-01],\n",
       "       [9.70929666e-01, 2.90703339e-02],\n",
       "       [1.29419353e-03, 9.98705806e-01],\n",
       "       [2.12675792e-02, 9.78732421e-01],\n",
       "       [9.83977342e-01, 1.60226578e-02],\n",
       "       [9.71087535e-01, 2.89124651e-02],\n",
       "       [8.21618336e-01, 1.78381664e-01],\n",
       "       [7.49637350e-02, 9.25036265e-01],\n",
       "       [8.23367637e-01, 1.76632363e-01],\n",
       "       [1.18853694e-03, 9.98811463e-01],\n",
       "       [9.84072105e-01, 1.59278954e-02],\n",
       "       [7.38424331e-02, 9.26157567e-01],\n",
       "       [9.84072105e-01, 1.59278954e-02],\n",
       "       [1.33561145e-03, 9.98664389e-01],\n",
       "       [7.15589910e-01, 2.84410090e-01],\n",
       "       [1.79305743e-01, 8.20694257e-01],\n",
       "       [7.48132338e-02, 9.25186766e-01],\n",
       "       [9.84079471e-01, 1.59205287e-02],\n",
       "       [9.74501364e-01, 2.54986363e-02],\n",
       "       [8.23718654e-01, 1.76281346e-01],\n",
       "       [9.84103554e-01, 1.58964459e-02],\n",
       "       [1.45851002e-01, 8.54148998e-01],\n",
       "       [1.30375183e-01, 8.69624817e-01],\n",
       "       [1.30320418e-01, 8.69679582e-01],\n",
       "       [1.30592662e-01, 8.69407338e-01],\n",
       "       [9.63943459e-01, 3.60565411e-02],\n",
       "       [9.82960435e-01, 1.70395650e-02],\n",
       "       [8.24589359e-01, 1.75410641e-01],\n",
       "       [9.84079471e-01, 1.59205287e-02],\n",
       "       [3.53001774e-04, 9.99646998e-01],\n",
       "       [7.92571276e-04, 9.99207429e-01],\n",
       "       [9.82198520e-01, 1.78014805e-02],\n",
       "       [9.70929666e-01, 2.90703339e-02],\n",
       "       [9.84088345e-01, 1.59116547e-02],\n",
       "       [9.84103554e-01, 1.58964459e-02],\n",
       "       [6.06999272e-03, 9.93930007e-01],\n",
       "       [9.99922531e-01, 7.74688291e-05],\n",
       "       [9.84079471e-01, 1.59205287e-02],\n",
       "       [9.84064656e-01, 1.59353443e-02],\n",
       "       [9.72403910e-01, 2.75960899e-02],\n",
       "       [5.66138549e-03, 9.94338615e-01],\n",
       "       [9.99922531e-01, 7.74688291e-05],\n",
       "       [9.69780181e-01, 3.02198194e-02],\n",
       "       [9.84065966e-01, 1.59340336e-02],\n",
       "       [9.96418096e-03, 9.90035819e-01],\n",
       "       [9.19305257e-01, 8.06947428e-02],\n",
       "       [2.12307465e-03, 9.97876925e-01],\n",
       "       [9.82254064e-01, 1.77459357e-02],\n",
       "       [9.42888900e-03, 9.90571111e-01],\n",
       "       [9.84059275e-01, 1.59407254e-02],\n",
       "       [1.00000000e+00, 7.98573849e-18],\n",
       "       [7.53535428e-02, 9.24646457e-01],\n",
       "       [7.22390823e-02, 9.27760918e-01],\n",
       "       [1.25322347e-01, 8.74677653e-01],\n",
       "       [9.43021470e-01, 5.69785297e-02],\n",
       "       [1.54825911e-17, 1.00000000e+00],\n",
       "       [6.90690471e-03, 9.93093095e-01],\n",
       "       [9.27389689e-01, 7.26103107e-02],\n",
       "       [9.06787740e-01, 9.32122601e-02],\n",
       "       [1.11837220e-02, 9.88816278e-01],\n",
       "       [9.54294063e-01, 4.57059371e-02],\n",
       "       [2.69095192e-02, 9.73090481e-01],\n",
       "       [8.60641587e-01, 1.39358413e-01],\n",
       "       [9.88577671e-01, 1.14223290e-02],\n",
       "       [7.53535428e-02, 9.24646457e-01],\n",
       "       [9.19298992e-01, 8.07010085e-02],\n",
       "       [9.07832747e-01, 9.21672527e-02],\n",
       "       [9.06787740e-01, 9.32122601e-02],\n",
       "       [4.67197111e-01, 5.32802889e-01],\n",
       "       [7.49637350e-02, 9.25036265e-01],\n",
       "       [9.06787740e-01, 9.32122601e-02],\n",
       "       [1.76362189e-06, 9.99998236e-01],\n",
       "       [4.79871668e-04, 9.99520128e-01],\n",
       "       [2.14744601e-02, 9.78525540e-01],\n",
       "       [9.84118236e-01, 1.58817640e-02],\n",
       "       [6.30137198e-02, 9.36986280e-01],\n",
       "       [1.43239480e-01, 8.56760520e-01],\n",
       "       [9.83919253e-01, 1.60807475e-02],\n",
       "       [9.06787740e-01, 9.32122601e-02],\n",
       "       [1.16752004e-01, 8.83247996e-01],\n",
       "       [9.19336596e-01, 8.06634035e-02],\n",
       "       [9.84059275e-01, 1.59407254e-02],\n",
       "       [9.69780181e-01, 3.02198194e-02],\n",
       "       [1.85780574e-04, 9.99814219e-01],\n",
       "       [8.40592640e-01, 1.59407360e-01],\n",
       "       [2.69215990e-02, 9.73078401e-01],\n",
       "       [9.85694802e-01, 1.43051983e-02],\n",
       "       [9.84065966e-01, 1.59340336e-02],\n",
       "       [7.22390823e-02, 9.27760918e-01],\n",
       "       [9.85959179e-01, 1.40408213e-02],\n",
       "       [6.92831056e-03, 9.93071689e-01],\n",
       "       [3.09203646e-01, 6.90796354e-01],\n",
       "       [9.84103554e-01, 1.58964459e-02],\n",
       "       [8.23367637e-01, 1.76632363e-01],\n",
       "       [9.84065966e-01, 1.59340336e-02],\n",
       "       [9.70929666e-01, 2.90703339e-02],\n",
       "       [7.86089970e-01, 2.13910030e-01],\n",
       "       [1.08133564e-01, 8.91866436e-01],\n",
       "       [7.49637350e-02, 9.25036265e-01],\n",
       "       [4.04636607e-01, 5.95363393e-01],\n",
       "       [1.26903688e-01, 8.73096312e-01],\n",
       "       [1.21683570e-12, 1.00000000e+00],\n",
       "       [2.88304626e-13, 1.00000000e+00],\n",
       "       [1.30209027e-01, 8.69790973e-01],\n",
       "       [1.33221347e-01, 8.66778653e-01],\n",
       "       [9.84079471e-01, 1.59205287e-02],\n",
       "       [9.84067046e-01, 1.59329537e-02],\n",
       "       [2.35989308e-01, 7.64010692e-01],\n",
       "       [7.53535428e-02, 9.24646457e-01],\n",
       "       [7.48132338e-02, 9.25186766e-01],\n",
       "       [9.84035532e-01, 1.59644684e-02],\n",
       "       [9.84072105e-01, 1.59278954e-02],\n",
       "       [1.30760968e-01, 8.69239032e-01],\n",
       "       [9.97855907e-01, 2.14409262e-03],\n",
       "       [1.43490091e-01, 8.56509909e-01],\n",
       "       [9.97228950e-01, 2.77104995e-03],\n",
       "       [9.84035532e-01, 1.59644684e-02],\n",
       "       [1.42785045e-06, 9.99998572e-01],\n",
       "       [2.68164673e-02, 9.73183533e-01],\n",
       "       [9.84079471e-01, 1.59205287e-02],\n",
       "       [9.71087535e-01, 2.89124651e-02],\n",
       "       [9.19305257e-01, 8.06947428e-02],\n",
       "       [3.71404631e-14, 1.00000000e+00],\n",
       "       [5.10168382e-02, 9.48983162e-01],\n",
       "       [1.26334244e-02, 9.87366576e-01],\n",
       "       [3.49191818e-08, 9.99999965e-01],\n",
       "       [4.43797097e-02, 9.55620290e-01],\n",
       "       [8.23367637e-01, 1.76632363e-01],\n",
       "       [9.84067046e-01, 1.59329537e-02],\n",
       "       [3.17436560e-01, 6.82563440e-01],\n",
       "       [9.19305257e-01, 8.06947428e-02],\n",
       "       [4.65109672e-04, 9.99534890e-01],\n",
       "       [4.25796907e-08, 9.99999957e-01],\n",
       "       [9.16162334e-01, 8.38376659e-02],\n",
       "       [9.32293455e-01, 6.77065448e-02],\n",
       "       [7.74956180e-01, 2.25043820e-01],\n",
       "       [9.19305257e-01, 8.06947428e-02],\n",
       "       [9.99999171e-01, 8.28600265e-07],\n",
       "       [7.43693824e-03, 9.92563062e-01],\n",
       "       [9.84079471e-01, 1.59205287e-02],\n",
       "       [1.30743389e-01, 8.69256611e-01],\n",
       "       [7.14135073e-01, 2.85864927e-01],\n",
       "       [3.71729625e-06, 9.99996283e-01],\n",
       "       [2.94095014e-04, 9.99705905e-01],\n",
       "       [9.69780181e-01, 3.02198194e-02],\n",
       "       [9.06787740e-01, 9.32122601e-02],\n",
       "       [9.19305257e-01, 8.06947428e-02],\n",
       "       [9.99658617e-01, 3.41383427e-04],\n",
       "       [9.84079471e-01, 1.59205287e-02],\n",
       "       [7.37053881e-02, 9.26294612e-01],\n",
       "       [9.65717021e-01, 3.42829787e-02],\n",
       "       [1.46271392e-01, 8.53728608e-01],\n",
       "       [6.98096679e-02, 9.30190332e-01],\n",
       "       [9.84072105e-01, 1.59278954e-02],\n",
       "       [9.99990854e-01, 9.14611106e-06],\n",
       "       [5.25809273e-05, 9.99947419e-01],\n",
       "       [9.84072105e-01, 1.59278954e-02],\n",
       "       [9.06787740e-01, 9.32122601e-02],\n",
       "       [9.19305257e-01, 8.06947428e-02],\n",
       "       [9.84088345e-01, 1.59116547e-02],\n",
       "       [2.69095192e-02, 9.73090481e-01],\n",
       "       [1.30592662e-01, 8.69407338e-01],\n",
       "       [2.68962465e-02, 9.73103753e-01],\n",
       "       [9.84120318e-01, 1.58796819e-02],\n",
       "       [1.30231612e-01, 8.69768388e-01],\n",
       "       [7.96872515e-01, 2.03127485e-01],\n",
       "       [1.90291420e-03, 9.98097086e-01],\n",
       "       [1.74481461e-03, 9.98255185e-01],\n",
       "       [5.62461890e-03, 9.94375381e-01],\n",
       "       [9.84065966e-01, 1.59340336e-02],\n",
       "       [5.18724611e-02, 9.48127539e-01],\n",
       "       [9.98009779e-01, 1.99022069e-03],\n",
       "       [1.29419353e-03, 9.98705806e-01],\n",
       "       [7.22390823e-02, 9.27760918e-01],\n",
       "       [9.99853418e-01, 1.46582020e-04],\n",
       "       [9.06787740e-01, 9.32122601e-02],\n",
       "       [7.38424331e-02, 9.26157567e-01],\n",
       "       [4.23883735e-01, 5.76116265e-01],\n",
       "       [9.84065966e-01, 1.59340336e-02],\n",
       "       [8.06615259e-01, 1.93384741e-01],\n",
       "       [7.79632017e-05, 9.99922037e-01],\n",
       "       [6.52232146e-02, 9.34776785e-01],\n",
       "       [1.41481456e-03, 9.98585185e-01],\n",
       "       [4.56186762e-01, 5.43813238e-01],\n",
       "       [2.68984572e-02, 9.73101543e-01],\n",
       "       [9.19305257e-01, 8.06947428e-02],\n",
       "       [9.84073540e-01, 1.59264600e-02],\n",
       "       [1.11839121e-02, 9.88816088e-01],\n",
       "       [9.84390528e-01, 1.56094722e-02],\n",
       "       [9.85947794e-01, 1.40522065e-02],\n",
       "       [9.19305257e-01, 8.06947428e-02],\n",
       "       [2.41794831e-03, 9.97582052e-01],\n",
       "       [9.07971686e-01, 9.20283137e-02],\n",
       "       [8.11766462e-01, 1.88233538e-01],\n",
       "       [5.83150639e-04, 9.99416849e-01],\n",
       "       [7.22390823e-02, 9.27760918e-01],\n",
       "       [1.43239480e-01, 8.56760520e-01],\n",
       "       [7.87634971e-02, 9.21236503e-01],\n",
       "       [4.17094211e-01, 5.82905789e-01],\n",
       "       [9.84017143e-01, 1.59828568e-02],\n",
       "       [2.68984572e-02, 9.73101543e-01],\n",
       "       [9.32293455e-01, 6.77065448e-02],\n",
       "       [9.82960435e-01, 1.70395650e-02],\n",
       "       [2.33771787e-02, 9.76622821e-01],\n",
       "       [9.84065966e-01, 1.59340336e-02],\n",
       "       [2.74707808e-01, 7.25292192e-01],\n",
       "       [9.84103554e-01, 1.58964459e-02],\n",
       "       [1.90291420e-03, 9.98097086e-01],\n",
       "       [1.12382538e-01, 8.87617462e-01],\n",
       "       [9.84072105e-01, 1.59278954e-02],\n",
       "       [7.43363362e-07, 9.99999257e-01],\n",
       "       [9.19305257e-01, 8.06947428e-02],\n",
       "       [9.84072105e-01, 1.59278954e-02],\n",
       "       [9.84035532e-01, 1.59644684e-02],\n",
       "       [7.49637350e-02, 9.25036265e-01],\n",
       "       [4.51562139e-14, 1.00000000e+00],\n",
       "       [7.49637350e-02, 9.25036265e-01],\n",
       "       [9.02697065e-01, 9.73029349e-02],\n",
       "       [1.41770343e-01, 8.58229657e-01],\n",
       "       [8.42216973e-01, 1.57783027e-01],\n",
       "       [7.53535428e-02, 9.24646457e-01],\n",
       "       [8.97829332e-01, 1.02170668e-01],\n",
       "       [9.84072105e-01, 1.59278954e-02],\n",
       "       [9.84123139e-01, 1.58768606e-02],\n",
       "       [1.17045742e-10, 1.00000000e+00],\n",
       "       [9.85985998e-01, 1.40140016e-02],\n",
       "       [5.81908178e-17, 1.00000000e+00],\n",
       "       [9.84079471e-01, 1.59205287e-02],\n",
       "       [9.84072105e-01, 1.59278954e-02],\n",
       "       [2.69095192e-02, 9.73090481e-01],\n",
       "       [1.04343564e-03, 9.98956564e-01],\n",
       "       [2.35241241e-02, 9.76475876e-01]])"
      ]
     },
     "execution_count": 113,
     "metadata": {},
     "output_type": "execute_result"
    }
   ],
   "source": [
    "#Obter a previsões da probabilidade\n",
    "#Note que ele retorna  probabilidade da classe 0 e 1 respectivamente\n",
    "nb_previsoes_prob = nb.predict_proba(X_teste)\n",
    "nb_previsoes_prob"
   ]
  },
  {
   "cell_type": "markdown",
   "metadata": {},
   "source": [
    "### Matriz de Confusão "
   ]
  },
  {
   "cell_type": "code",
   "execution_count": 114,
   "metadata": {},
   "outputs": [
    {
     "data": {
      "image/png": "[encoded data removed]",
      "text/plain": [
       "<Figure size 576x396 with 2 Axes>"
      ]
     },
     "metadata": {},
     "output_type": "display_data"
    }
   ],
   "source": [
    "sns.heatmap(confusion_matrix(y_teste, nb_previsoes), cmap='OrRd', annot=True, fmt='2.0f')\n",
    "plt.title('Naive Bayes')\n",
    "plt.ylabel('P R E V I S T O')\n",
    "plt.xlabel('R E A L')\n",
    "plt.show()"
   ]
  },
  {
   "cell_type": "code",
   "execution_count": 115,
   "metadata": {},
   "outputs": [
    {
     "name": "stdout",
     "output_type": "stream",
     "text": [
      "Acurácia:0.79\n",
      "Precisão:0.81\n",
      "Recall ou Sensibilidade:0.75\n",
      "F1-Score:0.78\n",
      "Kappa:0.57\n",
      "Curva ROC:0.79\n"
     ]
    }
   ],
   "source": [
    "#Acurácia, Sensibilidade positiva (VP/(VP+FN),  Precisão, Recall, F1-Score\n",
    "acuracia = accuracy_score(y_teste,nb_previsoes)\n",
    "precisao = precision_score(y_teste,nb_previsoes)\n",
    "recall = recall_score(y_teste,nb_previsoes)\n",
    "f1Score = f1_score(y_teste,nb_previsoes)\n",
    "nb_curva_roc = roc_auc_score(y_teste,nb_previsoes)\n",
    "kappa = cohen_kappa_score(y_teste,nb_previsoes)\n",
    "print(f'Acurácia:{round(acuracia,2)}')\n",
    "print(f'Precisão:{round(precisao,2)}')\n",
    "print(f'Recall ou Sensibilidade:{round(recall,2)}')\n",
    "print(f'F1-Score:{round(f1Score,2)}')\n",
    "print(f'Kappa:{round(kappa,2)}')\n",
    "print(f'Curva ROC:{round(nb_curva_roc,2)}')"
   ]
  },
  {
   "cell_type": "code",
   "execution_count": 116,
   "metadata": {},
   "outputs": [
    {
     "name": "stdout",
     "output_type": "stream",
     "text": [
      "              precision    recall  f1-score   support\n",
      "\n",
      "           0       0.77      0.82      0.79       150\n",
      "           1       0.81      0.75      0.78       150\n",
      "\n",
      "    accuracy                           0.79       300\n",
      "   macro avg       0.79      0.79      0.79       300\n",
      "weighted avg       0.79      0.79      0.79       300\n",
      "\n"
     ]
    }
   ],
   "source": [
    "print(classification_report(y_teste, nb.predict(X_teste)))"
   ]
  },
  {
   "cell_type": "markdown",
   "metadata": {},
   "source": [
    "### Curva ROC"
   ]
  },
  {
   "cell_type": "code",
   "execution_count": 117,
   "metadata": {},
   "outputs": [
    {
     "data": {
      "image/png": "[encoded data removed]",
      "text/plain": [
       "<Figure size 576x396 with 1 Axes>"
      ]
     },
     "metadata": {},
     "output_type": "display_data"
    }
   ],
   "source": [
    "rl_fp,rl_vp,lim1 = roc_curve(y_teste,lr_previsoes)\n",
    "nb_fp,nb_vp,lim2 = roc_curve(y_teste,nb_previsoes)\n",
    "plt.plot(rl_fp,rl_vp, marker='.', label='Regressão Logística='+str(round(lr_curva_roc,2)),color=\"orange\")\n",
    "plt.plot(nb_fp,nb_vp, marker='.', label='Naive Bayes='+str(round(nb_curva_roc,2)),color=\"blue\")\n",
    "plt.plot([0, 1], [0, 1], color='black', linestyle='--')\n",
    "# alterando o nome dos eixos\n",
    "plt.xlabel('1- Especificidade')\n",
    "plt.ylabel('Sensibilidade')\n",
    "# Legenda\n",
    "plt.legend()\n",
    "# Mostrando o gráfico\n",
    "plt.show()\n",
    "#fig.savefig(\"images/mlpr_0305.png\")"
   ]
  },
  {
   "cell_type": "code",
   "execution_count": 118,
   "metadata": {},
   "outputs": [
    {
     "data": {
      "image/png": "[encoded data removed]",
      "text/plain": [
       "<Figure size 576x396 with 1 Axes>"
      ]
     },
     "metadata": {},
     "output_type": "display_data"
    }
   ],
   "source": [
    "#Aqui estamos pegando apenas da classe 1\n",
    "lr_probs = lr_previsoes_prob[:,1]\n",
    "nb_probs = nb_previsoes_prob[:,1]\n",
    "\n",
    "rl_fp,rl_vp,lim1 = roc_curve(y_teste,lr_probs)\n",
    "nb_fp,nb_vp,lim2 = roc_curve(y_teste,nb_probs)\n",
    "plt.plot(rl_fp,rl_vp, marker='.', label='Regressão Logística',color=\"orange\")\n",
    "plt.plot(nb_fp,nb_vp, marker='.', label='Naive Bayes',color=\"blue\")\n",
    "plt.plot([0, 1], [0, 1], color='black', linestyle='--')\n",
    "# alterando o nome dos eixos\n",
    "plt.xlabel('1- Especificidade')\n",
    "plt.ylabel('Sensibilidade')\n",
    "# Legenda\n",
    "plt.legend()\n",
    "# Mostrando o gráfico\n",
    "plt.show()\n",
    "#fig.savefig(\"images/mlpr_0305.png\")"
   ]
  },
  {
   "cell_type": "code",
   "execution_count": 119,
   "metadata": {},
   "outputs": [
    {
     "data": {
      "text/plain": [
       "array([0], dtype=int64)"
      ]
     },
     "execution_count": 119,
     "metadata": {},
     "output_type": "execute_result"
    }
   ],
   "source": [
    "nb_previsoes_1 = nb.predict(X_teste[:1])\n",
    "nb_previsoes_1"
   ]
  },
  {
   "cell_type": "code",
   "execution_count": 120,
   "metadata": {},
   "outputs": [
    {
     "data": {
      "text/plain": [
       "array([[0.90783275, 0.09216725]])"
      ]
     },
     "execution_count": 120,
     "metadata": {},
     "output_type": "execute_result"
    }
   ],
   "source": [
    "nb_previsoes_1 = nb.predict_proba(X_teste[:1])\n",
    "nb_previsoes_1"
   ]
  },
  {
   "cell_type": "markdown",
   "metadata": {},
   "source": [
    "## Máquina de vetores suporte\n",
    "* Uma SVM (Support Vector Machine, ou Máquina de Vetores Suporte) é um algoritmo que tenta fazer a adequação de uma linha (ou plano ou hiperplano) entre as diferentes classes de modo a maximizar a distância da linha até os pontos das classes;\n",
    "* Dessa maneira, ela tenta encontrar uma separação robusta entre as classes;\n",
    "* Os vetores suporte (support vectors) são os pontos da fronteira do hiperplano divisor.\n",
    "\n",
    "Acessar o endereço: https://scikit-learn.org/stable/modules/svm.html"
   ]
  },
  {
   "cell_type": "markdown",
   "metadata": {},
   "source": [
    "<img src=\"SVM.png\" width=\"400px\" align=\"left\"><br>"
   ]
  },
  {
   "cell_type": "code",
   "execution_count": 121,
   "metadata": {},
   "outputs": [],
   "source": [
    "from sklearn.svm import SVC"
   ]
  },
  {
   "cell_type": "code",
   "execution_count": 122,
   "metadata": {},
   "outputs": [],
   "source": [
    "svc = SVC(random_state=42, probability=True)"
   ]
  },
  {
   "cell_type": "code",
   "execution_count": 123,
   "metadata": {},
   "outputs": [
    {
     "data": {
      "text/html": [
       "<style>#sk-container-id-9 {color: black;background-color: white;}#sk-container-id-9 pre{padding: 0;}#sk-container-id-9 div.sk-toggleable {background-color: white;}#sk-container-id-9 label.sk-toggleable__label {cursor: pointer;display: block;width: 100%;margin-bottom: 0;padding: 0.3em;box-sizing: border-box;text-align: center;}#sk-container-id-9 label.sk-toggleable__label-arrow:before {content: \"▸\";float: left;margin-right: 0.25em;color: #696969;}#sk-container-id-9 label.sk-toggleable__label-arrow:hover:before {color: black;}#sk-container-id-9 div.sk-estimator:hover label.sk-toggleable__label-arrow:before {color: black;}#sk-container-id-9 div.sk-toggleable__content {max-height: 0;max-width: 0;overflow: hidden;text-align: left;background-color: #f0f8ff;}#sk-container-id-9 div.sk-toggleable__content pre {margin: 0.2em;color: black;border-radius: 0.25em;background-color: #f0f8ff;}#sk-container-id-9 input.sk-toggleable__control:checked~div.sk-toggleable__content {max-height: 200px;max-width: 100%;overflow: auto;}#sk-container-id-9 input.sk-toggleable__control:checked~label.sk-toggleable__label-arrow:before {content: \"▾\";}#sk-container-id-9 div.sk-estimator input.sk-toggleable__control:checked~label.sk-toggleable__label {background-color: #d4ebff;}#sk-container-id-9 div.sk-label input.sk-toggleable__control:checked~label.sk-toggleable__label {background-color: #d4ebff;}#sk-container-id-9 input.sk-hidden--visually {border: 0;clip: rect(1px 1px 1px 1px);clip: rect(1px, 1px, 1px, 1px);height: 1px;margin: -1px;overflow: hidden;padding: 0;position: absolute;width: 1px;}#sk-container-id-9 div.sk-estimator {font-family: monospace;background-color: #f0f8ff;border: 1px dotted black;border-radius: 0.25em;box-sizing: border-box;margin-bottom: 0.5em;}#sk-container-id-9 div.sk-estimator:hover {background-color: #d4ebff;}#sk-container-id-9 div.sk-parallel-item::after {content: \"\";width: 100%;border-bottom: 1px solid gray;flex-grow: 1;}#sk-container-id-9 div.sk-label:hover label.sk-toggleable__label {background-color: #d4ebff;}#sk-container-id-9 div.sk-serial::before {content: \"\";position: absolute;border-left: 1px solid gray;box-sizing: border-box;top: 0;bottom: 0;left: 50%;z-index: 0;}#sk-container-id-9 div.sk-serial {display: flex;flex-direction: column;align-items: center;background-color: white;padding-right: 0.2em;padding-left: 0.2em;position: relative;}#sk-container-id-9 div.sk-item {position: relative;z-index: 1;}#sk-container-id-9 div.sk-parallel {display: flex;align-items: stretch;justify-content: center;background-color: white;position: relative;}#sk-container-id-9 div.sk-item::before, #sk-container-id-9 div.sk-parallel-item::before {content: \"\";position: absolute;border-left: 1px solid gray;box-sizing: border-box;top: 0;bottom: 0;left: 50%;z-index: -1;}#sk-container-id-9 div.sk-parallel-item {display: flex;flex-direction: column;z-index: 1;position: relative;background-color: white;}#sk-container-id-9 div.sk-parallel-item:first-child::after {align-self: flex-end;width: 50%;}#sk-container-id-9 div.sk-parallel-item:last-child::after {align-self: flex-start;width: 50%;}#sk-container-id-9 div.sk-parallel-item:only-child::after {width: 0;}#sk-container-id-9 div.sk-dashed-wrapped {border: 1px dashed gray;margin: 0 0.4em 0.5em 0.4em;box-sizing: border-box;padding-bottom: 0.4em;background-color: white;}#sk-container-id-9 div.sk-label label {font-family: monospace;font-weight: bold;display: inline-block;line-height: 1.2em;}#sk-container-id-9 div.sk-label-container {text-align: center;}#sk-container-id-9 div.sk-container {/* jupyter's `normalize.less` sets `[hidden] { display: none; }` but bootstrap.min.css set `[hidden] { display: none !important; }` so we also need the `!important` here to be able to override the default hidden behavior on the sphinx rendered scikit-learn.org. See: https://github.com/scikit-learn/scikit-learn/issues/21755 */display: inline-block !important;position: relative;}#sk-container-id-9 div.sk-text-repr-fallback {display: none;}</style><div id=\"sk-container-id-9\" class=\"sk-top-container\"><div class=\"sk-text-repr-fallback\"><pre>SVC(probability=True, random_state=42)</pre><b>In a Jupyter environment, please rerun this cell to show the HTML representation or trust the notebook. <br />On GitHub, the HTML representation is unable to render, please try loading this page with nbviewer.org.</b></div><div class=\"sk-container\" hidden><div class=\"sk-item\"><div class=\"sk-estimator sk-toggleable\"><input class=\"sk-toggleable__control sk-hidden--visually\" id=\"sk-estimator-id-9\" type=\"checkbox\" checked><label for=\"sk-estimator-id-9\" class=\"sk-toggleable__label sk-toggleable__label-arrow\">SVC</label><div class=\"sk-toggleable__content\"><pre>SVC(probability=True, random_state=42)</pre></div></div></div></div></div>"
      ],
      "text/plain": [
       "SVC(probability=True, random_state=42)"
      ]
     },
     "execution_count": 123,
     "metadata": {},
     "output_type": "execute_result"
    }
   ],
   "source": [
    "svc.fit(X_treino, y_treino)"
   ]
  },
  {
   "cell_type": "code",
   "execution_count": 124,
   "metadata": {},
   "outputs": [
    {
     "data": {
      "text/plain": [
       "0.7866666666666666"
      ]
     },
     "execution_count": 124,
     "metadata": {},
     "output_type": "execute_result"
    }
   ],
   "source": [
    "svc.score(X_teste, y_teste)"
   ]
  },
  {
   "cell_type": "code",
   "execution_count": 125,
   "metadata": {},
   "outputs": [],
   "source": [
    "svc = SVC(C=1.0, cache_size=200, class_weight=None, coef0=0.0, decision_function_shape='ovr', \n",
    "          degree=3, gamma='auto', kernel='rbf', max_iter=-1, probability=True, random_state=42, \n",
    "          shrinking=True, tol=0.001, verbose=False)"
   ]
  },
  {
   "cell_type": "code",
   "execution_count": 126,
   "metadata": {},
   "outputs": [
    {
     "data": {
      "text/html": [
       "<style>#sk-container-id-10 {color: black;background-color: white;}#sk-container-id-10 pre{padding: 0;}#sk-container-id-10 div.sk-toggleable {background-color: white;}#sk-container-id-10 label.sk-toggleable__label {cursor: pointer;display: block;width: 100%;margin-bottom: 0;padding: 0.3em;box-sizing: border-box;text-align: center;}#sk-container-id-10 label.sk-toggleable__label-arrow:before {content: \"▸\";float: left;margin-right: 0.25em;color: #696969;}#sk-container-id-10 label.sk-toggleable__label-arrow:hover:before {color: black;}#sk-container-id-10 div.sk-estimator:hover label.sk-toggleable__label-arrow:before {color: black;}#sk-container-id-10 div.sk-toggleable__content {max-height: 0;max-width: 0;overflow: hidden;text-align: left;background-color: #f0f8ff;}#sk-container-id-10 div.sk-toggleable__content pre {margin: 0.2em;color: black;border-radius: 0.25em;background-color: #f0f8ff;}#sk-container-id-10 input.sk-toggleable__control:checked~div.sk-toggleable__content {max-height: 200px;max-width: 100%;overflow: auto;}#sk-container-id-10 input.sk-toggleable__control:checked~label.sk-toggleable__label-arrow:before {content: \"▾\";}#sk-container-id-10 div.sk-estimator input.sk-toggleable__control:checked~label.sk-toggleable__label {background-color: #d4ebff;}#sk-container-id-10 div.sk-label input.sk-toggleable__control:checked~label.sk-toggleable__label {background-color: #d4ebff;}#sk-container-id-10 input.sk-hidden--visually {border: 0;clip: rect(1px 1px 1px 1px);clip: rect(1px, 1px, 1px, 1px);height: 1px;margin: -1px;overflow: hidden;padding: 0;position: absolute;width: 1px;}#sk-container-id-10 div.sk-estimator {font-family: monospace;background-color: #f0f8ff;border: 1px dotted black;border-radius: 0.25em;box-sizing: border-box;margin-bottom: 0.5em;}#sk-container-id-10 div.sk-estimator:hover {background-color: #d4ebff;}#sk-container-id-10 div.sk-parallel-item::after {content: \"\";width: 100%;border-bottom: 1px solid gray;flex-grow: 1;}#sk-container-id-10 div.sk-label:hover label.sk-toggleable__label {background-color: #d4ebff;}#sk-container-id-10 div.sk-serial::before {content: \"\";position: absolute;border-left: 1px solid gray;box-sizing: border-box;top: 0;bottom: 0;left: 50%;z-index: 0;}#sk-container-id-10 div.sk-serial {display: flex;flex-direction: column;align-items: center;background-color: white;padding-right: 0.2em;padding-left: 0.2em;position: relative;}#sk-container-id-10 div.sk-item {position: relative;z-index: 1;}#sk-container-id-10 div.sk-parallel {display: flex;align-items: stretch;justify-content: center;background-color: white;position: relative;}#sk-container-id-10 div.sk-item::before, #sk-container-id-10 div.sk-parallel-item::before {content: \"\";position: absolute;border-left: 1px solid gray;box-sizing: border-box;top: 0;bottom: 0;left: 50%;z-index: -1;}#sk-container-id-10 div.sk-parallel-item {display: flex;flex-direction: column;z-index: 1;position: relative;background-color: white;}#sk-container-id-10 div.sk-parallel-item:first-child::after {align-self: flex-end;width: 50%;}#sk-container-id-10 div.sk-parallel-item:last-child::after {align-self: flex-start;width: 50%;}#sk-container-id-10 div.sk-parallel-item:only-child::after {width: 0;}#sk-container-id-10 div.sk-dashed-wrapped {border: 1px dashed gray;margin: 0 0.4em 0.5em 0.4em;box-sizing: border-box;padding-bottom: 0.4em;background-color: white;}#sk-container-id-10 div.sk-label label {font-family: monospace;font-weight: bold;display: inline-block;line-height: 1.2em;}#sk-container-id-10 div.sk-label-container {text-align: center;}#sk-container-id-10 div.sk-container {/* jupyter's `normalize.less` sets `[hidden] { display: none; }` but bootstrap.min.css set `[hidden] { display: none !important; }` so we also need the `!important` here to be able to override the default hidden behavior on the sphinx rendered scikit-learn.org. See: https://github.com/scikit-learn/scikit-learn/issues/21755 */display: inline-block !important;position: relative;}#sk-container-id-10 div.sk-text-repr-fallback {display: none;}</style><div id=\"sk-container-id-10\" class=\"sk-top-container\"><div class=\"sk-text-repr-fallback\"><pre>SVC(gamma=&#x27;auto&#x27;, probability=True, random_state=42)</pre><b>In a Jupyter environment, please rerun this cell to show the HTML representation or trust the notebook. <br />On GitHub, the HTML representation is unable to render, please try loading this page with nbviewer.org.</b></div><div class=\"sk-container\" hidden><div class=\"sk-item\"><div class=\"sk-estimator sk-toggleable\"><input class=\"sk-toggleable__control sk-hidden--visually\" id=\"sk-estimator-id-10\" type=\"checkbox\" checked><label for=\"sk-estimator-id-10\" class=\"sk-toggleable__label sk-toggleable__label-arrow\">SVC</label><div class=\"sk-toggleable__content\"><pre>SVC(gamma=&#x27;auto&#x27;, probability=True, random_state=42)</pre></div></div></div></div></div>"
      ],
      "text/plain": [
       "SVC(gamma='auto', probability=True, random_state=42)"
      ]
     },
     "execution_count": 126,
     "metadata": {},
     "output_type": "execute_result"
    }
   ],
   "source": [
    "svc.fit(X_treino, y_treino)"
   ]
  },
  {
   "cell_type": "code",
   "execution_count": 127,
   "metadata": {},
   "outputs": [
    {
     "data": {
      "text/plain": [
       "0.7866666666666666"
      ]
     },
     "execution_count": 127,
     "metadata": {},
     "output_type": "execute_result"
    }
   ],
   "source": [
    "svc.score(X_teste, y_teste) "
   ]
  },
  {
   "cell_type": "markdown",
   "metadata": {},
   "source": [
    "### Cross Validation. ou Validação Cruzada é uma técnica para avaliar a capacidade de generalização de um modelo,  a partir de um conjunto de dados."
   ]
  },
  {
   "cell_type": "code",
   "execution_count": 128,
   "metadata": {},
   "outputs": [
    {
     "name": "stdout",
     "output_type": "stream",
     "text": [
      "Scores = [0.79 0.78 0.79 0.78 0.85 0.84 0.7  0.69 0.66 0.75]\n",
      "Média dos Scores = 0.7630000000000001\n"
     ]
    }
   ],
   "source": [
    "cv_scores = cross_val_score(svc,X,y, cv=10, scoring='accuracy')\n",
    "print(f'Scores = {cv_scores}')\n",
    "print(f'Média dos Scores = {cv_scores.mean()}')"
   ]
  },
  {
   "cell_type": "code",
   "execution_count": 129,
   "metadata": {},
   "outputs": [
    {
     "data": {
      "text/plain": [
       "array([0, 0, 0, 0, 0, 1, 0, 1, 1, 1, 1, 1, 0, 0, 0, 0, 1, 0, 1, 1, 0, 1,\n",
       "       0, 0, 1, 1, 0, 0, 0, 0, 1, 1, 0, 1, 1, 0, 0, 1, 0, 0, 0, 0, 1, 0,\n",
       "       1, 0, 0, 0, 1, 0, 0, 0, 1, 0, 1, 0, 0, 1, 1, 0, 1, 1, 0, 0, 0, 0,\n",
       "       0, 0, 1, 0, 1, 1, 0, 0, 0, 1, 0, 1, 0, 1, 0, 1, 0, 0, 1, 0, 0, 0,\n",
       "       0, 1, 1, 1, 1, 0, 0, 0, 0, 1, 1, 0, 0, 0, 0, 1, 0, 0, 0, 0, 1, 0,\n",
       "       0, 0, 1, 0, 1, 0, 1, 0, 0, 1, 1, 1, 0, 1, 1, 0, 0, 1, 0, 1, 0, 0,\n",
       "       1, 0, 0, 0, 0, 1, 0, 1, 1, 1, 0, 1, 1, 0, 0, 1, 0, 0, 0, 1, 0, 1,\n",
       "       0, 0, 1, 0, 1, 0, 0, 0, 0, 0, 0, 0, 1, 0, 1, 1, 1, 1, 0, 0, 0, 1,\n",
       "       1, 1, 0, 0, 1, 0, 1, 0, 0, 1, 1, 0, 0, 0, 1, 1, 1, 1, 1, 0, 0, 1,\n",
       "       0, 1, 1, 0, 0, 0, 0, 0, 1, 0, 1, 0, 1, 1, 0, 0, 0, 0, 0, 1, 0, 1,\n",
       "       1, 0, 0, 1, 0, 0, 0, 0, 1, 1, 1, 0, 1, 0, 1, 1, 1, 0, 1, 0, 1, 1,\n",
       "       0, 0, 1, 0, 0, 0, 1, 1, 1, 1, 1, 0, 0, 1, 0, 0, 0, 1, 0, 0, 1, 1,\n",
       "       1, 1, 0, 0, 1, 0, 0, 1, 0, 1, 0, 1, 0, 0, 1, 0, 0, 0, 1, 1, 1, 0,\n",
       "       1, 0, 1, 0, 0, 0, 0, 0, 1, 0, 0, 1, 1, 1], dtype=int64)"
      ]
     },
     "execution_count": 129,
     "metadata": {},
     "output_type": "execute_result"
    }
   ],
   "source": [
    "#Obter a previsões\n",
    "svc_previsoes = svc.predict(X_teste)\n",
    "svc_previsoes"
   ]
  },
  {
   "cell_type": "code",
   "execution_count": 130,
   "metadata": {},
   "outputs": [
    {
     "data": {
      "text/plain": [
       "array([[0.73830331, 0.26169669],\n",
       "       [0.76356922, 0.23643078],\n",
       "       [0.76356922, 0.23643078],\n",
       "       [0.77187794, 0.22812206],\n",
       "       [0.70512963, 0.29487037],\n",
       "       [0.38839012, 0.61160988],\n",
       "       [0.56101918, 0.43898082],\n",
       "       [0.21231325, 0.78768675],\n",
       "       [0.19359679, 0.80640321],\n",
       "       [0.14641654, 0.85358346],\n",
       "       [0.19359679, 0.80640321],\n",
       "       [0.19364192, 0.80635808],\n",
       "       [0.76343598, 0.23656402],\n",
       "       [0.76357787, 0.23642213],\n",
       "       [0.76351673, 0.23648327],\n",
       "       [0.76356147, 0.23643853],\n",
       "       [0.14806838, 0.85193162],\n",
       "       [0.76322713, 0.23677287],\n",
       "       [0.19434379, 0.80565621],\n",
       "       [0.2346771 , 0.7653229 ],\n",
       "       [0.76346615, 0.23653385],\n",
       "       [0.16099077, 0.83900923],\n",
       "       [0.76392864, 0.23607136],\n",
       "       [0.76356922, 0.23643078],\n",
       "       [0.19228987, 0.80771013],\n",
       "       [0.14553364, 0.85446636],\n",
       "       [0.72384334, 0.27615666],\n",
       "       [0.76356922, 0.23643078],\n",
       "       [0.76322713, 0.23677287],\n",
       "       [0.76334556, 0.23665444],\n",
       "       [0.19359679, 0.80640321],\n",
       "       [0.18857251, 0.81142749],\n",
       "       [0.75310356, 0.24689644],\n",
       "       [0.21231325, 0.78768675],\n",
       "       [0.19437608, 0.80562392],\n",
       "       [0.74910004, 0.25089996],\n",
       "       [0.75981402, 0.24018598],\n",
       "       [0.21527508, 0.78472492],\n",
       "       [0.76364462, 0.23635538],\n",
       "       [0.76319192, 0.23680808],\n",
       "       [0.77867839, 0.22132161],\n",
       "       [0.57917305, 0.42082695],\n",
       "       [0.18444405, 0.81555595],\n",
       "       [0.53711786, 0.46288214],\n",
       "       [0.19361198, 0.80638802],\n",
       "       [0.76356922, 0.23643078],\n",
       "       [0.77425675, 0.22574325],\n",
       "       [0.760223  , 0.239777  ],\n",
       "       [0.19363005, 0.80636995],\n",
       "       [0.76350639, 0.23649361],\n",
       "       [0.76336883, 0.23663117],\n",
       "       [0.76350639, 0.23649361],\n",
       "       [0.12879399, 0.87120601],\n",
       "       [0.76289524, 0.23710476],\n",
       "       [0.19368713, 0.80631287],\n",
       "       [0.73859497, 0.26140503],\n",
       "       [0.74910004, 0.25089996],\n",
       "       [0.1936141 , 0.8063859 ],\n",
       "       [0.14576051, 0.85423949],\n",
       "       [0.60306041, 0.39693959],\n",
       "       [0.19554352, 0.80445648],\n",
       "       [0.1415024 , 0.8584976 ],\n",
       "       [0.7635111 , 0.2364889 ],\n",
       "       [0.76355214, 0.23644786],\n",
       "       [0.76355214, 0.23644786],\n",
       "       [0.65699688, 0.34300312],\n",
       "       [0.76816045, 0.23183955],\n",
       "       [0.76360152, 0.23639848],\n",
       "       [0.14157207, 0.85842793],\n",
       "       [0.76355214, 0.23644786],\n",
       "       [0.15120716, 0.84879284],\n",
       "       [0.18078602, 0.81921398],\n",
       "       [0.76416165, 0.23583835],\n",
       "       [0.76356922, 0.23643078],\n",
       "       [0.50854034, 0.49145966],\n",
       "       [0.19228987, 0.80771013],\n",
       "       [0.76360152, 0.23639848],\n",
       "       [0.15166441, 0.84833559],\n",
       "       [0.76357424, 0.23642576],\n",
       "       [0.19124656, 0.80875344],\n",
       "       [0.76357424, 0.23642576],\n",
       "       [0.14492655, 0.85507345],\n",
       "       [0.76389398, 0.23610602],\n",
       "       [0.5763224 , 0.4236776 ],\n",
       "       [0.19207352, 0.80792648],\n",
       "       [0.76350639, 0.23649361],\n",
       "       [0.76344266, 0.23655734],\n",
       "       [0.76326327, 0.23673673],\n",
       "       [0.76322713, 0.23677287],\n",
       "       [0.19375854, 0.80624146],\n",
       "       [0.1936353 , 0.8063647 ],\n",
       "       [0.19362841, 0.80637159],\n",
       "       [0.19368567, 0.80631433],\n",
       "       [0.61994029, 0.38005971],\n",
       "       [0.76565868, 0.23434132],\n",
       "       [0.64062183, 0.35937817],\n",
       "       [0.76350639, 0.23649361],\n",
       "       [0.14707581, 0.85292419],\n",
       "       [0.11226016, 0.88773984],\n",
       "       [0.61867465, 0.38132535],\n",
       "       [0.76355214, 0.23644786],\n",
       "       [0.62243802, 0.37756198],\n",
       "       [0.76322713, 0.23677287],\n",
       "       [0.17710972, 0.82289028],\n",
       "       [0.73927428, 0.26072572],\n",
       "       [0.76350639, 0.23649361],\n",
       "       [0.76363748, 0.23636252],\n",
       "       [0.76909906, 0.23090094],\n",
       "       [0.14100667, 0.85899333],\n",
       "       [0.73927428, 0.26072572],\n",
       "       [0.77213327, 0.22786673],\n",
       "       [0.7636267 , 0.2363733 ],\n",
       "       [0.17102378, 0.82897622],\n",
       "       [0.76346615, 0.23653385],\n",
       "       [0.19368713, 0.80631287],\n",
       "       [0.55568611, 0.44431389],\n",
       "       [0.1368303 , 0.8631697 ],\n",
       "       [0.76368034, 0.23631966],\n",
       "       [0.63253488, 0.36746512],\n",
       "       [0.19355313, 0.80644687],\n",
       "       [0.15558383, 0.84441617],\n",
       "       [0.23482355, 0.76517645],\n",
       "       [0.59623375, 0.40376625],\n",
       "       [0.20264149, 0.79735851],\n",
       "       [0.16664678, 0.83335322],\n",
       "       [0.76244848, 0.23755152],\n",
       "       [0.73886357, 0.26113643],\n",
       "       [0.19363032, 0.80636968],\n",
       "       [0.55992709, 0.44007291],\n",
       "       [0.19350355, 0.80649645],\n",
       "       [0.76350959, 0.23649041],\n",
       "       [0.53993948, 0.46006052],\n",
       "       [0.19355313, 0.80644687],\n",
       "       [0.76347017, 0.23652983],\n",
       "       [0.73830331, 0.26169669],\n",
       "       [0.73886357, 0.26113643],\n",
       "       [0.73903858, 0.26096142],\n",
       "       [0.19228987, 0.80771013],\n",
       "       [0.73886357, 0.26113643],\n",
       "       [0.18836239, 0.81163761],\n",
       "       [0.19366399, 0.80633601],\n",
       "       [0.19364408, 0.80635592],\n",
       "       [0.7629611 , 0.2370389 ],\n",
       "       [0.15021344, 0.84978656],\n",
       "       [0.19702185, 0.80297815],\n",
       "       [0.75981402, 0.24018598],\n",
       "       [0.73886357, 0.26113643],\n",
       "       [0.18155758, 0.81844242],\n",
       "       [0.76344486, 0.23655514],\n",
       "       [0.76368034, 0.23631966],\n",
       "       [0.77213327, 0.22786673],\n",
       "       [0.19356664, 0.80643336],\n",
       "       [0.76350581, 0.23649419],\n",
       "       [0.19339623, 0.80660377],\n",
       "       [0.77047247, 0.22952753],\n",
       "       [0.7636267 , 0.2363733 ],\n",
       "       [0.15558383, 0.84441617],\n",
       "       [0.76844797, 0.23155203],\n",
       "       [0.139352  , 0.860648  ],\n",
       "       [0.5723686 , 0.4276314 ],\n",
       "       [0.76322713, 0.23677287],\n",
       "       [0.76360152, 0.23639848],\n",
       "       [0.7636267 , 0.2363733 ],\n",
       "       [0.76355214, 0.23644786],\n",
       "       [0.76101021, 0.23898979],\n",
       "       [0.57276253, 0.42723747],\n",
       "       [0.19228987, 0.80771013],\n",
       "       [0.74155467, 0.25844533],\n",
       "       [0.21521048, 0.78478952],\n",
       "       [0.15863944, 0.84136056],\n",
       "       [0.19847804, 0.80152196],\n",
       "       [0.19361862, 0.80638138],\n",
       "       [0.72107823, 0.27892177],\n",
       "       [0.76350639, 0.23649361],\n",
       "       [0.76361771, 0.23638229],\n",
       "       [0.37635694, 0.62364306],\n",
       "       [0.19355313, 0.80644687],\n",
       "       [0.19207352, 0.80792648],\n",
       "       [0.76384756, 0.23615244],\n",
       "       [0.76357424, 0.23642576],\n",
       "       [0.19382278, 0.80617722],\n",
       "       [0.64554542, 0.35445458],\n",
       "       [0.19687201, 0.80312799],\n",
       "       [0.76275773, 0.23724227],\n",
       "       [0.76384756, 0.23615244],\n",
       "       [0.14641654, 0.85358346],\n",
       "       [0.1941908 , 0.8058092 ],\n",
       "       [0.76350639, 0.23649361],\n",
       "       [0.76356922, 0.23643078],\n",
       "       [0.76346615, 0.23653385],\n",
       "       [0.1949702 , 0.8050298 ],\n",
       "       [0.35890077, 0.64109923],\n",
       "       [0.21231325, 0.78768675],\n",
       "       [0.19366765, 0.80633235],\n",
       "       [0.14577347, 0.85422653],\n",
       "       [0.76360152, 0.23639848],\n",
       "       [0.76361771, 0.23638229],\n",
       "       [0.31617569, 0.68382431],\n",
       "       [0.76346615, 0.23653385],\n",
       "       [0.19211437, 0.80788563],\n",
       "       [0.19299269, 0.80700731],\n",
       "       [0.72446922, 0.27553078],\n",
       "       [0.70512963, 0.29487037],\n",
       "       [0.76894006, 0.23105994],\n",
       "       [0.76346615, 0.23653385],\n",
       "       [0.76364462, 0.23635538],\n",
       "       [0.13876825, 0.86123175],\n",
       "       [0.76350639, 0.23649361],\n",
       "       [0.19378737, 0.80621263],\n",
       "       [0.76353247, 0.23646753],\n",
       "       [0.14434961, 0.85565039],\n",
       "       [0.14670082, 0.85329918],\n",
       "       [0.77213327, 0.22786673],\n",
       "       [0.73886357, 0.26113643],\n",
       "       [0.76346615, 0.23653385],\n",
       "       [0.80933729, 0.19066271],\n",
       "       [0.76350639, 0.23649361],\n",
       "       [0.19116928, 0.80883072],\n",
       "       [0.76401224, 0.23598776],\n",
       "       [0.19411943, 0.80588057],\n",
       "       [0.19021405, 0.80978595],\n",
       "       [0.76357424, 0.23642576],\n",
       "       [0.76346672, 0.23653328],\n",
       "       [0.10514374, 0.89485626],\n",
       "       [0.76357424, 0.23642576],\n",
       "       [0.73886357, 0.26113643],\n",
       "       [0.76346615, 0.23653385],\n",
       "       [0.62243802, 0.37756198],\n",
       "       [0.19350355, 0.80649645],\n",
       "       [0.19368567, 0.80631433],\n",
       "       [0.19361492, 0.80638508],\n",
       "       [0.76290765, 0.23709235],\n",
       "       [0.19362021, 0.80637979],\n",
       "       [0.760223  , 0.239777  ],\n",
       "       [0.16717138, 0.83282862],\n",
       "       [0.18929278, 0.81070722],\n",
       "       [0.16092083, 0.83907917],\n",
       "       [0.7636267 , 0.2363733 ],\n",
       "       [0.18700529, 0.81299471],\n",
       "       [0.80817222, 0.19182778],\n",
       "       [0.15120716, 0.84879284],\n",
       "       [0.15558383, 0.84441617],\n",
       "       [0.75733718, 0.24266282],\n",
       "       [0.73886357, 0.26113643],\n",
       "       [0.19124656, 0.80875344],\n",
       "       [0.74110456, 0.25889544],\n",
       "       [0.7636267 , 0.2363733 ],\n",
       "       [0.49432413, 0.50567587],\n",
       "       [0.10490407, 0.89509593],\n",
       "       [0.14654455, 0.85345545],\n",
       "       [0.1445606 , 0.8554394 ],\n",
       "       [0.27195628, 0.72804372],\n",
       "       [0.19359679, 0.80640321],\n",
       "       [0.76346615, 0.23653385],\n",
       "       [0.76356147, 0.23643853],\n",
       "       [0.19363005, 0.80636995],\n",
       "       [0.62496247, 0.37503753],\n",
       "       [0.76837512, 0.23162488],\n",
       "       [0.76346615, 0.23653385],\n",
       "       [0.16099077, 0.83900923],\n",
       "       [0.73822766, 0.26177234],\n",
       "       [0.62184702, 0.37815298],\n",
       "       [0.14204666, 0.85795334],\n",
       "       [0.15558383, 0.84441617],\n",
       "       [0.19702185, 0.80297815],\n",
       "       [0.15523302, 0.84476698],\n",
       "       [0.74127698, 0.25872302],\n",
       "       [0.7639586 , 0.2360414 ],\n",
       "       [0.19359679, 0.80640321],\n",
       "       [0.70512963, 0.29487037],\n",
       "       [0.76565868, 0.23434132],\n",
       "       [0.1853322 , 0.8146678 ],\n",
       "       [0.7636267 , 0.2363733 ],\n",
       "       [0.19748787, 0.80251213],\n",
       "       [0.76322713, 0.23677287],\n",
       "       [0.16717138, 0.83282862],\n",
       "       [0.57444737, 0.42555263],\n",
       "       [0.76357424, 0.23642576],\n",
       "       [0.1696575 , 0.8303425 ],\n",
       "       [0.76346615, 0.23653385],\n",
       "       [0.76357424, 0.23642576],\n",
       "       [0.76384756, 0.23615244],\n",
       "       [0.19228987, 0.80771013],\n",
       "       [0.15754938, 0.84245062],\n",
       "       [0.19228987, 0.80771013],\n",
       "       [0.74092505, 0.25907495],\n",
       "       [0.19785007, 0.80214993],\n",
       "       [0.76734076, 0.23265924],\n",
       "       [0.19355313, 0.80644687],\n",
       "       [0.74315064, 0.25684936],\n",
       "       [0.76357424, 0.23642576],\n",
       "       [0.76282027, 0.23717973],\n",
       "       [0.50548995, 0.49451005],\n",
       "       [0.76863713, 0.23136287],\n",
       "       [0.19431849, 0.80568151],\n",
       "       [0.76350639, 0.23649361],\n",
       "       [0.76357424, 0.23642576],\n",
       "       [0.19350355, 0.80649645],\n",
       "       [0.19285601, 0.80714399],\n",
       "       [0.14075773, 0.85924227]])"
      ]
     },
     "execution_count": 130,
     "metadata": {},
     "output_type": "execute_result"
    }
   ],
   "source": [
    "#Obter a previsões da probabilidade\n",
    "#Note que ele retorna  probabilidade da classe 0 e 1 respectivamente\n",
    "svc_previsoes_prob = svc.predict_proba(X_teste)\n",
    "svc_previsoes_prob"
   ]
  },
  {
   "cell_type": "markdown",
   "metadata": {},
   "source": [
    "### Matriz de Confusão"
   ]
  },
  {
   "cell_type": "code",
   "execution_count": 131,
   "metadata": {},
   "outputs": [
    {
     "data": {
      "image/png": "[encoded data removed]",
      "text/plain": [
       "<Figure size 576x396 with 2 Axes>"
      ]
     },
     "metadata": {},
     "output_type": "display_data"
    }
   ],
   "source": [
    "sns.heatmap(confusion_matrix(y_teste, svc_previsoes), cmap='OrRd', annot=True, fmt='2.0f')\n",
    "plt.title('SVC')\n",
    "plt.ylabel('P R E V I S T O')\n",
    "plt.xlabel('R E A L')\n",
    "plt.show()"
   ]
  },
  {
   "cell_type": "code",
   "execution_count": 132,
   "metadata": {},
   "outputs": [
    {
     "name": "stdout",
     "output_type": "stream",
     "text": [
      "Acurácia:0.79\n",
      "Precisão:0.84\n",
      "Recall ou Sensibilidade:0.71\n",
      "F1-Score:0.77\n",
      "Kappa:0.57\n",
      "Curva ROC:0.79\n"
     ]
    }
   ],
   "source": [
    "#Acurácia, Sensibilidade positiva (VP/(VP+FN),  Precisão, Recall, F1-Score\n",
    "acuracia = accuracy_score(y_teste,svc_previsoes)\n",
    "precisao = precision_score(y_teste,svc_previsoes)\n",
    "recall = recall_score(y_teste,svc_previsoes)\n",
    "f1Score = f1_score(y_teste,svc_previsoes)\n",
    "svc_curva_roc = roc_auc_score(y_teste,svc_previsoes)\n",
    "kappa = cohen_kappa_score(y_teste,svc_previsoes)\n",
    "print(f'Acurácia:{round(acuracia,2)}')\n",
    "print(f'Precisão:{round(precisao,2)}')\n",
    "print(f'Recall ou Sensibilidade:{round(recall,2)}')\n",
    "print(f'F1-Score:{round(f1Score,2)}')\n",
    "print(f'Kappa:{round(kappa,2)}')\n",
    "print(f'Curva ROC:{round(svc_curva_roc,2)}')"
   ]
  },
  {
   "cell_type": "code",
   "execution_count": 133,
   "metadata": {},
   "outputs": [
    {
     "name": "stdout",
     "output_type": "stream",
     "text": [
      "              precision    recall  f1-score   support\n",
      "\n",
      "           0       0.75      0.86      0.80       150\n",
      "           1       0.84      0.71      0.77       150\n",
      "\n",
      "    accuracy                           0.79       300\n",
      "   macro avg       0.79      0.79      0.79       300\n",
      "weighted avg       0.79      0.79      0.79       300\n",
      "\n"
     ]
    }
   ],
   "source": [
    "print(classification_report(y_teste, svc.predict(X_teste)))"
   ]
  },
  {
   "cell_type": "markdown",
   "metadata": {},
   "source": [
    "### Curva ROC"
   ]
  },
  {
   "cell_type": "code",
   "execution_count": 134,
   "metadata": {},
   "outputs": [
    {
     "data": {
      "image/png": "[encoded data removed]",
      "text/plain": [
       "<Figure size 576x396 with 1 Axes>"
      ]
     },
     "metadata": {},
     "output_type": "display_data"
    }
   ],
   "source": [
    "rl_fp,rl_vp,lim1 = roc_curve(y_teste,lr_previsoes)\n",
    "nb_fp,nb_vp,lim2 = roc_curve(y_teste,nb_previsoes)\n",
    "svc_fp,svc_vp,lim3 = roc_curve(y_teste,svc_previsoes)\n",
    "plt.plot(rl_fp,rl_vp, marker='.', label='Regressão Logística='+str(round(lr_curva_roc,2)),color=\"orange\")\n",
    "plt.plot(nb_fp,nb_vp, marker='.', label='Naive Bayes='+str(round(nb_curva_roc,2)),color=\"blue\")\n",
    "plt.plot(svc_fp,svc_vp, marker='.', label='SVC='+str(round(svc_curva_roc,2)),color=\"yellow\")\n",
    "plt.plot([0, 1], [0, 1], color='black', linestyle='--')\n",
    "# alterando o nome dos eixos\n",
    "plt.xlabel('1- Especificidade')\n",
    "plt.ylabel('Sensibilidade')\n",
    "# Legenda\n",
    "plt.legend()\n",
    "# Mostrando o gráfico\n",
    "plt.show()\n",
    "#fig.savefig(\"images/mlpr_0305.png\")"
   ]
  },
  {
   "cell_type": "code",
   "execution_count": 135,
   "metadata": {},
   "outputs": [
    {
     "data": {
      "image/png": "[encoded data removed]",
      "text/plain": [
       "<Figure size 576x396 with 1 Axes>"
      ]
     },
     "metadata": {},
     "output_type": "display_data"
    }
   ],
   "source": [
    "#Aqui estamos pegando apenas da classe 1\n",
    "lr_probs = lr_previsoes_prob[:,1]\n",
    "nb_probs = nb_previsoes_prob[:,1]\n",
    "svc_probs = svc_previsoes_prob[:,1]\n",
    "rl_fp,rl_vp,lim1 = roc_curve(y_teste,lr_probs)\n",
    "nb_fp,nb_vp,lim2 = roc_curve(y_teste,nb_probs)\n",
    "svc_fp,svc_vp,lim3 = roc_curve(y_teste,svc_probs)\n",
    "plt.plot(rl_fp,rl_vp, marker='.', label='Regressão Logística',color=\"orange\")\n",
    "plt.plot(nb_fp,nb_vp, marker='.', label='Naive Bayes',color=\"blue\")\n",
    "plt.plot(svc_fp,svc_vp, marker='.', label='SVC',color=\"yellow\")\n",
    "plt.plot([0, 1], [0, 1], color='black', linestyle='--')\n",
    "# alterando o nome dos eixos\n",
    "plt.xlabel('1- Especificidade')\n",
    "plt.ylabel('Sensibilidade')\n",
    "# Legenda\n",
    "plt.legend()\n",
    "# Mostrando o gráfico\n",
    "plt.show()\n",
    "#fig.savefig(\"images/mlpr_0305.png\")"
   ]
  },
  {
   "cell_type": "code",
   "execution_count": 136,
   "metadata": {},
   "outputs": [
    {
     "data": {
      "text/plain": [
       "array([0], dtype=int64)"
      ]
     },
     "execution_count": 136,
     "metadata": {},
     "output_type": "execute_result"
    }
   ],
   "source": [
    "svc_previsoes_1 = svc.predict(X_teste[:1])\n",
    "svc_previsoes_1"
   ]
  },
  {
   "cell_type": "code",
   "execution_count": 137,
   "metadata": {},
   "outputs": [
    {
     "data": {
      "text/plain": [
       "array([[0.73830331, 0.26169669]])"
      ]
     },
     "execution_count": 137,
     "metadata": {},
     "output_type": "execute_result"
    }
   ],
   "source": [
    "svc_previsoes_1 = svc.predict_proba(X_teste[:1])\n",
    "svc_previsoes_1"
   ]
  },
  {
   "cell_type": "markdown",
   "metadata": {},
   "source": [
    "### Referências"
   ]
  },
  {
   "cell_type": "markdown",
   "metadata": {},
   "source": [
    "### Harrison, Matt. Machine Learning – Guia de Referência Rápida. Novatec Editora. Edição do Kindle. \n",
    "### Regressão Logística. Disponível em: https://scikit-learn.org/stable/modules/generated/sklearn.linear_model.LogisticRegression.html. Acesso em 05/10/2022.\n",
    "### GaussianNB. Disponível em:https://scikit-learn.org/stable/modules/generated/sklearn.naive_bayes.GaussianNB.html?highlight=gaussiannb#sklearn.naive_bayes.GaussianNB .Acesso em 05/10/2022.\n",
    "### SVC. Disponível em:https://scikit-learn.org/stable/modules/generated/sklearn.svm.SVC.html?highlight=svc#sklearn.svm.SVC. Acesso em 10/10/2022.\n",
    "### Yellowbrick. Disponível em: https://www.scikit-yb.org/en/latest/. Acesso em 05/10/2022."
   ]
  }
 ],
 "metadata": {
  "jupytext": {
   "formats": "ipynb,py:light"
  },
  "kernelspec": {
   "display_name": "Python 3",
   "language": "python",
   "name": "python3"
  },
  "language_info": {
   "codemirror_mode": {
    "name": "ipython",
    "version": 3
   },
   "file_extension": ".py",
   "mimetype": "text/x-python",
   "name": "python",
   "nbconvert_exporter": "python",
   "pygments_lexer": "ipython3",
   "version": "3.8.8"
  }
 },
 "nbformat": 4,
 "nbformat_minor": 2
}
