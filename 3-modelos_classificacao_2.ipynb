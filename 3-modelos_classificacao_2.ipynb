{
 "cells": [
  {
   "cell_type": "markdown",
   "metadata": {},
   "source": [
    "# Continuação à classificação"
   ]
  },
  {
   "cell_type": "code",
   "execution_count": 1,
   "metadata": {},
   "outputs": [],
   "source": [
    "#Vou importar todos os modelos de classificação padrão do sklearn\n",
    "#import warnings\n",
    "#warnings.filterwarnings('ignore')\n",
    "import pandas as pd\n",
    "import seaborn as sns\n",
    "from sklearn.model_selection import train_test_split\n",
    "from sklearn.metrics import (cohen_kappa_score,confusion_matrix, accuracy_score, precision_score, recall_score, \n",
    "f1_score, roc_auc_score,roc_curve,auc,r2_score,classification_report)\n",
    "import matplotlib.pyplot as plt\n",
    "from yellowbrick.classifier import  ROCAUC"
   ]
  },
  {
   "cell_type": "code",
   "execution_count": 2,
   "metadata": {},
   "outputs": [],
   "source": [
    "#Carregar os dados\n",
    "df = pd.read_csv('titanic3_prep_proce_final.csv', delimiter = ',')"
   ]
  },
  {
   "cell_type": "code",
   "execution_count": 3,
   "metadata": {},
   "outputs": [
    {
     "data": {
      "text/html": [
       "<div>\n",
       "<style scoped>\n",
       "    .dataframe tbody tr th:only-of-type {\n",
       "        vertical-align: middle;\n",
       "    }\n",
       "\n",
       "    .dataframe tbody tr th {\n",
       "        vertical-align: top;\n",
       "    }\n",
       "\n",
       "    .dataframe thead th {\n",
       "        text-align: right;\n",
       "    }\n",
       "</style>\n",
       "<table border=\"1\" class=\"dataframe\">\n",
       "  <thead>\n",
       "    <tr style=\"text-align: right;\">\n",
       "      <th></th>\n",
       "      <th>classe</th>\n",
       "      <th>sobreviveu</th>\n",
       "      <th>idade</th>\n",
       "      <th>irmaos_conjuge</th>\n",
       "      <th>pais_filhos</th>\n",
       "      <th>tarifa</th>\n",
       "      <th>sexo_female</th>\n",
       "      <th>sexo_male</th>\n",
       "      <th>embarque_C</th>\n",
       "      <th>embarque_Q</th>\n",
       "      <th>embarque_S</th>\n",
       "    </tr>\n",
       "  </thead>\n",
       "  <tbody>\n",
       "    <tr>\n",
       "      <th>0</th>\n",
       "      <td>1</td>\n",
       "      <td>1</td>\n",
       "      <td>24.0000</td>\n",
       "      <td>0</td>\n",
       "      <td>0</td>\n",
       "      <td>14.4542</td>\n",
       "      <td>1</td>\n",
       "      <td>0</td>\n",
       "      <td>0</td>\n",
       "      <td>0</td>\n",
       "      <td>1</td>\n",
       "    </tr>\n",
       "    <tr>\n",
       "      <th>1</th>\n",
       "      <td>1</td>\n",
       "      <td>1</td>\n",
       "      <td>0.9167</td>\n",
       "      <td>1</td>\n",
       "      <td>2</td>\n",
       "      <td>14.4542</td>\n",
       "      <td>0</td>\n",
       "      <td>1</td>\n",
       "      <td>0</td>\n",
       "      <td>0</td>\n",
       "      <td>1</td>\n",
       "    </tr>\n",
       "    <tr>\n",
       "      <th>2</th>\n",
       "      <td>1</td>\n",
       "      <td>1</td>\n",
       "      <td>24.0000</td>\n",
       "      <td>0</td>\n",
       "      <td>0</td>\n",
       "      <td>26.5500</td>\n",
       "      <td>0</td>\n",
       "      <td>1</td>\n",
       "      <td>0</td>\n",
       "      <td>0</td>\n",
       "      <td>1</td>\n",
       "    </tr>\n",
       "    <tr>\n",
       "      <th>3</th>\n",
       "      <td>1</td>\n",
       "      <td>1</td>\n",
       "      <td>24.0000</td>\n",
       "      <td>1</td>\n",
       "      <td>0</td>\n",
       "      <td>77.9583</td>\n",
       "      <td>1</td>\n",
       "      <td>0</td>\n",
       "      <td>0</td>\n",
       "      <td>0</td>\n",
       "      <td>1</td>\n",
       "    </tr>\n",
       "    <tr>\n",
       "      <th>4</th>\n",
       "      <td>1</td>\n",
       "      <td>1</td>\n",
       "      <td>24.0000</td>\n",
       "      <td>2</td>\n",
       "      <td>0</td>\n",
       "      <td>51.4792</td>\n",
       "      <td>1</td>\n",
       "      <td>0</td>\n",
       "      <td>0</td>\n",
       "      <td>0</td>\n",
       "      <td>1</td>\n",
       "    </tr>\n",
       "  </tbody>\n",
       "</table>\n",
       "</div>"
      ],
      "text/plain": [
       "   classe  sobreviveu    idade  irmaos_conjuge  pais_filhos   tarifa  \\\n",
       "0       1           1  24.0000               0            0  14.4542   \n",
       "1       1           1   0.9167               1            2  14.4542   \n",
       "2       1           1  24.0000               0            0  26.5500   \n",
       "3       1           1  24.0000               1            0  77.9583   \n",
       "4       1           1  24.0000               2            0  51.4792   \n",
       "\n",
       "   sexo_female  sexo_male  embarque_C  embarque_Q  embarque_S  \n",
       "0            1          0           0           0           1  \n",
       "1            0          1           0           0           1  \n",
       "2            0          1           0           0           1  \n",
       "3            1          0           0           0           1  \n",
       "4            1          0           0           0           1  "
      ]
     },
     "execution_count": 3,
     "metadata": {},
     "output_type": "execute_result"
    }
   ],
   "source": [
    "df.head()"
   ]
  },
  {
   "cell_type": "code",
   "execution_count": 4,
   "metadata": {},
   "outputs": [],
   "source": [
    "#Setar o passenger_id como index\n",
    "#df.set_index('passenger_id',inplace = True)\n",
    "#df.head()"
   ]
  },
  {
   "cell_type": "code",
   "execution_count": 5,
   "metadata": {},
   "outputs": [
    {
     "data": {
      "text/plain": [
       "1    500\n",
       "0    500\n",
       "Name: sobreviveu, dtype: int64"
      ]
     },
     "execution_count": 5,
     "metadata": {},
     "output_type": "execute_result"
    }
   ],
   "source": [
    "#Vamos ver se continuam balanceados\n",
    "df.sobreviveu.value_counts() "
   ]
  },
  {
   "cell_type": "code",
   "execution_count": 6,
   "metadata": {},
   "outputs": [],
   "source": [
    "#Vamos separar a classe da variável\n",
    "X = df.drop(['sobreviveu'], axis=1)\n",
    "y = df['sobreviveu']"
   ]
  },
  {
   "cell_type": "code",
   "execution_count": 7,
   "metadata": {},
   "outputs": [
    {
     "name": "stdout",
     "output_type": "stream",
     "text": [
      "Não sobreviveu:  500\n",
      "Sobreviveu :  500\n"
     ]
    },
    {
     "data": {
      "image/png": "[encoded data removed]",
      "text/plain": [
       "<Figure size 576x396 with 1 Axes>"
      ]
     },
     "metadata": {},
     "output_type": "display_data"
    }
   ],
   "source": [
    "#Rever a distruição das amostras entre as classes\n",
    "sns.set(style=\"darkgrid\")\n",
    "ax = sns.countplot(x = y)      \n",
    "N, S = y.value_counts(sort=True) \n",
    "print('Não sobreviveu: ',N)\n",
    "print('Sobreviveu : ',S)"
   ]
  },
  {
   "cell_type": "markdown",
   "metadata": {},
   "source": [
    "### Normalização StandardScaler ou Z-Score(Pré-Processamento)"
   ]
  },
  {
   "cell_type": "code",
   "execution_count": 8,
   "metadata": {},
   "outputs": [],
   "source": [
    "from sklearn.preprocessing import StandardScaler\n",
    "# create a scaler object\n",
    "scaler = StandardScaler()\n",
    "# fit and transform the data\n",
    "X = pd.DataFrame(scaler.fit_transform(X), columns=X.columns)"
   ]
  },
  {
   "cell_type": "code",
   "execution_count": 9,
   "metadata": {},
   "outputs": [
    {
     "data": {
      "text/html": [
       "<div>\n",
       "<style scoped>\n",
       "    .dataframe tbody tr th:only-of-type {\n",
       "        vertical-align: middle;\n",
       "    }\n",
       "\n",
       "    .dataframe tbody tr th {\n",
       "        vertical-align: top;\n",
       "    }\n",
       "\n",
       "    .dataframe thead th {\n",
       "        text-align: right;\n",
       "    }\n",
       "</style>\n",
       "<table border=\"1\" class=\"dataframe\">\n",
       "  <thead>\n",
       "    <tr style=\"text-align: right;\">\n",
       "      <th></th>\n",
       "      <th>classe</th>\n",
       "      <th>idade</th>\n",
       "      <th>irmaos_conjuge</th>\n",
       "      <th>pais_filhos</th>\n",
       "      <th>tarifa</th>\n",
       "      <th>sexo_female</th>\n",
       "      <th>sexo_male</th>\n",
       "      <th>embarque_C</th>\n",
       "      <th>embarque_Q</th>\n",
       "      <th>embarque_S</th>\n",
       "    </tr>\n",
       "  </thead>\n",
       "  <tbody>\n",
       "    <tr>\n",
       "      <th>0</th>\n",
       "      <td>-1.425645</td>\n",
       "      <td>0.166535</td>\n",
       "      <td>-0.508134</td>\n",
       "      <td>-0.464067</td>\n",
       "      <td>-0.432706</td>\n",
       "      <td>1.170328</td>\n",
       "      <td>-1.170328</td>\n",
       "      <td>-0.534179</td>\n",
       "      <td>-0.335182</td>\n",
       "      <td>0.690728</td>\n",
       "    </tr>\n",
       "    <tr>\n",
       "      <th>1</th>\n",
       "      <td>-1.425645</td>\n",
       "      <td>-6.047956</td>\n",
       "      <td>0.528874</td>\n",
       "      <td>1.844725</td>\n",
       "      <td>-0.432706</td>\n",
       "      <td>-0.854461</td>\n",
       "      <td>0.854461</td>\n",
       "      <td>-0.534179</td>\n",
       "      <td>-0.335182</td>\n",
       "      <td>0.690728</td>\n",
       "    </tr>\n",
       "    <tr>\n",
       "      <th>2</th>\n",
       "      <td>-1.425645</td>\n",
       "      <td>0.166535</td>\n",
       "      <td>-0.508134</td>\n",
       "      <td>-0.464067</td>\n",
       "      <td>0.029561</td>\n",
       "      <td>-0.854461</td>\n",
       "      <td>0.854461</td>\n",
       "      <td>-0.534179</td>\n",
       "      <td>-0.335182</td>\n",
       "      <td>0.690728</td>\n",
       "    </tr>\n",
       "    <tr>\n",
       "      <th>3</th>\n",
       "      <td>-1.425645</td>\n",
       "      <td>0.166535</td>\n",
       "      <td>0.528874</td>\n",
       "      <td>-0.464067</td>\n",
       "      <td>1.994240</td>\n",
       "      <td>1.170328</td>\n",
       "      <td>-1.170328</td>\n",
       "      <td>-0.534179</td>\n",
       "      <td>-0.335182</td>\n",
       "      <td>0.690728</td>\n",
       "    </tr>\n",
       "    <tr>\n",
       "      <th>4</th>\n",
       "      <td>-1.425645</td>\n",
       "      <td>0.166535</td>\n",
       "      <td>1.565881</td>\n",
       "      <td>-0.464067</td>\n",
       "      <td>0.982284</td>\n",
       "      <td>1.170328</td>\n",
       "      <td>-1.170328</td>\n",
       "      <td>-0.534179</td>\n",
       "      <td>-0.335182</td>\n",
       "      <td>0.690728</td>\n",
       "    </tr>\n",
       "    <tr>\n",
       "      <th>...</th>\n",
       "      <td>...</td>\n",
       "      <td>...</td>\n",
       "      <td>...</td>\n",
       "      <td>...</td>\n",
       "      <td>...</td>\n",
       "      <td>...</td>\n",
       "      <td>...</td>\n",
       "      <td>...</td>\n",
       "      <td>...</td>\n",
       "      <td>...</td>\n",
       "    </tr>\n",
       "    <tr>\n",
       "      <th>995</th>\n",
       "      <td>0.907653</td>\n",
       "      <td>0.166535</td>\n",
       "      <td>-0.508134</td>\n",
       "      <td>-0.464067</td>\n",
       "      <td>-0.689877</td>\n",
       "      <td>-0.854461</td>\n",
       "      <td>0.854461</td>\n",
       "      <td>-0.534179</td>\n",
       "      <td>2.983453</td>\n",
       "      <td>-1.447748</td>\n",
       "    </tr>\n",
       "    <tr>\n",
       "      <th>996</th>\n",
       "      <td>0.907653</td>\n",
       "      <td>0.166535</td>\n",
       "      <td>0.528874</td>\n",
       "      <td>1.844725</td>\n",
       "      <td>-0.088912</td>\n",
       "      <td>1.170328</td>\n",
       "      <td>-1.170328</td>\n",
       "      <td>-0.534179</td>\n",
       "      <td>-0.335182</td>\n",
       "      <td>0.690728</td>\n",
       "    </tr>\n",
       "    <tr>\n",
       "      <th>997</th>\n",
       "      <td>-1.425645</td>\n",
       "      <td>0.166535</td>\n",
       "      <td>0.528874</td>\n",
       "      <td>-0.464067</td>\n",
       "      <td>1.284995</td>\n",
       "      <td>-0.854461</td>\n",
       "      <td>0.854461</td>\n",
       "      <td>1.872032</td>\n",
       "      <td>-0.335182</td>\n",
       "      <td>-1.447748</td>\n",
       "    </tr>\n",
       "    <tr>\n",
       "      <th>998</th>\n",
       "      <td>-0.258996</td>\n",
       "      <td>0.166535</td>\n",
       "      <td>0.528874</td>\n",
       "      <td>-0.464067</td>\n",
       "      <td>-0.545607</td>\n",
       "      <td>-0.854461</td>\n",
       "      <td>0.854461</td>\n",
       "      <td>-0.534179</td>\n",
       "      <td>-0.335182</td>\n",
       "      <td>0.690728</td>\n",
       "    </tr>\n",
       "    <tr>\n",
       "      <th>999</th>\n",
       "      <td>0.907653</td>\n",
       "      <td>0.166535</td>\n",
       "      <td>-0.508134</td>\n",
       "      <td>-0.464067</td>\n",
       "      <td>-0.687966</td>\n",
       "      <td>-0.854461</td>\n",
       "      <td>0.854461</td>\n",
       "      <td>-0.534179</td>\n",
       "      <td>-0.335182</td>\n",
       "      <td>0.690728</td>\n",
       "    </tr>\n",
       "  </tbody>\n",
       "</table>\n",
       "<p>1000 rows × 10 columns</p>\n",
       "</div>"
      ],
      "text/plain": [
       "       classe     idade  irmaos_conjuge  pais_filhos    tarifa  sexo_female  \\\n",
       "0   -1.425645  0.166535       -0.508134    -0.464067 -0.432706     1.170328   \n",
       "1   -1.425645 -6.047956        0.528874     1.844725 -0.432706    -0.854461   \n",
       "2   -1.425645  0.166535       -0.508134    -0.464067  0.029561    -0.854461   \n",
       "3   -1.425645  0.166535        0.528874    -0.464067  1.994240     1.170328   \n",
       "4   -1.425645  0.166535        1.565881    -0.464067  0.982284     1.170328   \n",
       "..        ...       ...             ...          ...       ...          ...   \n",
       "995  0.907653  0.166535       -0.508134    -0.464067 -0.689877    -0.854461   \n",
       "996  0.907653  0.166535        0.528874     1.844725 -0.088912     1.170328   \n",
       "997 -1.425645  0.166535        0.528874    -0.464067  1.284995    -0.854461   \n",
       "998 -0.258996  0.166535        0.528874    -0.464067 -0.545607    -0.854461   \n",
       "999  0.907653  0.166535       -0.508134    -0.464067 -0.687966    -0.854461   \n",
       "\n",
       "     sexo_male  embarque_C  embarque_Q  embarque_S  \n",
       "0    -1.170328   -0.534179   -0.335182    0.690728  \n",
       "1     0.854461   -0.534179   -0.335182    0.690728  \n",
       "2     0.854461   -0.534179   -0.335182    0.690728  \n",
       "3    -1.170328   -0.534179   -0.335182    0.690728  \n",
       "4    -1.170328   -0.534179   -0.335182    0.690728  \n",
       "..         ...         ...         ...         ...  \n",
       "995   0.854461   -0.534179    2.983453   -1.447748  \n",
       "996  -1.170328   -0.534179   -0.335182    0.690728  \n",
       "997   0.854461    1.872032   -0.335182   -1.447748  \n",
       "998   0.854461   -0.534179   -0.335182    0.690728  \n",
       "999   0.854461   -0.534179   -0.335182    0.690728  \n",
       "\n",
       "[1000 rows x 10 columns]"
      ]
     },
     "execution_count": 9,
     "metadata": {},
     "output_type": "execute_result"
    }
   ],
   "source": [
    "X"
   ]
  },
  {
   "cell_type": "code",
   "execution_count": 10,
   "metadata": {},
   "outputs": [],
   "source": [
    "#Vamos separar em treino e teste\n",
    "#Obs: random_state deixa os valores aleatírios dentro de um range\n",
    "#Eu posso usar 3,5,6, qualquer número inteiro que dentro de um range eu pego um sequencia de valores\n",
    "X_treino, X_teste, y_treino, y_teste = train_test_split(X,y,test_size = 0.3,random_state = 42)"
   ]
  },
  {
   "cell_type": "code",
   "execution_count": 11,
   "metadata": {},
   "outputs": [
    {
     "name": "stdout",
     "output_type": "stream",
     "text": [
      "700\n",
      "300\n"
     ]
    }
   ],
   "source": [
    "print(len(X_treino))\n",
    "print(len(X_teste))"
   ]
  },
  {
   "cell_type": "markdown",
   "metadata": {},
   "source": [
    "## K vizinhos mais próximos\n",
    "* O algoritmo KNN (K-Nearest Neighbor, ou K Vizinhos Mais Próximos) faz a classificação com base na distância até algumas amostras (k) de treinamento;\n",
    "* A família de algoritmos é chamada de aprendizado baseado em instâncias (instance-based learning), pois não há parâmetros para aprender;\n",
    "* O modelo pressupõe que a distância é suficiente para fazer uma inferência; afora isso, nenhuma pressuposição é feita sobre os dados subjacentes ou suas distribuições;\n",
    "* A parte complicada é selecionar o valor apropriado de k. Além disso, a maldição da dimensionalidade pode atrapalhar as métricas de distância, pois haverá pouca diferença entre os vizinhos mais próximos e mais distantes no caso de mais dimensões."
   ]
  },
  {
   "cell_type": "markdown",
   "metadata": {},
   "source": [
    "<img src=\"KNN.png\" width=\"400px\" align=\"left\"><br>"
   ]
  },
  {
   "cell_type": "code",
   "execution_count": 12,
   "metadata": {},
   "outputs": [],
   "source": [
    "#Vamos importar\n",
    "from sklearn.neighbors import KNeighborsClassifier"
   ]
  },
  {
   "cell_type": "code",
   "execution_count": 13,
   "metadata": {},
   "outputs": [],
   "source": [
    "#Vamos instanciar\n",
    "knc = KNeighborsClassifier()"
   ]
  },
  {
   "cell_type": "code",
   "execution_count": 14,
   "metadata": {},
   "outputs": [
    {
     "data": {
      "text/html": [
       "<style>#sk-container-id-1 {color: black;background-color: white;}#sk-container-id-1 pre{padding: 0;}#sk-container-id-1 div.sk-toggleable {background-color: white;}#sk-container-id-1 label.sk-toggleable__label {cursor: pointer;display: block;width: 100%;margin-bottom: 0;padding: 0.3em;box-sizing: border-box;text-align: center;}#sk-container-id-1 label.sk-toggleable__label-arrow:before {content: \"▸\";float: left;margin-right: 0.25em;color: #696969;}#sk-container-id-1 label.sk-toggleable__label-arrow:hover:before {color: black;}#sk-container-id-1 div.sk-estimator:hover label.sk-toggleable__label-arrow:before {color: black;}#sk-container-id-1 div.sk-toggleable__content {max-height: 0;max-width: 0;overflow: hidden;text-align: left;background-color: #f0f8ff;}#sk-container-id-1 div.sk-toggleable__content pre {margin: 0.2em;color: black;border-radius: 0.25em;background-color: #f0f8ff;}#sk-container-id-1 input.sk-toggleable__control:checked~div.sk-toggleable__content {max-height: 200px;max-width: 100%;overflow: auto;}#sk-container-id-1 input.sk-toggleable__control:checked~label.sk-toggleable__label-arrow:before {content: \"▾\";}#sk-container-id-1 div.sk-estimator input.sk-toggleable__control:checked~label.sk-toggleable__label {background-color: #d4ebff;}#sk-container-id-1 div.sk-label input.sk-toggleable__control:checked~label.sk-toggleable__label {background-color: #d4ebff;}#sk-container-id-1 input.sk-hidden--visually {border: 0;clip: rect(1px 1px 1px 1px);clip: rect(1px, 1px, 1px, 1px);height: 1px;margin: -1px;overflow: hidden;padding: 0;position: absolute;width: 1px;}#sk-container-id-1 div.sk-estimator {font-family: monospace;background-color: #f0f8ff;border: 1px dotted black;border-radius: 0.25em;box-sizing: border-box;margin-bottom: 0.5em;}#sk-container-id-1 div.sk-estimator:hover {background-color: #d4ebff;}#sk-container-id-1 div.sk-parallel-item::after {content: \"\";width: 100%;border-bottom: 1px solid gray;flex-grow: 1;}#sk-container-id-1 div.sk-label:hover label.sk-toggleable__label {background-color: #d4ebff;}#sk-container-id-1 div.sk-serial::before {content: \"\";position: absolute;border-left: 1px solid gray;box-sizing: border-box;top: 0;bottom: 0;left: 50%;z-index: 0;}#sk-container-id-1 div.sk-serial {display: flex;flex-direction: column;align-items: center;background-color: white;padding-right: 0.2em;padding-left: 0.2em;position: relative;}#sk-container-id-1 div.sk-item {position: relative;z-index: 1;}#sk-container-id-1 div.sk-parallel {display: flex;align-items: stretch;justify-content: center;background-color: white;position: relative;}#sk-container-id-1 div.sk-item::before, #sk-container-id-1 div.sk-parallel-item::before {content: \"\";position: absolute;border-left: 1px solid gray;box-sizing: border-box;top: 0;bottom: 0;left: 50%;z-index: -1;}#sk-container-id-1 div.sk-parallel-item {display: flex;flex-direction: column;z-index: 1;position: relative;background-color: white;}#sk-container-id-1 div.sk-parallel-item:first-child::after {align-self: flex-end;width: 50%;}#sk-container-id-1 div.sk-parallel-item:last-child::after {align-self: flex-start;width: 50%;}#sk-container-id-1 div.sk-parallel-item:only-child::after {width: 0;}#sk-container-id-1 div.sk-dashed-wrapped {border: 1px dashed gray;margin: 0 0.4em 0.5em 0.4em;box-sizing: border-box;padding-bottom: 0.4em;background-color: white;}#sk-container-id-1 div.sk-label label {font-family: monospace;font-weight: bold;display: inline-block;line-height: 1.2em;}#sk-container-id-1 div.sk-label-container {text-align: center;}#sk-container-id-1 div.sk-container {/* jupyter's `normalize.less` sets `[hidden] { display: none; }` but bootstrap.min.css set `[hidden] { display: none !important; }` so we also need the `!important` here to be able to override the default hidden behavior on the sphinx rendered scikit-learn.org. See: https://github.com/scikit-learn/scikit-learn/issues/21755 */display: inline-block !important;position: relative;}#sk-container-id-1 div.sk-text-repr-fallback {display: none;}</style><div id=\"sk-container-id-1\" class=\"sk-top-container\"><div class=\"sk-text-repr-fallback\"><pre>KNeighborsClassifier()</pre><b>In a Jupyter environment, please rerun this cell to show the HTML representation or trust the notebook. <br />On GitHub, the HTML representation is unable to render, please try loading this page with nbviewer.org.</b></div><div class=\"sk-container\" hidden><div class=\"sk-item\"><div class=\"sk-estimator sk-toggleable\"><input class=\"sk-toggleable__control sk-hidden--visually\" id=\"sk-estimator-id-1\" type=\"checkbox\" checked><label for=\"sk-estimator-id-1\" class=\"sk-toggleable__label sk-toggleable__label-arrow\">KNeighborsClassifier</label><div class=\"sk-toggleable__content\"><pre>KNeighborsClassifier()</pre></div></div></div></div></div>"
      ],
      "text/plain": [
       "KNeighborsClassifier()"
      ]
     },
     "execution_count": 14,
     "metadata": {},
     "output_type": "execute_result"
    }
   ],
   "source": [
    "#Treinar\n",
    "knc.fit(X_treino, y_treino)"
   ]
  },
  {
   "cell_type": "code",
   "execution_count": 15,
   "metadata": {},
   "outputs": [
    {
     "data": {
      "text/plain": [
       "0.73"
      ]
     },
     "execution_count": 15,
     "metadata": {},
     "output_type": "execute_result"
    }
   ],
   "source": [
    "knc.score(X_teste, y_teste)"
   ]
  },
  {
   "cell_type": "code",
   "execution_count": 16,
   "metadata": {},
   "outputs": [],
   "source": [
    "#A seguir, apresentamos algumas das características que incluiremos em cada modelo:\n",
    "knc = KNeighborsClassifier(algorithm='auto', leaf_size=30, metric='minkowski', \n",
    "                                                metric_params=None, n_jobs=1,n_neighbors=5, p=2, weights='uniform')"
   ]
  },
  {
   "cell_type": "code",
   "execution_count": 17,
   "metadata": {},
   "outputs": [
    {
     "data": {
      "text/html": [
       "<style>#sk-container-id-2 {color: black;background-color: white;}#sk-container-id-2 pre{padding: 0;}#sk-container-id-2 div.sk-toggleable {background-color: white;}#sk-container-id-2 label.sk-toggleable__label {cursor: pointer;display: block;width: 100%;margin-bottom: 0;padding: 0.3em;box-sizing: border-box;text-align: center;}#sk-container-id-2 label.sk-toggleable__label-arrow:before {content: \"▸\";float: left;margin-right: 0.25em;color: #696969;}#sk-container-id-2 label.sk-toggleable__label-arrow:hover:before {color: black;}#sk-container-id-2 div.sk-estimator:hover label.sk-toggleable__label-arrow:before {color: black;}#sk-container-id-2 div.sk-toggleable__content {max-height: 0;max-width: 0;overflow: hidden;text-align: left;background-color: #f0f8ff;}#sk-container-id-2 div.sk-toggleable__content pre {margin: 0.2em;color: black;border-radius: 0.25em;background-color: #f0f8ff;}#sk-container-id-2 input.sk-toggleable__control:checked~div.sk-toggleable__content {max-height: 200px;max-width: 100%;overflow: auto;}#sk-container-id-2 input.sk-toggleable__control:checked~label.sk-toggleable__label-arrow:before {content: \"▾\";}#sk-container-id-2 div.sk-estimator input.sk-toggleable__control:checked~label.sk-toggleable__label {background-color: #d4ebff;}#sk-container-id-2 div.sk-label input.sk-toggleable__control:checked~label.sk-toggleable__label {background-color: #d4ebff;}#sk-container-id-2 input.sk-hidden--visually {border: 0;clip: rect(1px 1px 1px 1px);clip: rect(1px, 1px, 1px, 1px);height: 1px;margin: -1px;overflow: hidden;padding: 0;position: absolute;width: 1px;}#sk-container-id-2 div.sk-estimator {font-family: monospace;background-color: #f0f8ff;border: 1px dotted black;border-radius: 0.25em;box-sizing: border-box;margin-bottom: 0.5em;}#sk-container-id-2 div.sk-estimator:hover {background-color: #d4ebff;}#sk-container-id-2 div.sk-parallel-item::after {content: \"\";width: 100%;border-bottom: 1px solid gray;flex-grow: 1;}#sk-container-id-2 div.sk-label:hover label.sk-toggleable__label {background-color: #d4ebff;}#sk-container-id-2 div.sk-serial::before {content: \"\";position: absolute;border-left: 1px solid gray;box-sizing: border-box;top: 0;bottom: 0;left: 50%;z-index: 0;}#sk-container-id-2 div.sk-serial {display: flex;flex-direction: column;align-items: center;background-color: white;padding-right: 0.2em;padding-left: 0.2em;position: relative;}#sk-container-id-2 div.sk-item {position: relative;z-index: 1;}#sk-container-id-2 div.sk-parallel {display: flex;align-items: stretch;justify-content: center;background-color: white;position: relative;}#sk-container-id-2 div.sk-item::before, #sk-container-id-2 div.sk-parallel-item::before {content: \"\";position: absolute;border-left: 1px solid gray;box-sizing: border-box;top: 0;bottom: 0;left: 50%;z-index: -1;}#sk-container-id-2 div.sk-parallel-item {display: flex;flex-direction: column;z-index: 1;position: relative;background-color: white;}#sk-container-id-2 div.sk-parallel-item:first-child::after {align-self: flex-end;width: 50%;}#sk-container-id-2 div.sk-parallel-item:last-child::after {align-self: flex-start;width: 50%;}#sk-container-id-2 div.sk-parallel-item:only-child::after {width: 0;}#sk-container-id-2 div.sk-dashed-wrapped {border: 1px dashed gray;margin: 0 0.4em 0.5em 0.4em;box-sizing: border-box;padding-bottom: 0.4em;background-color: white;}#sk-container-id-2 div.sk-label label {font-family: monospace;font-weight: bold;display: inline-block;line-height: 1.2em;}#sk-container-id-2 div.sk-label-container {text-align: center;}#sk-container-id-2 div.sk-container {/* jupyter's `normalize.less` sets `[hidden] { display: none; }` but bootstrap.min.css set `[hidden] { display: none !important; }` so we also need the `!important` here to be able to override the default hidden behavior on the sphinx rendered scikit-learn.org. See: https://github.com/scikit-learn/scikit-learn/issues/21755 */display: inline-block !important;position: relative;}#sk-container-id-2 div.sk-text-repr-fallback {display: none;}</style><div id=\"sk-container-id-2\" class=\"sk-top-container\"><div class=\"sk-text-repr-fallback\"><pre>KNeighborsClassifier(n_jobs=1)</pre><b>In a Jupyter environment, please rerun this cell to show the HTML representation or trust the notebook. <br />On GitHub, the HTML representation is unable to render, please try loading this page with nbviewer.org.</b></div><div class=\"sk-container\" hidden><div class=\"sk-item\"><div class=\"sk-estimator sk-toggleable\"><input class=\"sk-toggleable__control sk-hidden--visually\" id=\"sk-estimator-id-2\" type=\"checkbox\" checked><label for=\"sk-estimator-id-2\" class=\"sk-toggleable__label sk-toggleable__label-arrow\">KNeighborsClassifier</label><div class=\"sk-toggleable__content\"><pre>KNeighborsClassifier(n_jobs=1)</pre></div></div></div></div></div>"
      ],
      "text/plain": [
       "KNeighborsClassifier(n_jobs=1)"
      ]
     },
     "execution_count": 17,
     "metadata": {},
     "output_type": "execute_result"
    }
   ],
   "source": [
    "knc.fit(X_treino, y_treino)"
   ]
  },
  {
   "cell_type": "code",
   "execution_count": 18,
   "metadata": {},
   "outputs": [
    {
     "data": {
      "text/plain": [
       "0.73"
      ]
     },
     "execution_count": 18,
     "metadata": {},
     "output_type": "execute_result"
    }
   ],
   "source": [
    "knc.score(X_teste, y_teste)"
   ]
  },
  {
   "cell_type": "markdown",
   "metadata": {},
   "source": [
    "### Cross Validation. ou Validação Cruzada é uma técnica para avaliar a capacidade de generalização de um modelo,  a partir de um conjunto de dados."
   ]
  },
  {
   "cell_type": "code",
   "execution_count": 19,
   "metadata": {},
   "outputs": [],
   "source": [
    "from sklearn.model_selection import cross_val_score"
   ]
  },
  {
   "cell_type": "code",
   "execution_count": 20,
   "metadata": {},
   "outputs": [
    {
     "name": "stdout",
     "output_type": "stream",
     "text": [
      "Scores = [0.7  0.65 0.71 0.62 0.69 0.66 0.69 0.5  0.52 0.59]\n",
      "Média dos Scores = 0.633\n"
     ]
    }
   ],
   "source": [
    "cv_scores = cross_val_score(knc,X,y, cv=10, scoring='accuracy')\n",
    "print(f'Scores = {cv_scores}')\n",
    "print(f'Média dos Scores = {cv_scores.mean()}')"
   ]
  },
  {
   "cell_type": "code",
   "execution_count": 21,
   "metadata": {},
   "outputs": [
    {
     "data": {
      "text/plain": [
       "array([1, 0, 0, 0, 1, 1, 0, 1, 1, 1, 1, 1, 0, 0, 0, 1, 1, 0, 1, 1, 1, 1,\n",
       "       0, 0, 1, 1, 0, 0, 0, 0, 1, 1, 0, 1, 0, 1, 0, 1, 0, 0, 0, 1, 1, 1,\n",
       "       1, 0, 0, 1, 1, 0, 0, 0, 1, 0, 1, 1, 1, 1, 1, 0, 1, 1, 0, 0, 0, 1,\n",
       "       0, 0, 1, 0, 1, 1, 0, 0, 1, 1, 0, 1, 0, 1, 0, 1, 1, 1, 1, 0, 0, 0,\n",
       "       0, 1, 0, 1, 1, 1, 0, 1, 0, 1, 1, 0, 0, 0, 0, 1, 0, 0, 0, 0, 1, 0,\n",
       "       0, 0, 1, 1, 1, 0, 1, 0, 0, 1, 1, 1, 0, 1, 1, 0, 1, 1, 1, 1, 0, 0,\n",
       "       1, 0, 1, 1, 0, 1, 1, 1, 1, 1, 0, 1, 1, 0, 1, 1, 0, 0, 0, 1, 0, 1,\n",
       "       0, 0, 1, 0, 1, 0, 0, 0, 0, 0, 1, 0, 1, 1, 1, 1, 1, 1, 0, 0, 1, 1,\n",
       "       1, 1, 0, 0, 0, 0, 1, 0, 0, 1, 1, 0, 0, 1, 1, 1, 1, 1, 1, 0, 1, 1,\n",
       "       1, 1, 1, 0, 1, 0, 1, 0, 1, 0, 0, 0, 1, 1, 0, 1, 1, 0, 0, 1, 0, 1,\n",
       "       1, 0, 0, 1, 0, 1, 1, 0, 1, 1, 1, 0, 1, 1, 1, 1, 1, 0, 1, 0, 1, 1,\n",
       "       0, 1, 1, 0, 0, 0, 1, 1, 1, 1, 1, 1, 1, 1, 1, 0, 1, 1, 1, 1, 1, 1,\n",
       "       1, 1, 0, 0, 1, 1, 0, 1, 0, 1, 0, 1, 0, 0, 1, 1, 0, 0, 1, 1, 1, 1,\n",
       "       1, 0, 1, 1, 0, 0, 0, 0, 1, 0, 0, 1, 1, 1], dtype=int64)"
      ]
     },
     "execution_count": 21,
     "metadata": {},
     "output_type": "execute_result"
    }
   ],
   "source": [
    "#Obter a previsões\n",
    "knc_previsoes = knc.predict(X_teste)\n",
    "knc_previsoes"
   ]
  },
  {
   "cell_type": "code",
   "execution_count": 22,
   "metadata": {},
   "outputs": [
    {
     "data": {
      "text/plain": [
       "array([[0.4, 0.6],\n",
       "       [0.8, 0.2],\n",
       "       [0.8, 0.2],\n",
       "       [1. , 0. ],\n",
       "       [0.2, 0.8],\n",
       "       [0.2, 0.8],\n",
       "       [0.6, 0.4],\n",
       "       [0.4, 0.6],\n",
       "       [0.2, 0.8],\n",
       "       [0. , 1. ],\n",
       "       [0.2, 0.8],\n",
       "       [0.2, 0.8],\n",
       "       [0.8, 0.2],\n",
       "       [0.8, 0.2],\n",
       "       [1. , 0. ],\n",
       "       [0.4, 0.6],\n",
       "       [0. , 1. ],\n",
       "       [0.8, 0.2],\n",
       "       [0.4, 0.6],\n",
       "       [0.2, 0.8],\n",
       "       [0.4, 0.6],\n",
       "       [0. , 1. ],\n",
       "       [1. , 0. ],\n",
       "       [0.8, 0.2],\n",
       "       [0.2, 0.8],\n",
       "       [0.2, 0.8],\n",
       "       [0.8, 0.2],\n",
       "       [0.8, 0.2],\n",
       "       [0.8, 0.2],\n",
       "       [1. , 0. ],\n",
       "       [0.2, 0.8],\n",
       "       [0. , 1. ],\n",
       "       [1. , 0. ],\n",
       "       [0.4, 0.6],\n",
       "       [0.6, 0.4],\n",
       "       [0.4, 0.6],\n",
       "       [1. , 0. ],\n",
       "       [0.2, 0.8],\n",
       "       [0.8, 0.2],\n",
       "       [0.8, 0.2],\n",
       "       [1. , 0. ],\n",
       "       [0.4, 0.6],\n",
       "       [0. , 1. ],\n",
       "       [0.4, 0.6],\n",
       "       [0.2, 0.8],\n",
       "       [0.8, 0.2],\n",
       "       [0.8, 0.2],\n",
       "       [0.4, 0.6],\n",
       "       [0. , 1. ],\n",
       "       [0.6, 0.4],\n",
       "       [1. , 0. ],\n",
       "       [0.6, 0.4],\n",
       "       [0. , 1. ],\n",
       "       [0.6, 0.4],\n",
       "       [0. , 1. ],\n",
       "       [0. , 1. ],\n",
       "       [0.4, 0.6],\n",
       "       [0. , 1. ],\n",
       "       [0.2, 0.8],\n",
       "       [0.8, 0.2],\n",
       "       [0. , 1. ],\n",
       "       [0. , 1. ],\n",
       "       [0.8, 0.2],\n",
       "       [0.8, 0.2],\n",
       "       [0.8, 0.2],\n",
       "       [0.4, 0.6],\n",
       "       [0.8, 0.2],\n",
       "       [0.6, 0.4],\n",
       "       [0. , 1. ],\n",
       "       [0.8, 0.2],\n",
       "       [0. , 1. ],\n",
       "       [0.2, 0.8],\n",
       "       [1. , 0. ],\n",
       "       [0.8, 0.2],\n",
       "       [0.4, 0.6],\n",
       "       [0.2, 0.8],\n",
       "       [0.6, 0.4],\n",
       "       [0. , 1. ],\n",
       "       [1. , 0. ],\n",
       "       [0.2, 0.8],\n",
       "       [1. , 0. ],\n",
       "       [0. , 1. ],\n",
       "       [0.4, 0.6],\n",
       "       [0.4, 0.6],\n",
       "       [0.2, 0.8],\n",
       "       [0.6, 0.4],\n",
       "       [0.8, 0.2],\n",
       "       [0.6, 0.4],\n",
       "       [0.8, 0.2],\n",
       "       [0.2, 0.8],\n",
       "       [0.6, 0.4],\n",
       "       [0.4, 0.6],\n",
       "       [0. , 1. ],\n",
       "       [0.4, 0.6],\n",
       "       [1. , 0. ],\n",
       "       [0.4, 0.6],\n",
       "       [0.6, 0.4],\n",
       "       [0. , 1. ],\n",
       "       [0. , 1. ],\n",
       "       [0.6, 0.4],\n",
       "       [0.8, 0.2],\n",
       "       [0.6, 0.4],\n",
       "       [0.8, 0.2],\n",
       "       [0. , 1. ],\n",
       "       [0.6, 0.4],\n",
       "       [0.6, 0.4],\n",
       "       [0.8, 0.2],\n",
       "       [0.8, 0.2],\n",
       "       [0. , 1. ],\n",
       "       [0.6, 0.4],\n",
       "       [0.8, 0.2],\n",
       "       [0.8, 0.2],\n",
       "       [0.4, 0.6],\n",
       "       [0.4, 0.6],\n",
       "       [0. , 1. ],\n",
       "       [0.6, 0.4],\n",
       "       [0. , 1. ],\n",
       "       [0.6, 0.4],\n",
       "       [1. , 0. ],\n",
       "       [0.2, 0.8],\n",
       "       [0.2, 0.8],\n",
       "       [0.2, 0.8],\n",
       "       [0.8, 0.2],\n",
       "       [0. , 1. ],\n",
       "       [0. , 1. ],\n",
       "       [0.8, 0.2],\n",
       "       [0.4, 0.6],\n",
       "       [0. , 1. ],\n",
       "       [0.4, 0.6],\n",
       "       [0.2, 0.8],\n",
       "       [1. , 0. ],\n",
       "       [0.8, 0.2],\n",
       "       [0.2, 0.8],\n",
       "       [0.8, 0.2],\n",
       "       [0.4, 0.6],\n",
       "       [0.4, 0.6],\n",
       "       [0.8, 0.2],\n",
       "       [0.2, 0.8],\n",
       "       [0.4, 0.6],\n",
       "       [0. , 1. ],\n",
       "       [0. , 1. ],\n",
       "       [0. , 1. ],\n",
       "       [0.6, 0.4],\n",
       "       [0. , 1. ],\n",
       "       [0.2, 0.8],\n",
       "       [1. , 0. ],\n",
       "       [0.4, 0.6],\n",
       "       [0. , 1. ],\n",
       "       [0.8, 0.2],\n",
       "       [0.6, 0.4],\n",
       "       [0.8, 0.2],\n",
       "       [0. , 1. ],\n",
       "       [0.8, 0.2],\n",
       "       [0.4, 0.6],\n",
       "       [0.8, 0.2],\n",
       "       [0.8, 0.2],\n",
       "       [0.2, 0.8],\n",
       "       [0.8, 0.2],\n",
       "       [0. , 1. ],\n",
       "       [0.6, 0.4],\n",
       "       [0.8, 0.2],\n",
       "       [0.6, 0.4],\n",
       "       [0.8, 0.2],\n",
       "       [0.8, 0.2],\n",
       "       [0.4, 0.6],\n",
       "       [0.6, 0.4],\n",
       "       [0.2, 0.8],\n",
       "       [0.2, 0.8],\n",
       "       [0. , 1. ],\n",
       "       [0. , 1. ],\n",
       "       [0. , 1. ],\n",
       "       [0.4, 0.6],\n",
       "       [0.8, 0.2],\n",
       "       [0.6, 0.4],\n",
       "       [0.4, 0.6],\n",
       "       [0.4, 0.6],\n",
       "       [0.2, 0.8],\n",
       "       [0.2, 0.8],\n",
       "       [1. , 0. ],\n",
       "       [1. , 0. ],\n",
       "       [0.6, 0.4],\n",
       "       [0.6, 0.4],\n",
       "       [0.2, 0.8],\n",
       "       [0.8, 0.2],\n",
       "       [1. , 0. ],\n",
       "       [0. , 1. ],\n",
       "       [0.4, 0.6],\n",
       "       [0.6, 0.4],\n",
       "       [0.8, 0.2],\n",
       "       [0.4, 0.6],\n",
       "       [0. , 1. ],\n",
       "       [0.4, 0.6],\n",
       "       [0.4, 0.6],\n",
       "       [0. , 1. ],\n",
       "       [0.2, 0.8],\n",
       "       [0.6, 0.4],\n",
       "       [0.4, 0.6],\n",
       "       [0. , 1. ],\n",
       "       [0.4, 0.6],\n",
       "       [0. , 1. ],\n",
       "       [0. , 1. ],\n",
       "       [0.8, 0.2],\n",
       "       [0.2, 0.8],\n",
       "       [1. , 0. ],\n",
       "       [0.4, 0.6],\n",
       "       [0.8, 0.2],\n",
       "       [0. , 1. ],\n",
       "       [0.6, 0.4],\n",
       "       [0.6, 0.4],\n",
       "       [0.6, 0.4],\n",
       "       [0. , 1. ],\n",
       "       [0. , 1. ],\n",
       "       [0.8, 0.2],\n",
       "       [0.4, 0.6],\n",
       "       [0.4, 0.6],\n",
       "       [1. , 0. ],\n",
       "       [0.6, 0.4],\n",
       "       [0.2, 0.8],\n",
       "       [1. , 0. ],\n",
       "       [0.2, 0.8],\n",
       "       [0.4, 0.6],\n",
       "       [1. , 0. ],\n",
       "       [0.6, 0.4],\n",
       "       [0. , 1. ],\n",
       "       [1. , 0. ],\n",
       "       [0.4, 0.6],\n",
       "       [0.4, 0.6],\n",
       "       [0.6, 0.4],\n",
       "       [0.2, 0.8],\n",
       "       [0. , 1. ],\n",
       "       [0.2, 0.8],\n",
       "       [0.6, 0.4],\n",
       "       [0.4, 0.6],\n",
       "       [0.4, 0.6],\n",
       "       [0. , 1. ],\n",
       "       [0.2, 0.8],\n",
       "       [0. , 1. ],\n",
       "       [0.8, 0.2],\n",
       "       [0.2, 0.8],\n",
       "       [0.8, 0.2],\n",
       "       [0. , 1. ],\n",
       "       [0.2, 0.8],\n",
       "       [0.8, 0.2],\n",
       "       [0.4, 0.6],\n",
       "       [0.2, 0.8],\n",
       "       [0.6, 0.4],\n",
       "       [0.8, 0.2],\n",
       "       [0.6, 0.4],\n",
       "       [0. , 1. ],\n",
       "       [0.2, 0.8],\n",
       "       [0. , 1. ],\n",
       "       [0.4, 0.6],\n",
       "       [0.2, 0.8],\n",
       "       [0.4, 0.6],\n",
       "       [0.4, 0.6],\n",
       "       [0. , 1. ],\n",
       "       [0.4, 0.6],\n",
       "       [0.8, 0.2],\n",
       "       [0.4, 0.6],\n",
       "       [0. , 1. ],\n",
       "       [0.4, 0.6],\n",
       "       [0.4, 0.6],\n",
       "       [0. , 1. ],\n",
       "       [0.2, 0.8],\n",
       "       [0.2, 0.8],\n",
       "       [0.2, 0.8],\n",
       "       [0.6, 0.4],\n",
       "       [1. , 0. ],\n",
       "       [0.2, 0.8],\n",
       "       [0.2, 0.8],\n",
       "       [1. , 0. ],\n",
       "       [0. , 1. ],\n",
       "       [0.8, 0.2],\n",
       "       [0.2, 0.8],\n",
       "       [0.8, 0.2],\n",
       "       [0. , 1. ],\n",
       "       [0.6, 0.4],\n",
       "       [1. , 0. ],\n",
       "       [0. , 1. ],\n",
       "       [0.4, 0.6],\n",
       "       [1. , 0. ],\n",
       "       [1. , 0. ],\n",
       "       [0.2, 0.8],\n",
       "       [0. , 1. ],\n",
       "       [0.2, 0.8],\n",
       "       [0.4, 0.6],\n",
       "       [0.2, 0.8],\n",
       "       [0.8, 0.2],\n",
       "       [0.2, 0.8],\n",
       "       [0.2, 0.8],\n",
       "       [1. , 0. ],\n",
       "       [0.6, 0.4],\n",
       "       [0.6, 0.4],\n",
       "       [0.8, 0.2],\n",
       "       [0.2, 0.8],\n",
       "       [0.6, 0.4],\n",
       "       [1. , 0. ],\n",
       "       [0.2, 0.8],\n",
       "       [0. , 1. ],\n",
       "       [0. , 1. ]])"
      ]
     },
     "execution_count": 22,
     "metadata": {},
     "output_type": "execute_result"
    }
   ],
   "source": [
    "# Obter a previsões da probabilidade\n",
    "#Note que ele retorna  probabilidade da classe 0 e 1 respectivamente\n",
    "knc_previsoes_prob = knc.predict_proba(X_teste)\n",
    "knc_previsoes_prob"
   ]
  },
  {
   "cell_type": "markdown",
   "metadata": {},
   "source": [
    "### Matriz de Confusão "
   ]
  },
  {
   "cell_type": "code",
   "execution_count": 23,
   "metadata": {},
   "outputs": [
    {
     "data": {
      "image/png": "[encoded data removed]",
      "text/plain": [
       "<Figure size 576x396 with 2 Axes>"
      ]
     },
     "metadata": {},
     "output_type": "display_data"
    }
   ],
   "source": [
    "sns.heatmap(confusion_matrix(y_teste, knc_previsoes), cmap='OrRd', annot=True, fmt='2.0f')\n",
    "plt.title('Regressão Logística')\n",
    "plt.ylabel('P R E V I S T O')\n",
    "plt.xlabel('R E A L')\n",
    "plt.show()"
   ]
  },
  {
   "cell_type": "code",
   "execution_count": 24,
   "metadata": {},
   "outputs": [
    {
     "name": "stdout",
     "output_type": "stream",
     "text": [
      "Acurácia:0.73\n",
      "Precisão:0.7\n",
      "Recall ou Sensibilidade:0.8\n",
      "F1-Score:0.75\n",
      "Kappa:0.46\n",
      "Curva ROC:0.73\n"
     ]
    }
   ],
   "source": [
    "#Acurácia, Sensibilidade positiva (VP/(VP+FN),  Precisão, Recall, F1-Score\n",
    "acuracia = accuracy_score(y_teste,knc_previsoes)\n",
    "precisao = precision_score(y_teste,knc_previsoes)\n",
    "recall = recall_score(y_teste,knc_previsoes)\n",
    "f1Score = f1_score(y_teste,knc_previsoes)\n",
    "knc_curva_roc = roc_auc_score(y_teste,knc_previsoes)\n",
    "kappa = cohen_kappa_score(y_teste,knc_previsoes)\n",
    "print(f'Acurácia:{round(acuracia,2)}')\n",
    "print(f'Precisão:{round(precisao,2)}')\n",
    "print(f'Recall ou Sensibilidade:{round(recall,2)}')\n",
    "print(f'F1-Score:{round(f1Score,2)}')\n",
    "print(f'Kappa:{round(kappa,2)}')\n",
    "print(f'Curva ROC:{round(knc_curva_roc,2)}')"
   ]
  },
  {
   "cell_type": "code",
   "execution_count": 25,
   "metadata": {},
   "outputs": [
    {
     "name": "stdout",
     "output_type": "stream",
     "text": [
      "              precision    recall  f1-score   support\n",
      "\n",
      "           0       0.77      0.66      0.71       150\n",
      "           1       0.70      0.80      0.75       150\n",
      "\n",
      "    accuracy                           0.73       300\n",
      "   macro avg       0.73      0.73      0.73       300\n",
      "weighted avg       0.73      0.73      0.73       300\n",
      "\n"
     ]
    }
   ],
   "source": [
    "print(classification_report(y_teste, knc.predict(X_teste)))"
   ]
  },
  {
   "cell_type": "markdown",
   "metadata": {},
   "source": [
    "### Curva ROC "
   ]
  },
  {
   "cell_type": "code",
   "execution_count": 26,
   "metadata": {},
   "outputs": [
    {
     "data": {
      "image/png": "[encoded data removed]",
      "text/plain": [
       "<Figure size 576x396 with 1 Axes>"
      ]
     },
     "metadata": {},
     "output_type": "display_data"
    }
   ],
   "source": [
    "knc_fp,knc_vp,lim1 = roc_curve(y_teste,knc_previsoes)\n",
    "plt.plot(knc_fp,knc_vp, marker='.', label='KNN='+str(round(knc_curva_roc,2)),color=\"orange\")\n",
    "plt.plot([0, 1], [0, 1], color='black', linestyle='--')\n",
    "# alterando o nome dos eixos\n",
    "plt.xlabel('1- Especificidade')\n",
    "plt.ylabel('Sensibilidade')\n",
    "# Legenda\n",
    "plt.legend()\n",
    "# Mostrando o gráfico\n",
    "plt.show()\n",
    "#fig.savefig(\"images/mlpr_0305.png\")"
   ]
  },
  {
   "cell_type": "code",
   "execution_count": 27,
   "metadata": {},
   "outputs": [
    {
     "data": {
      "image/png": "[encoded data removed]",
      "text/plain": [
       "<Figure size 576x396 with 1 Axes>"
      ]
     },
     "metadata": {},
     "output_type": "display_data"
    }
   ],
   "source": [
    "#Aqui estamos pegando apenas da classe 1\n",
    "knc_probs = knc_previsoes_prob[:,1]\n",
    "knc_fp,knc_vp,lim1 = roc_curve(y_teste,knc_probs)\n",
    "plt.plot(knc_fp,knc_vp, marker='.', label='KNN',color=\"orange\")\n",
    "plt.plot([0, 1], [0, 1], color='black', linestyle='--')\n",
    "# alterando o nome dos eixos\n",
    "plt.xlabel('1- Especificidade')\n",
    "plt.ylabel('Sensibilidade')\n",
    "# Legenda\n",
    "plt.legend()\n",
    "# Mostrando o gráfico\n",
    "plt.show()\n",
    "#fig.savefig(\"images/mlpr_0305.png\")"
   ]
  },
  {
   "cell_type": "code",
   "execution_count": 28,
   "metadata": {},
   "outputs": [
    {
     "data": {
      "text/html": [
       "<div>\n",
       "<style scoped>\n",
       "    .dataframe tbody tr th:only-of-type {\n",
       "        vertical-align: middle;\n",
       "    }\n",
       "\n",
       "    .dataframe tbody tr th {\n",
       "        vertical-align: top;\n",
       "    }\n",
       "\n",
       "    .dataframe thead th {\n",
       "        text-align: right;\n",
       "    }\n",
       "</style>\n",
       "<table border=\"1\" class=\"dataframe\">\n",
       "  <thead>\n",
       "    <tr style=\"text-align: right;\">\n",
       "      <th></th>\n",
       "      <th>classe</th>\n",
       "      <th>idade</th>\n",
       "      <th>irmaos_conjuge</th>\n",
       "      <th>pais_filhos</th>\n",
       "      <th>tarifa</th>\n",
       "      <th>sexo_female</th>\n",
       "      <th>sexo_male</th>\n",
       "      <th>embarque_C</th>\n",
       "      <th>embarque_Q</th>\n",
       "      <th>embarque_S</th>\n",
       "    </tr>\n",
       "  </thead>\n",
       "  <tbody>\n",
       "    <tr>\n",
       "      <th>521</th>\n",
       "      <td>-1.425645</td>\n",
       "      <td>0.166535</td>\n",
       "      <td>-0.508134</td>\n",
       "      <td>-0.464067</td>\n",
       "      <td>0.008542</td>\n",
       "      <td>-0.854461</td>\n",
       "      <td>0.854461</td>\n",
       "      <td>-0.534179</td>\n",
       "      <td>-0.335182</td>\n",
       "      <td>0.690728</td>\n",
       "    </tr>\n",
       "    <tr>\n",
       "      <th>737</th>\n",
       "      <td>-0.258996</td>\n",
       "      <td>0.166535</td>\n",
       "      <td>-0.508134</td>\n",
       "      <td>-0.464067</td>\n",
       "      <td>-0.583824</td>\n",
       "      <td>-0.854461</td>\n",
       "      <td>0.854461</td>\n",
       "      <td>-0.534179</td>\n",
       "      <td>-0.335182</td>\n",
       "      <td>0.690728</td>\n",
       "    </tr>\n",
       "    <tr>\n",
       "      <th>740</th>\n",
       "      <td>-0.258996</td>\n",
       "      <td>0.166535</td>\n",
       "      <td>-0.508134</td>\n",
       "      <td>-0.464067</td>\n",
       "      <td>-0.583824</td>\n",
       "      <td>-0.854461</td>\n",
       "      <td>0.854461</td>\n",
       "      <td>-0.534179</td>\n",
       "      <td>-0.335182</td>\n",
       "      <td>0.690728</td>\n",
       "    </tr>\n",
       "    <tr>\n",
       "      <th>660</th>\n",
       "      <td>0.907653</td>\n",
       "      <td>0.166535</td>\n",
       "      <td>0.528874</td>\n",
       "      <td>-0.464067</td>\n",
       "      <td>-0.739081</td>\n",
       "      <td>-0.854461</td>\n",
       "      <td>0.854461</td>\n",
       "      <td>1.872032</td>\n",
       "      <td>-0.335182</td>\n",
       "      <td>-1.447748</td>\n",
       "    </tr>\n",
       "    <tr>\n",
       "      <th>411</th>\n",
       "      <td>0.907653</td>\n",
       "      <td>0.166535</td>\n",
       "      <td>-0.508134</td>\n",
       "      <td>-0.464067</td>\n",
       "      <td>1.174004</td>\n",
       "      <td>-0.854461</td>\n",
       "      <td>0.854461</td>\n",
       "      <td>-0.534179</td>\n",
       "      <td>-0.335182</td>\n",
       "      <td>0.690728</td>\n",
       "    </tr>\n",
       "    <tr>\n",
       "      <th>...</th>\n",
       "      <td>...</td>\n",
       "      <td>...</td>\n",
       "      <td>...</td>\n",
       "      <td>...</td>\n",
       "      <td>...</td>\n",
       "      <td>...</td>\n",
       "      <td>...</td>\n",
       "      <td>...</td>\n",
       "      <td>...</td>\n",
       "      <td>...</td>\n",
       "    </tr>\n",
       "    <tr>\n",
       "      <th>468</th>\n",
       "      <td>0.907653</td>\n",
       "      <td>0.166535</td>\n",
       "      <td>-0.508134</td>\n",
       "      <td>-0.464067</td>\n",
       "      <td>-0.677456</td>\n",
       "      <td>-0.854461</td>\n",
       "      <td>0.854461</td>\n",
       "      <td>-0.534179</td>\n",
       "      <td>-0.335182</td>\n",
       "      <td>0.690728</td>\n",
       "    </tr>\n",
       "    <tr>\n",
       "      <th>935</th>\n",
       "      <td>0.907653</td>\n",
       "      <td>0.166535</td>\n",
       "      <td>-0.508134</td>\n",
       "      <td>-0.464067</td>\n",
       "      <td>-0.683349</td>\n",
       "      <td>-0.854461</td>\n",
       "      <td>0.854461</td>\n",
       "      <td>-0.534179</td>\n",
       "      <td>-0.335182</td>\n",
       "      <td>0.690728</td>\n",
       "    </tr>\n",
       "    <tr>\n",
       "      <th>428</th>\n",
       "      <td>0.907653</td>\n",
       "      <td>0.166535</td>\n",
       "      <td>-0.508134</td>\n",
       "      <td>-0.464067</td>\n",
       "      <td>-0.683984</td>\n",
       "      <td>1.170328</td>\n",
       "      <td>-1.170328</td>\n",
       "      <td>-0.534179</td>\n",
       "      <td>2.983453</td>\n",
       "      <td>-1.447748</td>\n",
       "    </tr>\n",
       "    <tr>\n",
       "      <th>7</th>\n",
       "      <td>-1.425645</td>\n",
       "      <td>0.166535</td>\n",
       "      <td>-0.508134</td>\n",
       "      <td>-0.464067</td>\n",
       "      <td>2.028318</td>\n",
       "      <td>1.170328</td>\n",
       "      <td>-1.170328</td>\n",
       "      <td>-0.534179</td>\n",
       "      <td>-0.335182</td>\n",
       "      <td>0.690728</td>\n",
       "    </tr>\n",
       "    <tr>\n",
       "      <th>155</th>\n",
       "      <td>-1.425645</td>\n",
       "      <td>0.166535</td>\n",
       "      <td>1.565881</td>\n",
       "      <td>1.844725</td>\n",
       "      <td>-0.432706</td>\n",
       "      <td>1.170328</td>\n",
       "      <td>-1.170328</td>\n",
       "      <td>1.872032</td>\n",
       "      <td>-0.335182</td>\n",
       "      <td>-1.447748</td>\n",
       "    </tr>\n",
       "  </tbody>\n",
       "</table>\n",
       "<p>300 rows × 10 columns</p>\n",
       "</div>"
      ],
      "text/plain": [
       "       classe     idade  irmaos_conjuge  pais_filhos    tarifa  sexo_female  \\\n",
       "521 -1.425645  0.166535       -0.508134    -0.464067  0.008542    -0.854461   \n",
       "737 -0.258996  0.166535       -0.508134    -0.464067 -0.583824    -0.854461   \n",
       "740 -0.258996  0.166535       -0.508134    -0.464067 -0.583824    -0.854461   \n",
       "660  0.907653  0.166535        0.528874    -0.464067 -0.739081    -0.854461   \n",
       "411  0.907653  0.166535       -0.508134    -0.464067  1.174004    -0.854461   \n",
       "..        ...       ...             ...          ...       ...          ...   \n",
       "468  0.907653  0.166535       -0.508134    -0.464067 -0.677456    -0.854461   \n",
       "935  0.907653  0.166535       -0.508134    -0.464067 -0.683349    -0.854461   \n",
       "428  0.907653  0.166535       -0.508134    -0.464067 -0.683984     1.170328   \n",
       "7   -1.425645  0.166535       -0.508134    -0.464067  2.028318     1.170328   \n",
       "155 -1.425645  0.166535        1.565881     1.844725 -0.432706     1.170328   \n",
       "\n",
       "     sexo_male  embarque_C  embarque_Q  embarque_S  \n",
       "521   0.854461   -0.534179   -0.335182    0.690728  \n",
       "737   0.854461   -0.534179   -0.335182    0.690728  \n",
       "740   0.854461   -0.534179   -0.335182    0.690728  \n",
       "660   0.854461    1.872032   -0.335182   -1.447748  \n",
       "411   0.854461   -0.534179   -0.335182    0.690728  \n",
       "..         ...         ...         ...         ...  \n",
       "468   0.854461   -0.534179   -0.335182    0.690728  \n",
       "935   0.854461   -0.534179   -0.335182    0.690728  \n",
       "428  -1.170328   -0.534179    2.983453   -1.447748  \n",
       "7    -1.170328   -0.534179   -0.335182    0.690728  \n",
       "155  -1.170328    1.872032   -0.335182   -1.447748  \n",
       "\n",
       "[300 rows x 10 columns]"
      ]
     },
     "execution_count": 28,
     "metadata": {},
     "output_type": "execute_result"
    }
   ],
   "source": [
    "X_teste"
   ]
  },
  {
   "cell_type": "code",
   "execution_count": 29,
   "metadata": {},
   "outputs": [
    {
     "data": {
      "text/plain": [
       "array([1], dtype=int64)"
      ]
     },
     "execution_count": 29,
     "metadata": {},
     "output_type": "execute_result"
    }
   ],
   "source": [
    "knc_previsoes_1 = knc.predict(X_teste[:1])\n",
    "knc_previsoes_1"
   ]
  },
  {
   "cell_type": "code",
   "execution_count": 30,
   "metadata": {},
   "outputs": [
    {
     "data": {
      "text/plain": [
       "array([[0.4, 0.6]])"
      ]
     },
     "execution_count": 30,
     "metadata": {},
     "output_type": "execute_result"
    }
   ],
   "source": [
    "knc_previsoes_1 = knc.predict_proba(X_teste[:1])\n",
    "knc_previsoes_1"
   ]
  },
  {
   "cell_type": "markdown",
   "metadata": {},
   "source": [
    "## Decision Tree - Árvore de decisão\n",
    "Harrison, Matt. Machine Learning – Guia de Referência Rápida (p. 120). Novatec Editora. Edição do Kindle. \n",
    "\n",
    "* É como ir a um médico que faz uma série de perguntas a fim de determinar a causa de seus sintomas;\n",
    "* Podemos usar um processo para criar uma árvore de decisão e ter uma série de perguntas para prever uma classe alvo;\n",
    "* As vantagens desse modelo incluem suporte para dados não numéricos (em algumas implementações);\n",
    "* Pouca preparação dos dados (não há necessidade de escalar); \n",
    "* Suporte para lidar com relacionamentos não lineares;\n",
    "* A importância dos atributos é revelada e é fácil de explicar;\n",
    "\n",
    "Algumas propriedades de uma árvore de decisão:\n",
    "* Eficiência na execução:\n",
    "  * Para a criação, percorre cada um dos m atributos e ordena todas as n amostras, O(mn log n); \n",
    "  * Para predição, você percorrerá a árvore, O(altura);\n",
    "* Pré-processamento dos dados:\n",
    "  * Não é necessário escalar. É preciso se livrar dos valores ausentes e convertê-los em dados numéricos;\n",
    "* Para evitar uma superadequação: \n",
    "  * Defina max_depth com um número menor e aumente min_impurity_decrease;\n",
    "* Interpretação dos resultados:\n",
    "  * É possível percorrer a árvore de opções;\n",
    "  * Por haver passos, uma árvore é ruim para lidar com relacionamentos lineares (uma pequena mudança em um número pode \n",
    "    levar a um caminho diferente). \n",
    "  * A árvore também é extremamente dependente dos dados de treinamento; \n",
    "  * Uma pequena mudança pode modificar a árvore toda."
   ]
  },
  {
   "cell_type": "markdown",
   "metadata": {},
   "source": [
    "<img src=\"arvores_decisao.png\" width=\"400px\" align=\"left\"><br>"
   ]
  },
  {
   "cell_type": "code",
   "execution_count": 31,
   "metadata": {},
   "outputs": [],
   "source": [
    "from sklearn.tree import DecisionTreeClassifier"
   ]
  },
  {
   "cell_type": "code",
   "execution_count": 32,
   "metadata": {},
   "outputs": [],
   "source": [
    "#Importar\n",
    "from sklearn.naive_bayes import GaussianNB"
   ]
  },
  {
   "cell_type": "code",
   "execution_count": 33,
   "metadata": {},
   "outputs": [],
   "source": [
    "#Vamos instanciar\n",
    "#O padrão do max_depth é 0\n",
    "dt = DecisionTreeClassifier(random_state=42, max_depth=3)"
   ]
  },
  {
   "cell_type": "code",
   "execution_count": 34,
   "metadata": {},
   "outputs": [
    {
     "data": {
      "text/html": [
       "<style>#sk-container-id-3 {color: black;background-color: white;}#sk-container-id-3 pre{padding: 0;}#sk-container-id-3 div.sk-toggleable {background-color: white;}#sk-container-id-3 label.sk-toggleable__label {cursor: pointer;display: block;width: 100%;margin-bottom: 0;padding: 0.3em;box-sizing: border-box;text-align: center;}#sk-container-id-3 label.sk-toggleable__label-arrow:before {content: \"▸\";float: left;margin-right: 0.25em;color: #696969;}#sk-container-id-3 label.sk-toggleable__label-arrow:hover:before {color: black;}#sk-container-id-3 div.sk-estimator:hover label.sk-toggleable__label-arrow:before {color: black;}#sk-container-id-3 div.sk-toggleable__content {max-height: 0;max-width: 0;overflow: hidden;text-align: left;background-color: #f0f8ff;}#sk-container-id-3 div.sk-toggleable__content pre {margin: 0.2em;color: black;border-radius: 0.25em;background-color: #f0f8ff;}#sk-container-id-3 input.sk-toggleable__control:checked~div.sk-toggleable__content {max-height: 200px;max-width: 100%;overflow: auto;}#sk-container-id-3 input.sk-toggleable__control:checked~label.sk-toggleable__label-arrow:before {content: \"▾\";}#sk-container-id-3 div.sk-estimator input.sk-toggleable__control:checked~label.sk-toggleable__label {background-color: #d4ebff;}#sk-container-id-3 div.sk-label input.sk-toggleable__control:checked~label.sk-toggleable__label {background-color: #d4ebff;}#sk-container-id-3 input.sk-hidden--visually {border: 0;clip: rect(1px 1px 1px 1px);clip: rect(1px, 1px, 1px, 1px);height: 1px;margin: -1px;overflow: hidden;padding: 0;position: absolute;width: 1px;}#sk-container-id-3 div.sk-estimator {font-family: monospace;background-color: #f0f8ff;border: 1px dotted black;border-radius: 0.25em;box-sizing: border-box;margin-bottom: 0.5em;}#sk-container-id-3 div.sk-estimator:hover {background-color: #d4ebff;}#sk-container-id-3 div.sk-parallel-item::after {content: \"\";width: 100%;border-bottom: 1px solid gray;flex-grow: 1;}#sk-container-id-3 div.sk-label:hover label.sk-toggleable__label {background-color: #d4ebff;}#sk-container-id-3 div.sk-serial::before {content: \"\";position: absolute;border-left: 1px solid gray;box-sizing: border-box;top: 0;bottom: 0;left: 50%;z-index: 0;}#sk-container-id-3 div.sk-serial {display: flex;flex-direction: column;align-items: center;background-color: white;padding-right: 0.2em;padding-left: 0.2em;position: relative;}#sk-container-id-3 div.sk-item {position: relative;z-index: 1;}#sk-container-id-3 div.sk-parallel {display: flex;align-items: stretch;justify-content: center;background-color: white;position: relative;}#sk-container-id-3 div.sk-item::before, #sk-container-id-3 div.sk-parallel-item::before {content: \"\";position: absolute;border-left: 1px solid gray;box-sizing: border-box;top: 0;bottom: 0;left: 50%;z-index: -1;}#sk-container-id-3 div.sk-parallel-item {display: flex;flex-direction: column;z-index: 1;position: relative;background-color: white;}#sk-container-id-3 div.sk-parallel-item:first-child::after {align-self: flex-end;width: 50%;}#sk-container-id-3 div.sk-parallel-item:last-child::after {align-self: flex-start;width: 50%;}#sk-container-id-3 div.sk-parallel-item:only-child::after {width: 0;}#sk-container-id-3 div.sk-dashed-wrapped {border: 1px dashed gray;margin: 0 0.4em 0.5em 0.4em;box-sizing: border-box;padding-bottom: 0.4em;background-color: white;}#sk-container-id-3 div.sk-label label {font-family: monospace;font-weight: bold;display: inline-block;line-height: 1.2em;}#sk-container-id-3 div.sk-label-container {text-align: center;}#sk-container-id-3 div.sk-container {/* jupyter's `normalize.less` sets `[hidden] { display: none; }` but bootstrap.min.css set `[hidden] { display: none !important; }` so we also need the `!important` here to be able to override the default hidden behavior on the sphinx rendered scikit-learn.org. See: https://github.com/scikit-learn/scikit-learn/issues/21755 */display: inline-block !important;position: relative;}#sk-container-id-3 div.sk-text-repr-fallback {display: none;}</style><div id=\"sk-container-id-3\" class=\"sk-top-container\"><div class=\"sk-text-repr-fallback\"><pre>DecisionTreeClassifier(max_depth=3, random_state=42)</pre><b>In a Jupyter environment, please rerun this cell to show the HTML representation or trust the notebook. <br />On GitHub, the HTML representation is unable to render, please try loading this page with nbviewer.org.</b></div><div class=\"sk-container\" hidden><div class=\"sk-item\"><div class=\"sk-estimator sk-toggleable\"><input class=\"sk-toggleable__control sk-hidden--visually\" id=\"sk-estimator-id-3\" type=\"checkbox\" checked><label for=\"sk-estimator-id-3\" class=\"sk-toggleable__label sk-toggleable__label-arrow\">DecisionTreeClassifier</label><div class=\"sk-toggleable__content\"><pre>DecisionTreeClassifier(max_depth=3, random_state=42)</pre></div></div></div></div></div>"
      ],
      "text/plain": [
       "DecisionTreeClassifier(max_depth=3, random_state=42)"
      ]
     },
     "execution_count": 34,
     "metadata": {},
     "output_type": "execute_result"
    }
   ],
   "source": [
    "#Treinar\n",
    "dt.fit(X_treino, y_treino) "
   ]
  },
  {
   "cell_type": "code",
   "execution_count": 35,
   "metadata": {},
   "outputs": [
    {
     "data": {
      "text/plain": [
       "0.7966666666666666"
      ]
     },
     "execution_count": 35,
     "metadata": {},
     "output_type": "execute_result"
    }
   ],
   "source": [
    "dt.score(X_teste, y_teste)"
   ]
  },
  {
   "cell_type": "code",
   "execution_count": 36,
   "metadata": {},
   "outputs": [],
   "source": [
    "#min_impurity_split=None foi implementado até a versão 0.23.2 \n",
    "#presort foi descontinuado foi implementado até a versão 0.23.2 \n",
    "dt = DecisionTreeClassifier(class_weight=None, criterion='gini', max_depth=3, max_features=None, \n",
    "                            max_leaf_nodes=None, min_impurity_decrease=0.0, \n",
    "                            min_samples_leaf=1, min_samples_split=2, min_weight_fraction_leaf=0.0, \n",
    "                            random_state=42, splitter='best')\n",
    "#Obs: Não quer dizer que quanto maio  a profundidade (max_depth) você terá um maior desempenho"
   ]
  },
  {
   "cell_type": "code",
   "execution_count": 37,
   "metadata": {},
   "outputs": [
    {
     "data": {
      "text/html": [
       "<style>#sk-container-id-4 {color: black;background-color: white;}#sk-container-id-4 pre{padding: 0;}#sk-container-id-4 div.sk-toggleable {background-color: white;}#sk-container-id-4 label.sk-toggleable__label {cursor: pointer;display: block;width: 100%;margin-bottom: 0;padding: 0.3em;box-sizing: border-box;text-align: center;}#sk-container-id-4 label.sk-toggleable__label-arrow:before {content: \"▸\";float: left;margin-right: 0.25em;color: #696969;}#sk-container-id-4 label.sk-toggleable__label-arrow:hover:before {color: black;}#sk-container-id-4 div.sk-estimator:hover label.sk-toggleable__label-arrow:before {color: black;}#sk-container-id-4 div.sk-toggleable__content {max-height: 0;max-width: 0;overflow: hidden;text-align: left;background-color: #f0f8ff;}#sk-container-id-4 div.sk-toggleable__content pre {margin: 0.2em;color: black;border-radius: 0.25em;background-color: #f0f8ff;}#sk-container-id-4 input.sk-toggleable__control:checked~div.sk-toggleable__content {max-height: 200px;max-width: 100%;overflow: auto;}#sk-container-id-4 input.sk-toggleable__control:checked~label.sk-toggleable__label-arrow:before {content: \"▾\";}#sk-container-id-4 div.sk-estimator input.sk-toggleable__control:checked~label.sk-toggleable__label {background-color: #d4ebff;}#sk-container-id-4 div.sk-label input.sk-toggleable__control:checked~label.sk-toggleable__label {background-color: #d4ebff;}#sk-container-id-4 input.sk-hidden--visually {border: 0;clip: rect(1px 1px 1px 1px);clip: rect(1px, 1px, 1px, 1px);height: 1px;margin: -1px;overflow: hidden;padding: 0;position: absolute;width: 1px;}#sk-container-id-4 div.sk-estimator {font-family: monospace;background-color: #f0f8ff;border: 1px dotted black;border-radius: 0.25em;box-sizing: border-box;margin-bottom: 0.5em;}#sk-container-id-4 div.sk-estimator:hover {background-color: #d4ebff;}#sk-container-id-4 div.sk-parallel-item::after {content: \"\";width: 100%;border-bottom: 1px solid gray;flex-grow: 1;}#sk-container-id-4 div.sk-label:hover label.sk-toggleable__label {background-color: #d4ebff;}#sk-container-id-4 div.sk-serial::before {content: \"\";position: absolute;border-left: 1px solid gray;box-sizing: border-box;top: 0;bottom: 0;left: 50%;z-index: 0;}#sk-container-id-4 div.sk-serial {display: flex;flex-direction: column;align-items: center;background-color: white;padding-right: 0.2em;padding-left: 0.2em;position: relative;}#sk-container-id-4 div.sk-item {position: relative;z-index: 1;}#sk-container-id-4 div.sk-parallel {display: flex;align-items: stretch;justify-content: center;background-color: white;position: relative;}#sk-container-id-4 div.sk-item::before, #sk-container-id-4 div.sk-parallel-item::before {content: \"\";position: absolute;border-left: 1px solid gray;box-sizing: border-box;top: 0;bottom: 0;left: 50%;z-index: -1;}#sk-container-id-4 div.sk-parallel-item {display: flex;flex-direction: column;z-index: 1;position: relative;background-color: white;}#sk-container-id-4 div.sk-parallel-item:first-child::after {align-self: flex-end;width: 50%;}#sk-container-id-4 div.sk-parallel-item:last-child::after {align-self: flex-start;width: 50%;}#sk-container-id-4 div.sk-parallel-item:only-child::after {width: 0;}#sk-container-id-4 div.sk-dashed-wrapped {border: 1px dashed gray;margin: 0 0.4em 0.5em 0.4em;box-sizing: border-box;padding-bottom: 0.4em;background-color: white;}#sk-container-id-4 div.sk-label label {font-family: monospace;font-weight: bold;display: inline-block;line-height: 1.2em;}#sk-container-id-4 div.sk-label-container {text-align: center;}#sk-container-id-4 div.sk-container {/* jupyter's `normalize.less` sets `[hidden] { display: none; }` but bootstrap.min.css set `[hidden] { display: none !important; }` so we also need the `!important` here to be able to override the default hidden behavior on the sphinx rendered scikit-learn.org. See: https://github.com/scikit-learn/scikit-learn/issues/21755 */display: inline-block !important;position: relative;}#sk-container-id-4 div.sk-text-repr-fallback {display: none;}</style><div id=\"sk-container-id-4\" class=\"sk-top-container\"><div class=\"sk-text-repr-fallback\"><pre>DecisionTreeClassifier(max_depth=3, random_state=42)</pre><b>In a Jupyter environment, please rerun this cell to show the HTML representation or trust the notebook. <br />On GitHub, the HTML representation is unable to render, please try loading this page with nbviewer.org.</b></div><div class=\"sk-container\" hidden><div class=\"sk-item\"><div class=\"sk-estimator sk-toggleable\"><input class=\"sk-toggleable__control sk-hidden--visually\" id=\"sk-estimator-id-4\" type=\"checkbox\" checked><label for=\"sk-estimator-id-4\" class=\"sk-toggleable__label sk-toggleable__label-arrow\">DecisionTreeClassifier</label><div class=\"sk-toggleable__content\"><pre>DecisionTreeClassifier(max_depth=3, random_state=42)</pre></div></div></div></div></div>"
      ],
      "text/plain": [
       "DecisionTreeClassifier(max_depth=3, random_state=42)"
      ]
     },
     "execution_count": 37,
     "metadata": {},
     "output_type": "execute_result"
    }
   ],
   "source": [
    "#Treinar\n",
    "dt.fit(X_treino, y_treino) "
   ]
  },
  {
   "cell_type": "code",
   "execution_count": 38,
   "metadata": {},
   "outputs": [
    {
     "data": {
      "text/plain": [
       "0.7966666666666666"
      ]
     },
     "execution_count": 38,
     "metadata": {},
     "output_type": "execute_result"
    }
   ],
   "source": [
    "dt.score(X_teste, y_teste)"
   ]
  },
  {
   "cell_type": "markdown",
   "metadata": {},
   "source": [
    "### Cross Validation. ou Validação Cruzada é uma técnica para avaliar a capacidade de generalização de um modelo,  a partir de um conjunto de dados."
   ]
  },
  {
   "cell_type": "code",
   "execution_count": 39,
   "metadata": {},
   "outputs": [
    {
     "name": "stdout",
     "output_type": "stream",
     "text": [
      "Scores = [0.8  0.79 0.75 0.77 0.85 0.72 0.75 0.69 0.67 0.76]\n",
      "Média dos Scores = 0.755\n"
     ]
    }
   ],
   "source": [
    "cv_scores = cross_val_score(dt,X,y, cv=10, scoring='accuracy')\n",
    "print(f'Scores = {cv_scores}')\n",
    "print(f'Média dos Scores = {cv_scores.mean()}')"
   ]
  },
  {
   "cell_type": "code",
   "execution_count": 40,
   "metadata": {},
   "outputs": [
    {
     "data": {
      "text/plain": [
       "array([0, 0, 0, 0, 0, 0, 0, 1, 1, 1, 1, 1, 0, 0, 0, 0, 1, 0, 1, 1, 0, 1,\n",
       "       0, 0, 1, 1, 0, 0, 0, 0, 1, 1, 0, 1, 1, 0, 0, 1, 0, 0, 1, 0, 1, 0,\n",
       "       1, 0, 0, 0, 1, 0, 0, 0, 1, 0, 1, 0, 0, 1, 1, 0, 1, 1, 0, 0, 0, 0,\n",
       "       0, 0, 1, 0, 1, 1, 0, 0, 1, 1, 0, 1, 0, 1, 0, 1, 0, 0, 1, 0, 0, 0,\n",
       "       0, 1, 1, 1, 1, 0, 0, 0, 0, 1, 1, 0, 0, 0, 0, 1, 0, 0, 0, 0, 1, 0,\n",
       "       0, 0, 1, 0, 1, 0, 1, 0, 0, 1, 1, 1, 1, 1, 1, 0, 0, 1, 0, 1, 0, 0,\n",
       "       1, 0, 0, 0, 0, 1, 0, 1, 1, 1, 0, 1, 1, 0, 0, 1, 0, 0, 0, 1, 0, 1,\n",
       "       0, 0, 1, 0, 1, 0, 0, 0, 0, 0, 0, 0, 1, 0, 1, 1, 1, 1, 0, 0, 0, 1,\n",
       "       1, 1, 0, 0, 1, 0, 1, 0, 0, 1, 1, 0, 0, 0, 1, 1, 1, 1, 1, 0, 0, 1,\n",
       "       0, 1, 1, 0, 0, 0, 0, 0, 1, 0, 1, 0, 1, 1, 0, 0, 0, 0, 0, 1, 0, 1,\n",
       "       1, 0, 0, 1, 0, 0, 0, 0, 1, 1, 1, 0, 1, 0, 1, 1, 1, 0, 1, 0, 1, 1,\n",
       "       0, 0, 1, 0, 0, 1, 1, 1, 1, 1, 1, 0, 0, 1, 0, 0, 0, 1, 0, 0, 1, 1,\n",
       "       1, 1, 0, 0, 1, 0, 0, 1, 0, 1, 0, 1, 0, 0, 1, 0, 0, 0, 1, 1, 1, 0,\n",
       "       1, 0, 1, 0, 0, 0, 0, 0, 1, 0, 0, 1, 1, 1], dtype=int64)"
      ]
     },
     "execution_count": 40,
     "metadata": {},
     "output_type": "execute_result"
    }
   ],
   "source": [
    "#Obter a previsões\n",
    "dt_previsoes = dt.predict(X_teste)\n",
    "dt_previsoes"
   ]
  },
  {
   "cell_type": "code",
   "execution_count": 41,
   "metadata": {},
   "outputs": [
    {
     "data": {
      "text/plain": [
       "array([[0.56842105, 0.43157895],\n",
       "       [0.78114478, 0.21885522],\n",
       "       [0.78114478, 0.21885522],\n",
       "       [0.78114478, 0.21885522],\n",
       "       [0.78114478, 0.21885522],\n",
       "       [0.78114478, 0.21885522],\n",
       "       [0.56842105, 0.43157895],\n",
       "       [0.30973451, 0.69026549],\n",
       "       [0.30973451, 0.69026549],\n",
       "       [0.04794521, 0.95205479],\n",
       "       [0.30973451, 0.69026549],\n",
       "       [0.04794521, 0.95205479],\n",
       "       [0.78114478, 0.21885522],\n",
       "       [0.78114478, 0.21885522],\n",
       "       [0.78114478, 0.21885522],\n",
       "       [0.78114478, 0.21885522],\n",
       "       [0.04794521, 0.95205479],\n",
       "       [0.78114478, 0.21885522],\n",
       "       [0.30973451, 0.69026549],\n",
       "       [0.30973451, 0.69026549],\n",
       "       [0.78114478, 0.21885522],\n",
       "       [0.04794521, 0.95205479],\n",
       "       [0.78114478, 0.21885522],\n",
       "       [0.78114478, 0.21885522],\n",
       "       [0.27777778, 0.72222222],\n",
       "       [0.04794521, 0.95205479],\n",
       "       [0.56842105, 0.43157895],\n",
       "       [0.78114478, 0.21885522],\n",
       "       [0.78114478, 0.21885522],\n",
       "       [0.78114478, 0.21885522],\n",
       "       [0.30973451, 0.69026549],\n",
       "       [0.04794521, 0.95205479],\n",
       "       [0.78114478, 0.21885522],\n",
       "       [0.30973451, 0.69026549],\n",
       "       [0.30973451, 0.69026549],\n",
       "       [0.56842105, 0.43157895],\n",
       "       [0.78114478, 0.21885522],\n",
       "       [0.22222222, 0.77777778],\n",
       "       [0.78114478, 0.21885522],\n",
       "       [0.56842105, 0.43157895],\n",
       "       [0.30973451, 0.69026549],\n",
       "       [0.56842105, 0.43157895],\n",
       "       [0.04794521, 0.95205479],\n",
       "       [0.56842105, 0.43157895],\n",
       "       [0.27777778, 0.72222222],\n",
       "       [0.78114478, 0.21885522],\n",
       "       [0.78114478, 0.21885522],\n",
       "       [0.56842105, 0.43157895],\n",
       "       [0.30973451, 0.69026549],\n",
       "       [0.78114478, 0.21885522],\n",
       "       [0.78114478, 0.21885522],\n",
       "       [0.78114478, 0.21885522],\n",
       "       [0.04794521, 0.95205479],\n",
       "       [0.78114478, 0.21885522],\n",
       "       [0.04794521, 0.95205479],\n",
       "       [0.56842105, 0.43157895],\n",
       "       [0.56842105, 0.43157895],\n",
       "       [0.04794521, 0.95205479],\n",
       "       [0.04794521, 0.95205479],\n",
       "       [1.        , 0.        ],\n",
       "       [0.27777778, 0.72222222],\n",
       "       [0.04794521, 0.95205479],\n",
       "       [0.78114478, 0.21885522],\n",
       "       [0.78114478, 0.21885522],\n",
       "       [0.78114478, 0.21885522],\n",
       "       [0.78114478, 0.21885522],\n",
       "       [0.78114478, 0.21885522],\n",
       "       [0.78114478, 0.21885522],\n",
       "       [0.04794521, 0.95205479],\n",
       "       [0.78114478, 0.21885522],\n",
       "       [0.04794521, 0.95205479],\n",
       "       [0.30973451, 0.69026549],\n",
       "       [0.78114478, 0.21885522],\n",
       "       [0.78114478, 0.21885522],\n",
       "       [0.04794521, 0.95205479],\n",
       "       [0.27777778, 0.72222222],\n",
       "       [0.78114478, 0.21885522],\n",
       "       [0.04794521, 0.95205479],\n",
       "       [0.78114478, 0.21885522],\n",
       "       [0.04794521, 0.95205479],\n",
       "       [0.78114478, 0.21885522],\n",
       "       [0.04794521, 0.95205479],\n",
       "       [0.78114478, 0.21885522],\n",
       "       [0.56842105, 0.43157895],\n",
       "       [0.04794521, 0.95205479],\n",
       "       [0.78114478, 0.21885522],\n",
       "       [0.78114478, 0.21885522],\n",
       "       [0.78114478, 0.21885522],\n",
       "       [0.78114478, 0.21885522],\n",
       "       [0.30973451, 0.69026549],\n",
       "       [0.30973451, 0.69026549],\n",
       "       [0.30973451, 0.69026549],\n",
       "       [0.30973451, 0.69026549],\n",
       "       [0.78114478, 0.21885522],\n",
       "       [0.78114478, 0.21885522],\n",
       "       [0.78114478, 0.21885522],\n",
       "       [0.78114478, 0.21885522],\n",
       "       [0.04794521, 0.95205479],\n",
       "       [0.04794521, 0.95205479],\n",
       "       [0.78114478, 0.21885522],\n",
       "       [0.78114478, 0.21885522],\n",
       "       [0.78114478, 0.21885522],\n",
       "       [0.78114478, 0.21885522],\n",
       "       [0.04794521, 0.95205479],\n",
       "       [0.78114478, 0.21885522],\n",
       "       [0.78114478, 0.21885522],\n",
       "       [0.78114478, 0.21885522],\n",
       "       [0.78114478, 0.21885522],\n",
       "       [0.04794521, 0.95205479],\n",
       "       [0.78114478, 0.21885522],\n",
       "       [0.78114478, 0.21885522],\n",
       "       [0.78114478, 0.21885522],\n",
       "       [0.30973451, 0.69026549],\n",
       "       [0.78114478, 0.21885522],\n",
       "       [0.04794521, 0.95205479],\n",
       "       [0.78114478, 0.21885522],\n",
       "       [0.04794521, 0.95205479],\n",
       "       [0.78114478, 0.21885522],\n",
       "       [1.        , 0.        ],\n",
       "       [0.27777778, 0.72222222],\n",
       "       [0.04794521, 0.95205479],\n",
       "       [0.30973451, 0.69026549],\n",
       "       [0.30973451, 0.69026549],\n",
       "       [0.04794521, 0.95205479],\n",
       "       [0.04794521, 0.95205479],\n",
       "       [0.78114478, 0.21885522],\n",
       "       [0.56842105, 0.43157895],\n",
       "       [0.30973451, 0.69026549],\n",
       "       [0.78114478, 0.21885522],\n",
       "       [0.30973451, 0.69026549],\n",
       "       [0.78114478, 0.21885522],\n",
       "       [1.        , 0.        ],\n",
       "       [0.27777778, 0.72222222],\n",
       "       [0.78114478, 0.21885522],\n",
       "       [0.56842105, 0.43157895],\n",
       "       [0.56842105, 0.43157895],\n",
       "       [0.56842105, 0.43157895],\n",
       "       [0.27777778, 0.72222222],\n",
       "       [0.56842105, 0.43157895],\n",
       "       [0.04794521, 0.95205479],\n",
       "       [0.04794521, 0.95205479],\n",
       "       [0.04794521, 0.95205479],\n",
       "       [0.78114478, 0.21885522],\n",
       "       [0.04794521, 0.95205479],\n",
       "       [0.30973451, 0.69026549],\n",
       "       [0.78114478, 0.21885522],\n",
       "       [0.56842105, 0.43157895],\n",
       "       [0.04794521, 0.95205479],\n",
       "       [0.78114478, 0.21885522],\n",
       "       [0.78114478, 0.21885522],\n",
       "       [0.78114478, 0.21885522],\n",
       "       [0.04794521, 0.95205479],\n",
       "       [0.78114478, 0.21885522],\n",
       "       [0.30973451, 0.69026549],\n",
       "       [0.78114478, 0.21885522],\n",
       "       [0.78114478, 0.21885522],\n",
       "       [0.04794521, 0.95205479],\n",
       "       [0.78114478, 0.21885522],\n",
       "       [0.04794521, 0.95205479],\n",
       "       [0.56842105, 0.43157895],\n",
       "       [0.78114478, 0.21885522],\n",
       "       [0.78114478, 0.21885522],\n",
       "       [0.78114478, 0.21885522],\n",
       "       [0.78114478, 0.21885522],\n",
       "       [0.56842105, 0.43157895],\n",
       "       [0.56842105, 0.43157895],\n",
       "       [0.27777778, 0.72222222],\n",
       "       [0.56842105, 0.43157895],\n",
       "       [0.04794521, 0.95205479],\n",
       "       [0.22222222, 0.77777778],\n",
       "       [0.22222222, 0.77777778],\n",
       "       [0.30973451, 0.69026549],\n",
       "       [0.56842105, 0.43157895],\n",
       "       [0.78114478, 0.21885522],\n",
       "       [0.78114478, 0.21885522],\n",
       "       [0.30973451, 0.69026549],\n",
       "       [0.27777778, 0.72222222],\n",
       "       [0.04794521, 0.95205479],\n",
       "       [0.78114478, 0.21885522],\n",
       "       [0.78114478, 0.21885522],\n",
       "       [0.30973451, 0.69026549],\n",
       "       [0.78114478, 0.21885522],\n",
       "       [0.30973451, 0.69026549],\n",
       "       [0.78114478, 0.21885522],\n",
       "       [0.78114478, 0.21885522],\n",
       "       [0.04794521, 0.95205479],\n",
       "       [0.30973451, 0.69026549],\n",
       "       [0.78114478, 0.21885522],\n",
       "       [0.78114478, 0.21885522],\n",
       "       [0.78114478, 0.21885522],\n",
       "       [0.22222222, 0.77777778],\n",
       "       [0.30973451, 0.69026549],\n",
       "       [0.30973451, 0.69026549],\n",
       "       [0.04794521, 0.95205479],\n",
       "       [0.04794521, 0.95205479],\n",
       "       [0.78114478, 0.21885522],\n",
       "       [0.78114478, 0.21885522],\n",
       "       [0.04794521, 0.95205479],\n",
       "       [0.78114478, 0.21885522],\n",
       "       [0.04794521, 0.95205479],\n",
       "       [0.04794521, 0.95205479],\n",
       "       [0.56842105, 0.43157895],\n",
       "       [0.78114478, 0.21885522],\n",
       "       [0.56842105, 0.43157895],\n",
       "       [0.78114478, 0.21885522],\n",
       "       [0.78114478, 0.21885522],\n",
       "       [0.04794521, 0.95205479],\n",
       "       [0.78114478, 0.21885522],\n",
       "       [0.30973451, 0.69026549],\n",
       "       [0.78114478, 0.21885522],\n",
       "       [0.04794521, 0.95205479],\n",
       "       [0.04794521, 0.95205479],\n",
       "       [0.78114478, 0.21885522],\n",
       "       [0.56842105, 0.43157895],\n",
       "       [0.78114478, 0.21885522],\n",
       "       [1.        , 0.        ],\n",
       "       [0.78114478, 0.21885522],\n",
       "       [0.04794521, 0.95205479],\n",
       "       [0.78114478, 0.21885522],\n",
       "       [0.30973451, 0.69026549],\n",
       "       [0.04794521, 0.95205479],\n",
       "       [0.78114478, 0.21885522],\n",
       "       [0.78114478, 0.21885522],\n",
       "       [0.04794521, 0.95205479],\n",
       "       [0.78114478, 0.21885522],\n",
       "       [0.56842105, 0.43157895],\n",
       "       [0.78114478, 0.21885522],\n",
       "       [0.78114478, 0.21885522],\n",
       "       [0.30973451, 0.69026549],\n",
       "       [0.30973451, 0.69026549],\n",
       "       [0.30973451, 0.69026549],\n",
       "       [0.78114478, 0.21885522],\n",
       "       [0.30973451, 0.69026549],\n",
       "       [0.56842105, 0.43157895],\n",
       "       [0.04794521, 0.95205479],\n",
       "       [0.04794521, 0.95205479],\n",
       "       [0.04794521, 0.95205479],\n",
       "       [0.78114478, 0.21885522],\n",
       "       [0.04794521, 0.95205479],\n",
       "       [1.        , 0.        ],\n",
       "       [0.04794521, 0.95205479],\n",
       "       [0.04794521, 0.95205479],\n",
       "       [0.78114478, 0.21885522],\n",
       "       [0.56842105, 0.43157895],\n",
       "       [0.04794521, 0.95205479],\n",
       "       [0.56842105, 0.43157895],\n",
       "       [0.78114478, 0.21885522],\n",
       "       [0.04794521, 0.95205479],\n",
       "       [0.04794521, 0.95205479],\n",
       "       [0.04794521, 0.95205479],\n",
       "       [0.04794521, 0.95205479],\n",
       "       [0.30973451, 0.69026549],\n",
       "       [0.30973451, 0.69026549],\n",
       "       [0.78114478, 0.21885522],\n",
       "       [0.78114478, 0.21885522],\n",
       "       [0.30973451, 0.69026549],\n",
       "       [0.78114478, 0.21885522],\n",
       "       [0.78114478, 0.21885522],\n",
       "       [0.78114478, 0.21885522],\n",
       "       [0.04794521, 0.95205479],\n",
       "       [0.56842105, 0.43157895],\n",
       "       [0.78114478, 0.21885522],\n",
       "       [0.04794521, 0.95205479],\n",
       "       [0.04794521, 0.95205479],\n",
       "       [0.30973451, 0.69026549],\n",
       "       [0.04794521, 0.95205479],\n",
       "       [0.56842105, 0.43157895],\n",
       "       [0.78114478, 0.21885522],\n",
       "       [0.30973451, 0.69026549],\n",
       "       [0.78114478, 0.21885522],\n",
       "       [0.78114478, 0.21885522],\n",
       "       [0.04794521, 0.95205479],\n",
       "       [0.78114478, 0.21885522],\n",
       "       [0.04794521, 0.95205479],\n",
       "       [0.78114478, 0.21885522],\n",
       "       [0.04794521, 0.95205479],\n",
       "       [0.56842105, 0.43157895],\n",
       "       [0.78114478, 0.21885522],\n",
       "       [0.04794521, 0.95205479],\n",
       "       [0.78114478, 0.21885522],\n",
       "       [0.78114478, 0.21885522],\n",
       "       [0.78114478, 0.21885522],\n",
       "       [0.27777778, 0.72222222],\n",
       "       [0.22222222, 0.77777778],\n",
       "       [0.27777778, 0.72222222],\n",
       "       [0.56842105, 0.43157895],\n",
       "       [0.30973451, 0.69026549],\n",
       "       [0.78114478, 0.21885522],\n",
       "       [0.27777778, 0.72222222],\n",
       "       [0.56842105, 0.43157895],\n",
       "       [0.78114478, 0.21885522],\n",
       "       [0.78114478, 0.21885522],\n",
       "       [1.        , 0.        ],\n",
       "       [0.78114478, 0.21885522],\n",
       "       [0.30973451, 0.69026549],\n",
       "       [0.78114478, 0.21885522],\n",
       "       [0.78114478, 0.21885522],\n",
       "       [0.30973451, 0.69026549],\n",
       "       [0.04794521, 0.95205479],\n",
       "       [0.04794521, 0.95205479]])"
      ]
     },
     "execution_count": 41,
     "metadata": {},
     "output_type": "execute_result"
    }
   ],
   "source": [
    "#Obter a previsões da probabilidade\n",
    "#Note que ele retorna  probabilidade da classe 0 e 1 respectivamente\n",
    "dt_previsoes_prob = dt.predict_proba(X_teste)\n",
    "dt_previsoes_prob"
   ]
  },
  {
   "cell_type": "markdown",
   "metadata": {},
   "source": [
    "### Matriz de Confusão "
   ]
  },
  {
   "cell_type": "code",
   "execution_count": 42,
   "metadata": {},
   "outputs": [
    {
     "data": {
      "image/png": "[encoded data removed]",
      "text/plain": [
       "<Figure size 576x396 with 2 Axes>"
      ]
     },
     "metadata": {},
     "output_type": "display_data"
    }
   ],
   "source": [
    "sns.heatmap(confusion_matrix(y_teste, dt_previsoes), cmap='OrRd', annot=True, fmt='2.0f')\n",
    "plt.title('Árvore de Decisão')\n",
    "plt.ylabel('P R E V I S T O')\n",
    "plt.xlabel('R E A L')\n",
    "plt.show()"
   ]
  },
  {
   "cell_type": "code",
   "execution_count": 43,
   "metadata": {},
   "outputs": [
    {
     "name": "stdout",
     "output_type": "stream",
     "text": [
      "Acurácia:0.8\n",
      "Precisão:0.84\n",
      "Recall ou Sensibilidade:0.73\n",
      "F1-Score:0.78\n",
      "Kappa:0.59\n",
      "Curva ROC:0.8\n"
     ]
    }
   ],
   "source": [
    "#Acurácia, Sensibilidade positiva (VP/(VP+FN),  Precisão, Recall, F1-Score\n",
    "acuracia = accuracy_score(y_teste,dt_previsoes)\n",
    "precisao = precision_score(y_teste,dt_previsoes)\n",
    "recall = recall_score(y_teste,dt_previsoes)\n",
    "f1Score = f1_score(y_teste,dt_previsoes)\n",
    "dt_curva_roc = roc_auc_score(y_teste,dt_previsoes)\n",
    "kappa = cohen_kappa_score(y_teste,dt_previsoes)\n",
    "print(f'Acurácia:{round(acuracia,2)}')\n",
    "print(f'Precisão:{round(precisao,2)}')\n",
    "print(f'Recall ou Sensibilidade:{round(recall,2)}')\n",
    "print(f'F1-Score:{round(f1Score,2)}')\n",
    "print(f'Kappa:{round(kappa,2)}')\n",
    "print(f'Curva ROC:{round(dt_curva_roc,2)}')"
   ]
  },
  {
   "cell_type": "code",
   "execution_count": 44,
   "metadata": {},
   "outputs": [
    {
     "name": "stdout",
     "output_type": "stream",
     "text": [
      "              precision    recall  f1-score   support\n",
      "\n",
      "           0       0.76      0.86      0.81       150\n",
      "           1       0.84      0.73      0.78       150\n",
      "\n",
      "    accuracy                           0.80       300\n",
      "   macro avg       0.80      0.80      0.80       300\n",
      "weighted avg       0.80      0.80      0.80       300\n",
      "\n"
     ]
    }
   ],
   "source": [
    "print(classification_report(y_teste, dt.predict(X_teste)))"
   ]
  },
  {
   "cell_type": "markdown",
   "metadata": {},
   "source": [
    "### Curva ROC"
   ]
  },
  {
   "cell_type": "code",
   "execution_count": 45,
   "metadata": {},
   "outputs": [
    {
     "data": {
      "image/png": "[encoded data removed]",
      "text/plain": [
       "<Figure size 576x396 with 1 Axes>"
      ]
     },
     "metadata": {},
     "output_type": "display_data"
    }
   ],
   "source": [
    "knc_fp,knc_vp,lim1 = roc_curve(y_teste,knc_previsoes)\n",
    "dt_fp,dt_vp,lim2 = roc_curve(y_teste,dt_previsoes)\n",
    "plt.plot(knc_fp,knc_vp, marker='.', label='KNN='+str(round(knc_curva_roc,2)),color=\"orange\")\n",
    "plt.plot(dt_fp,dt_vp, marker='.', label='Decision Tree='+str(round(dt_curva_roc,2)),color=\"blue\")\n",
    "plt.plot([0, 1], [0, 1], color='black', linestyle='--')\n",
    "# alterando o nome dos eixos\n",
    "plt.xlabel('1- Especificidade')\n",
    "plt.ylabel('Sensibilidade')\n",
    "# Legenda\n",
    "plt.legend()\n",
    "# Mostrando o gráfico\n",
    "plt.show()\n",
    "#fig.savefig(\"images/mlpr_0305.png\")"
   ]
  },
  {
   "cell_type": "code",
   "execution_count": 46,
   "metadata": {},
   "outputs": [
    {
     "data": {
      "image/png": "[encoded data removed]",
      "text/plain": [
       "<Figure size 576x396 with 1 Axes>"
      ]
     },
     "metadata": {},
     "output_type": "display_data"
    }
   ],
   "source": [
    "#Aqui estamos pegando apenas da classe 1\n",
    "knc_probs = knc_previsoes_prob[:,1]\n",
    "dt_probs = dt_previsoes_prob[:,1]\n",
    "knc_fp,knc_vp,lim1 = roc_curve(y_teste,knc_probs)\n",
    "dt_fp,dt_vp,lim2 = roc_curve(y_teste,dt_probs)\n",
    "plt.plot(knc_fp,knc_vp, marker='.', label='KNN',color=\"orange\")\n",
    "plt.plot(dt_fp,dt_vp, marker='.', label='Decision Tree',color=\"blue\")\n",
    "plt.plot([0, 1], [0, 1], color='black', linestyle='--')\n",
    "# alterando o nome dos eixos\n",
    "plt.xlabel('1- Especificidade')\n",
    "plt.ylabel('Sensibilidade')\n",
    "# Legenda\n",
    "plt.legend()\n",
    "# Mostrando o gráfico\n",
    "plt.show()\n",
    "#fig.savefig(\"images/mlpr_0305.png\")"
   ]
  },
  {
   "cell_type": "code",
   "execution_count": 47,
   "metadata": {},
   "outputs": [
    {
     "data": {
      "text/plain": [
       "array([0], dtype=int64)"
      ]
     },
     "execution_count": 47,
     "metadata": {},
     "output_type": "execute_result"
    }
   ],
   "source": [
    "dt_previsoes_1 = dt.predict(X_teste[:1])\n",
    "dt_previsoes_1"
   ]
  },
  {
   "cell_type": "code",
   "execution_count": 48,
   "metadata": {},
   "outputs": [
    {
     "data": {
      "text/plain": [
       "array([[0.56842105, 0.43157895]])"
      ]
     },
     "execution_count": 48,
     "metadata": {},
     "output_type": "execute_result"
    }
   ],
   "source": [
    "dt_previsoes_1 = dt.predict_proba(X_teste[:1])\n",
    "dt_previsoes_1"
   ]
  },
  {
   "cell_type": "markdown",
   "metadata": {},
   "source": [
    "### Referências"
   ]
  },
  {
   "cell_type": "markdown",
   "metadata": {},
   "source": [
    "### Harrison, Matt. Machine Learning – Guia de Referência Rápida. Novatec Editora. Edição do Kindle. \n",
    "### KNeighborsClassifier. Disponível em: https://scikit-learn.org/stable/modules/generated/sklearn.neighbors.KNeighborsClassifier.html. Acesso em 19/10/2022.\n",
    "### Decision Tree. Disponível em: https://scikit-learn.org/stable/modules/generated/sklearn.tree.DecisionTreeClassifier.html. Acesso em 19/10/2022.\n",
    "### RandomForestClassifier. Disponível em: https://scikit-learn.org/stable/modules/generated/sklearn.ensemble.RandomForestClassifier.html. Acesso em 19/10/2022."
   ]
  }
 ],
 "metadata": {
  "jupytext": {
   "formats": "ipynb,py:light"
  },
  "kernelspec": {
   "display_name": "Python 3",
   "language": "python",
   "name": "python3"
  },
  "language_info": {
   "codemirror_mode": {
    "name": "ipython",
    "version": 3
   },
   "file_extension": ".py",
   "mimetype": "text/x-python",
   "name": "python",
   "nbconvert_exporter": "python",
   "pygments_lexer": "ipython3",
   "version": "3.8.8"
  }
 },
 "nbformat": 4,
 "nbformat_minor": 2
}
